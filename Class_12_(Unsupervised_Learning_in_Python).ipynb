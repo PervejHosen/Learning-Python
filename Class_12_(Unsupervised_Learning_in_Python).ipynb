{
  "nbformat": 4,
  "nbformat_minor": 0,
  "metadata": {
    "colab": {
      "provenance": [],
      "toc_visible": true,
      "include_colab_link": true
    },
    "kernelspec": {
      "name": "python3",
      "display_name": "Python 3"
    },
    "language_info": {
      "name": "python"
    }
  },
  "cells": [
    {
      "cell_type": "markdown",
      "metadata": {
        "id": "view-in-github",
        "colab_type": "text"
      },
      "source": [
        "<a href=\"https://colab.research.google.com/github/PervejHosen/Learning-Python-for-DataScience/blob/main/Class_12_(Unsupervised_Learning_in_Python).ipynb\" target=\"_parent\"><img src=\"https://colab.research.google.com/assets/colab-badge.svg\" alt=\"Open In Colab\"/></a>"
      ]
    },
    {
      "cell_type": "markdown",
      "source": [
        "# **Unsupervised Learning:**\n",
        "\n",
        "Unsupervised learning is a class of machine learning techniques for discovering patterns in data.\n",
        "\n",
        "For instance, finding the natural \"clusters\" of customers based on their purchase histories, or searching for patterns and correlations among these purchases, and using these patterns to express the data in a compressed form.\n",
        "\n",
        "These are examples of unsupervised learning techniques called \"clustering\" and \"dimension reduction\"."
      ],
      "metadata": {
        "id": "vjj-ZLaKm5om"
      }
    },
    {
      "cell_type": "markdown",
      "source": [
        "## **Supervised vs Unsupervised Learning**\n",
        "\n",
        "Unsupervised learning is defined in opposition to supervised learning. An example of supervised learning is using the measurements of tumors to classify them as benign or cancerous.\n",
        "\n",
        "In this case, the pattern discovery is guided, or \"supervised\", so that the patterns are as useful as possible for predicting the label: benign or cancerous.\n",
        "\n",
        "Unsupervised learning, in contrast, is learning without labels. It is pure pattern discovery, unguided by a prediction task."
      ],
      "metadata": {
        "id": "b67ifpHDnTJ2"
      }
    },
    {
      "cell_type": "markdown",
      "source": [
        "## **k-means clustering with scikit-learn and iris dataset:**\n",
        "\n",
        "The iris samples from scikit-learn are represented as an array. To start, import kmeans from scikit-learn. Then create a kmeans model, specifying the number of clusters you want to find. Let's specify 3 clusters, since there are three species of iris. Now call the fit method of the model, passing the array of samples. This fits the model to the data, by locating and remembering the regions where the different clusters occur. Then we can use the predict method of the model on these same samples. This returns a cluster label for each sample, indicating to which cluster a sample belongs. Let's assign the result to labels, and print it out."
      ],
      "metadata": {
        "id": "dhK83nJ2oLSv"
      }
    },
    {
      "cell_type": "markdown",
      "source": [
        "**iris dataset's Attribute Information:**\n",
        "\n",
        "Sepal Length in cm\n",
        "\n",
        "Sepal Width in cm\n",
        "\n",
        "Petal Length in cm\n",
        "\n",
        "Petal Width in cm\n",
        "\n",
        "Class: (Iris Setosa, Iris Versicolor, Iris Virginica)"
      ],
      "metadata": {
        "id": "trAxCzHFpPeI"
      }
    },
    {
      "cell_type": "code",
      "execution_count": null,
      "metadata": {
        "id": "6a8paG_EmnVf"
      },
      "outputs": [],
      "source": [
        "import pandas as pd\n",
        "import numpy as np\n",
        "import seaborn as sns\n",
        "import matplotlib.pyplot as plt\n",
        "\n",
        "from sklearn.datasets import load_iris"
      ]
    },
    {
      "cell_type": "code",
      "source": [
        "iris = load_iris()\n",
        "iris = sns.load_dataset('iris')\n",
        "iris.head()"
      ],
      "metadata": {
        "colab": {
          "base_uri": "https://localhost:8080/",
          "height": 206
        },
        "id": "QbkMsLoJptRq",
        "outputId": "601555ee-1521-415b-d119-0e6a05f35e53"
      },
      "execution_count": null,
      "outputs": [
        {
          "output_type": "execute_result",
          "data": {
            "text/plain": [
              "   sepal_length  sepal_width  petal_length  petal_width species\n",
              "0           5.1          3.5           1.4          0.2  setosa\n",
              "1           4.9          3.0           1.4          0.2  setosa\n",
              "2           4.7          3.2           1.3          0.2  setosa\n",
              "3           4.6          3.1           1.5          0.2  setosa\n",
              "4           5.0          3.6           1.4          0.2  setosa"
            ],
            "text/html": [
              "\n",
              "  <div id=\"df-a7492759-b9fd-404a-b152-7c383707f272\" class=\"colab-df-container\">\n",
              "    <div>\n",
              "<style scoped>\n",
              "    .dataframe tbody tr th:only-of-type {\n",
              "        vertical-align: middle;\n",
              "    }\n",
              "\n",
              "    .dataframe tbody tr th {\n",
              "        vertical-align: top;\n",
              "    }\n",
              "\n",
              "    .dataframe thead th {\n",
              "        text-align: right;\n",
              "    }\n",
              "</style>\n",
              "<table border=\"1\" class=\"dataframe\">\n",
              "  <thead>\n",
              "    <tr style=\"text-align: right;\">\n",
              "      <th></th>\n",
              "      <th>sepal_length</th>\n",
              "      <th>sepal_width</th>\n",
              "      <th>petal_length</th>\n",
              "      <th>petal_width</th>\n",
              "      <th>species</th>\n",
              "    </tr>\n",
              "  </thead>\n",
              "  <tbody>\n",
              "    <tr>\n",
              "      <th>0</th>\n",
              "      <td>5.1</td>\n",
              "      <td>3.5</td>\n",
              "      <td>1.4</td>\n",
              "      <td>0.2</td>\n",
              "      <td>setosa</td>\n",
              "    </tr>\n",
              "    <tr>\n",
              "      <th>1</th>\n",
              "      <td>4.9</td>\n",
              "      <td>3.0</td>\n",
              "      <td>1.4</td>\n",
              "      <td>0.2</td>\n",
              "      <td>setosa</td>\n",
              "    </tr>\n",
              "    <tr>\n",
              "      <th>2</th>\n",
              "      <td>4.7</td>\n",
              "      <td>3.2</td>\n",
              "      <td>1.3</td>\n",
              "      <td>0.2</td>\n",
              "      <td>setosa</td>\n",
              "    </tr>\n",
              "    <tr>\n",
              "      <th>3</th>\n",
              "      <td>4.6</td>\n",
              "      <td>3.1</td>\n",
              "      <td>1.5</td>\n",
              "      <td>0.2</td>\n",
              "      <td>setosa</td>\n",
              "    </tr>\n",
              "    <tr>\n",
              "      <th>4</th>\n",
              "      <td>5.0</td>\n",
              "      <td>3.6</td>\n",
              "      <td>1.4</td>\n",
              "      <td>0.2</td>\n",
              "      <td>setosa</td>\n",
              "    </tr>\n",
              "  </tbody>\n",
              "</table>\n",
              "</div>\n",
              "    <div class=\"colab-df-buttons\">\n",
              "\n",
              "  <div class=\"colab-df-container\">\n",
              "    <button class=\"colab-df-convert\" onclick=\"convertToInteractive('df-a7492759-b9fd-404a-b152-7c383707f272')\"\n",
              "            title=\"Convert this dataframe to an interactive table.\"\n",
              "            style=\"display:none;\">\n",
              "\n",
              "  <svg xmlns=\"http://www.w3.org/2000/svg\" height=\"24px\" viewBox=\"0 -960 960 960\">\n",
              "    <path d=\"M120-120v-720h720v720H120Zm60-500h600v-160H180v160Zm220 220h160v-160H400v160Zm0 220h160v-160H400v160ZM180-400h160v-160H180v160Zm440 0h160v-160H620v160ZM180-180h160v-160H180v160Zm440 0h160v-160H620v160Z\"/>\n",
              "  </svg>\n",
              "    </button>\n",
              "\n",
              "  <style>\n",
              "    .colab-df-container {\n",
              "      display:flex;\n",
              "      gap: 12px;\n",
              "    }\n",
              "\n",
              "    .colab-df-convert {\n",
              "      background-color: #E8F0FE;\n",
              "      border: none;\n",
              "      border-radius: 50%;\n",
              "      cursor: pointer;\n",
              "      display: none;\n",
              "      fill: #1967D2;\n",
              "      height: 32px;\n",
              "      padding: 0 0 0 0;\n",
              "      width: 32px;\n",
              "    }\n",
              "\n",
              "    .colab-df-convert:hover {\n",
              "      background-color: #E2EBFA;\n",
              "      box-shadow: 0px 1px 2px rgba(60, 64, 67, 0.3), 0px 1px 3px 1px rgba(60, 64, 67, 0.15);\n",
              "      fill: #174EA6;\n",
              "    }\n",
              "\n",
              "    .colab-df-buttons div {\n",
              "      margin-bottom: 4px;\n",
              "    }\n",
              "\n",
              "    [theme=dark] .colab-df-convert {\n",
              "      background-color: #3B4455;\n",
              "      fill: #D2E3FC;\n",
              "    }\n",
              "\n",
              "    [theme=dark] .colab-df-convert:hover {\n",
              "      background-color: #434B5C;\n",
              "      box-shadow: 0px 1px 3px 1px rgba(0, 0, 0, 0.15);\n",
              "      filter: drop-shadow(0px 1px 2px rgba(0, 0, 0, 0.3));\n",
              "      fill: #FFFFFF;\n",
              "    }\n",
              "  </style>\n",
              "\n",
              "    <script>\n",
              "      const buttonEl =\n",
              "        document.querySelector('#df-a7492759-b9fd-404a-b152-7c383707f272 button.colab-df-convert');\n",
              "      buttonEl.style.display =\n",
              "        google.colab.kernel.accessAllowed ? 'block' : 'none';\n",
              "\n",
              "      async function convertToInteractive(key) {\n",
              "        const element = document.querySelector('#df-a7492759-b9fd-404a-b152-7c383707f272');\n",
              "        const dataTable =\n",
              "          await google.colab.kernel.invokeFunction('convertToInteractive',\n",
              "                                                    [key], {});\n",
              "        if (!dataTable) return;\n",
              "\n",
              "        const docLinkHtml = 'Like what you see? Visit the ' +\n",
              "          '<a target=\"_blank\" href=https://colab.research.google.com/notebooks/data_table.ipynb>data table notebook</a>'\n",
              "          + ' to learn more about interactive tables.';\n",
              "        element.innerHTML = '';\n",
              "        dataTable['output_type'] = 'display_data';\n",
              "        await google.colab.output.renderOutput(dataTable, element);\n",
              "        const docLink = document.createElement('div');\n",
              "        docLink.innerHTML = docLinkHtml;\n",
              "        element.appendChild(docLink);\n",
              "      }\n",
              "    </script>\n",
              "  </div>\n",
              "\n",
              "\n",
              "<div id=\"df-9cec461a-cc6f-4fd4-b1a8-bad5cb57c2b5\">\n",
              "  <button class=\"colab-df-quickchart\" onclick=\"quickchart('df-9cec461a-cc6f-4fd4-b1a8-bad5cb57c2b5')\"\n",
              "            title=\"Suggest charts.\"\n",
              "            style=\"display:none;\">\n",
              "\n",
              "<svg xmlns=\"http://www.w3.org/2000/svg\" height=\"24px\"viewBox=\"0 0 24 24\"\n",
              "     width=\"24px\">\n",
              "    <g>\n",
              "        <path d=\"M19 3H5c-1.1 0-2 .9-2 2v14c0 1.1.9 2 2 2h14c1.1 0 2-.9 2-2V5c0-1.1-.9-2-2-2zM9 17H7v-7h2v7zm4 0h-2V7h2v10zm4 0h-2v-4h2v4z\"/>\n",
              "    </g>\n",
              "</svg>\n",
              "  </button>\n",
              "\n",
              "<style>\n",
              "  .colab-df-quickchart {\n",
              "      --bg-color: #E8F0FE;\n",
              "      --fill-color: #1967D2;\n",
              "      --hover-bg-color: #E2EBFA;\n",
              "      --hover-fill-color: #174EA6;\n",
              "      --disabled-fill-color: #AAA;\n",
              "      --disabled-bg-color: #DDD;\n",
              "  }\n",
              "\n",
              "  [theme=dark] .colab-df-quickchart {\n",
              "      --bg-color: #3B4455;\n",
              "      --fill-color: #D2E3FC;\n",
              "      --hover-bg-color: #434B5C;\n",
              "      --hover-fill-color: #FFFFFF;\n",
              "      --disabled-bg-color: #3B4455;\n",
              "      --disabled-fill-color: #666;\n",
              "  }\n",
              "\n",
              "  .colab-df-quickchart {\n",
              "    background-color: var(--bg-color);\n",
              "    border: none;\n",
              "    border-radius: 50%;\n",
              "    cursor: pointer;\n",
              "    display: none;\n",
              "    fill: var(--fill-color);\n",
              "    height: 32px;\n",
              "    padding: 0;\n",
              "    width: 32px;\n",
              "  }\n",
              "\n",
              "  .colab-df-quickchart:hover {\n",
              "    background-color: var(--hover-bg-color);\n",
              "    box-shadow: 0 1px 2px rgba(60, 64, 67, 0.3), 0 1px 3px 1px rgba(60, 64, 67, 0.15);\n",
              "    fill: var(--button-hover-fill-color);\n",
              "  }\n",
              "\n",
              "  .colab-df-quickchart-complete:disabled,\n",
              "  .colab-df-quickchart-complete:disabled:hover {\n",
              "    background-color: var(--disabled-bg-color);\n",
              "    fill: var(--disabled-fill-color);\n",
              "    box-shadow: none;\n",
              "  }\n",
              "\n",
              "  .colab-df-spinner {\n",
              "    border: 2px solid var(--fill-color);\n",
              "    border-color: transparent;\n",
              "    border-bottom-color: var(--fill-color);\n",
              "    animation:\n",
              "      spin 1s steps(1) infinite;\n",
              "  }\n",
              "\n",
              "  @keyframes spin {\n",
              "    0% {\n",
              "      border-color: transparent;\n",
              "      border-bottom-color: var(--fill-color);\n",
              "      border-left-color: var(--fill-color);\n",
              "    }\n",
              "    20% {\n",
              "      border-color: transparent;\n",
              "      border-left-color: var(--fill-color);\n",
              "      border-top-color: var(--fill-color);\n",
              "    }\n",
              "    30% {\n",
              "      border-color: transparent;\n",
              "      border-left-color: var(--fill-color);\n",
              "      border-top-color: var(--fill-color);\n",
              "      border-right-color: var(--fill-color);\n",
              "    }\n",
              "    40% {\n",
              "      border-color: transparent;\n",
              "      border-right-color: var(--fill-color);\n",
              "      border-top-color: var(--fill-color);\n",
              "    }\n",
              "    60% {\n",
              "      border-color: transparent;\n",
              "      border-right-color: var(--fill-color);\n",
              "    }\n",
              "    80% {\n",
              "      border-color: transparent;\n",
              "      border-right-color: var(--fill-color);\n",
              "      border-bottom-color: var(--fill-color);\n",
              "    }\n",
              "    90% {\n",
              "      border-color: transparent;\n",
              "      border-bottom-color: var(--fill-color);\n",
              "    }\n",
              "  }\n",
              "</style>\n",
              "\n",
              "  <script>\n",
              "    async function quickchart(key) {\n",
              "      const quickchartButtonEl =\n",
              "        document.querySelector('#' + key + ' button');\n",
              "      quickchartButtonEl.disabled = true;  // To prevent multiple clicks.\n",
              "      quickchartButtonEl.classList.add('colab-df-spinner');\n",
              "      try {\n",
              "        const charts = await google.colab.kernel.invokeFunction(\n",
              "            'suggestCharts', [key], {});\n",
              "      } catch (error) {\n",
              "        console.error('Error during call to suggestCharts:', error);\n",
              "      }\n",
              "      quickchartButtonEl.classList.remove('colab-df-spinner');\n",
              "      quickchartButtonEl.classList.add('colab-df-quickchart-complete');\n",
              "    }\n",
              "    (() => {\n",
              "      let quickchartButtonEl =\n",
              "        document.querySelector('#df-9cec461a-cc6f-4fd4-b1a8-bad5cb57c2b5 button');\n",
              "      quickchartButtonEl.style.display =\n",
              "        google.colab.kernel.accessAllowed ? 'block' : 'none';\n",
              "    })();\n",
              "  </script>\n",
              "</div>\n",
              "    </div>\n",
              "  </div>\n"
            ]
          },
          "metadata": {},
          "execution_count": 2
        }
      ]
    },
    {
      "cell_type": "code",
      "source": [
        "# Load the Iris dataset from sklearn as an array\n",
        "iris = load_iris()\n",
        "\n",
        "X = iris.data\n",
        "y = iris.target\n",
        "iris"
      ],
      "metadata": {
        "colab": {
          "base_uri": "https://localhost:8080/"
        },
        "id": "514EB1tWvXWw",
        "outputId": "576ddca5-7574-4bc3-a4d6-af3055d98a3b"
      },
      "execution_count": null,
      "outputs": [
        {
          "output_type": "execute_result",
          "data": {
            "text/plain": [
              "{'data': array([[5.1, 3.5, 1.4, 0.2],\n",
              "        [4.9, 3. , 1.4, 0.2],\n",
              "        [4.7, 3.2, 1.3, 0.2],\n",
              "        [4.6, 3.1, 1.5, 0.2],\n",
              "        [5. , 3.6, 1.4, 0.2],\n",
              "        [5.4, 3.9, 1.7, 0.4],\n",
              "        [4.6, 3.4, 1.4, 0.3],\n",
              "        [5. , 3.4, 1.5, 0.2],\n",
              "        [4.4, 2.9, 1.4, 0.2],\n",
              "        [4.9, 3.1, 1.5, 0.1],\n",
              "        [5.4, 3.7, 1.5, 0.2],\n",
              "        [4.8, 3.4, 1.6, 0.2],\n",
              "        [4.8, 3. , 1.4, 0.1],\n",
              "        [4.3, 3. , 1.1, 0.1],\n",
              "        [5.8, 4. , 1.2, 0.2],\n",
              "        [5.7, 4.4, 1.5, 0.4],\n",
              "        [5.4, 3.9, 1.3, 0.4],\n",
              "        [5.1, 3.5, 1.4, 0.3],\n",
              "        [5.7, 3.8, 1.7, 0.3],\n",
              "        [5.1, 3.8, 1.5, 0.3],\n",
              "        [5.4, 3.4, 1.7, 0.2],\n",
              "        [5.1, 3.7, 1.5, 0.4],\n",
              "        [4.6, 3.6, 1. , 0.2],\n",
              "        [5.1, 3.3, 1.7, 0.5],\n",
              "        [4.8, 3.4, 1.9, 0.2],\n",
              "        [5. , 3. , 1.6, 0.2],\n",
              "        [5. , 3.4, 1.6, 0.4],\n",
              "        [5.2, 3.5, 1.5, 0.2],\n",
              "        [5.2, 3.4, 1.4, 0.2],\n",
              "        [4.7, 3.2, 1.6, 0.2],\n",
              "        [4.8, 3.1, 1.6, 0.2],\n",
              "        [5.4, 3.4, 1.5, 0.4],\n",
              "        [5.2, 4.1, 1.5, 0.1],\n",
              "        [5.5, 4.2, 1.4, 0.2],\n",
              "        [4.9, 3.1, 1.5, 0.2],\n",
              "        [5. , 3.2, 1.2, 0.2],\n",
              "        [5.5, 3.5, 1.3, 0.2],\n",
              "        [4.9, 3.6, 1.4, 0.1],\n",
              "        [4.4, 3. , 1.3, 0.2],\n",
              "        [5.1, 3.4, 1.5, 0.2],\n",
              "        [5. , 3.5, 1.3, 0.3],\n",
              "        [4.5, 2.3, 1.3, 0.3],\n",
              "        [4.4, 3.2, 1.3, 0.2],\n",
              "        [5. , 3.5, 1.6, 0.6],\n",
              "        [5.1, 3.8, 1.9, 0.4],\n",
              "        [4.8, 3. , 1.4, 0.3],\n",
              "        [5.1, 3.8, 1.6, 0.2],\n",
              "        [4.6, 3.2, 1.4, 0.2],\n",
              "        [5.3, 3.7, 1.5, 0.2],\n",
              "        [5. , 3.3, 1.4, 0.2],\n",
              "        [7. , 3.2, 4.7, 1.4],\n",
              "        [6.4, 3.2, 4.5, 1.5],\n",
              "        [6.9, 3.1, 4.9, 1.5],\n",
              "        [5.5, 2.3, 4. , 1.3],\n",
              "        [6.5, 2.8, 4.6, 1.5],\n",
              "        [5.7, 2.8, 4.5, 1.3],\n",
              "        [6.3, 3.3, 4.7, 1.6],\n",
              "        [4.9, 2.4, 3.3, 1. ],\n",
              "        [6.6, 2.9, 4.6, 1.3],\n",
              "        [5.2, 2.7, 3.9, 1.4],\n",
              "        [5. , 2. , 3.5, 1. ],\n",
              "        [5.9, 3. , 4.2, 1.5],\n",
              "        [6. , 2.2, 4. , 1. ],\n",
              "        [6.1, 2.9, 4.7, 1.4],\n",
              "        [5.6, 2.9, 3.6, 1.3],\n",
              "        [6.7, 3.1, 4.4, 1.4],\n",
              "        [5.6, 3. , 4.5, 1.5],\n",
              "        [5.8, 2.7, 4.1, 1. ],\n",
              "        [6.2, 2.2, 4.5, 1.5],\n",
              "        [5.6, 2.5, 3.9, 1.1],\n",
              "        [5.9, 3.2, 4.8, 1.8],\n",
              "        [6.1, 2.8, 4. , 1.3],\n",
              "        [6.3, 2.5, 4.9, 1.5],\n",
              "        [6.1, 2.8, 4.7, 1.2],\n",
              "        [6.4, 2.9, 4.3, 1.3],\n",
              "        [6.6, 3. , 4.4, 1.4],\n",
              "        [6.8, 2.8, 4.8, 1.4],\n",
              "        [6.7, 3. , 5. , 1.7],\n",
              "        [6. , 2.9, 4.5, 1.5],\n",
              "        [5.7, 2.6, 3.5, 1. ],\n",
              "        [5.5, 2.4, 3.8, 1.1],\n",
              "        [5.5, 2.4, 3.7, 1. ],\n",
              "        [5.8, 2.7, 3.9, 1.2],\n",
              "        [6. , 2.7, 5.1, 1.6],\n",
              "        [5.4, 3. , 4.5, 1.5],\n",
              "        [6. , 3.4, 4.5, 1.6],\n",
              "        [6.7, 3.1, 4.7, 1.5],\n",
              "        [6.3, 2.3, 4.4, 1.3],\n",
              "        [5.6, 3. , 4.1, 1.3],\n",
              "        [5.5, 2.5, 4. , 1.3],\n",
              "        [5.5, 2.6, 4.4, 1.2],\n",
              "        [6.1, 3. , 4.6, 1.4],\n",
              "        [5.8, 2.6, 4. , 1.2],\n",
              "        [5. , 2.3, 3.3, 1. ],\n",
              "        [5.6, 2.7, 4.2, 1.3],\n",
              "        [5.7, 3. , 4.2, 1.2],\n",
              "        [5.7, 2.9, 4.2, 1.3],\n",
              "        [6.2, 2.9, 4.3, 1.3],\n",
              "        [5.1, 2.5, 3. , 1.1],\n",
              "        [5.7, 2.8, 4.1, 1.3],\n",
              "        [6.3, 3.3, 6. , 2.5],\n",
              "        [5.8, 2.7, 5.1, 1.9],\n",
              "        [7.1, 3. , 5.9, 2.1],\n",
              "        [6.3, 2.9, 5.6, 1.8],\n",
              "        [6.5, 3. , 5.8, 2.2],\n",
              "        [7.6, 3. , 6.6, 2.1],\n",
              "        [4.9, 2.5, 4.5, 1.7],\n",
              "        [7.3, 2.9, 6.3, 1.8],\n",
              "        [6.7, 2.5, 5.8, 1.8],\n",
              "        [7.2, 3.6, 6.1, 2.5],\n",
              "        [6.5, 3.2, 5.1, 2. ],\n",
              "        [6.4, 2.7, 5.3, 1.9],\n",
              "        [6.8, 3. , 5.5, 2.1],\n",
              "        [5.7, 2.5, 5. , 2. ],\n",
              "        [5.8, 2.8, 5.1, 2.4],\n",
              "        [6.4, 3.2, 5.3, 2.3],\n",
              "        [6.5, 3. , 5.5, 1.8],\n",
              "        [7.7, 3.8, 6.7, 2.2],\n",
              "        [7.7, 2.6, 6.9, 2.3],\n",
              "        [6. , 2.2, 5. , 1.5],\n",
              "        [6.9, 3.2, 5.7, 2.3],\n",
              "        [5.6, 2.8, 4.9, 2. ],\n",
              "        [7.7, 2.8, 6.7, 2. ],\n",
              "        [6.3, 2.7, 4.9, 1.8],\n",
              "        [6.7, 3.3, 5.7, 2.1],\n",
              "        [7.2, 3.2, 6. , 1.8],\n",
              "        [6.2, 2.8, 4.8, 1.8],\n",
              "        [6.1, 3. , 4.9, 1.8],\n",
              "        [6.4, 2.8, 5.6, 2.1],\n",
              "        [7.2, 3. , 5.8, 1.6],\n",
              "        [7.4, 2.8, 6.1, 1.9],\n",
              "        [7.9, 3.8, 6.4, 2. ],\n",
              "        [6.4, 2.8, 5.6, 2.2],\n",
              "        [6.3, 2.8, 5.1, 1.5],\n",
              "        [6.1, 2.6, 5.6, 1.4],\n",
              "        [7.7, 3. , 6.1, 2.3],\n",
              "        [6.3, 3.4, 5.6, 2.4],\n",
              "        [6.4, 3.1, 5.5, 1.8],\n",
              "        [6. , 3. , 4.8, 1.8],\n",
              "        [6.9, 3.1, 5.4, 2.1],\n",
              "        [6.7, 3.1, 5.6, 2.4],\n",
              "        [6.9, 3.1, 5.1, 2.3],\n",
              "        [5.8, 2.7, 5.1, 1.9],\n",
              "        [6.8, 3.2, 5.9, 2.3],\n",
              "        [6.7, 3.3, 5.7, 2.5],\n",
              "        [6.7, 3. , 5.2, 2.3],\n",
              "        [6.3, 2.5, 5. , 1.9],\n",
              "        [6.5, 3. , 5.2, 2. ],\n",
              "        [6.2, 3.4, 5.4, 2.3],\n",
              "        [5.9, 3. , 5.1, 1.8]]),\n",
              " 'target': array([0, 0, 0, 0, 0, 0, 0, 0, 0, 0, 0, 0, 0, 0, 0, 0, 0, 0, 0, 0, 0, 0,\n",
              "        0, 0, 0, 0, 0, 0, 0, 0, 0, 0, 0, 0, 0, 0, 0, 0, 0, 0, 0, 0, 0, 0,\n",
              "        0, 0, 0, 0, 0, 0, 1, 1, 1, 1, 1, 1, 1, 1, 1, 1, 1, 1, 1, 1, 1, 1,\n",
              "        1, 1, 1, 1, 1, 1, 1, 1, 1, 1, 1, 1, 1, 1, 1, 1, 1, 1, 1, 1, 1, 1,\n",
              "        1, 1, 1, 1, 1, 1, 1, 1, 1, 1, 1, 1, 2, 2, 2, 2, 2, 2, 2, 2, 2, 2,\n",
              "        2, 2, 2, 2, 2, 2, 2, 2, 2, 2, 2, 2, 2, 2, 2, 2, 2, 2, 2, 2, 2, 2,\n",
              "        2, 2, 2, 2, 2, 2, 2, 2, 2, 2, 2, 2, 2, 2, 2, 2, 2, 2]),\n",
              " 'frame': None,\n",
              " 'target_names': array(['setosa', 'versicolor', 'virginica'], dtype='<U10'),\n",
              " 'DESCR': '.. _iris_dataset:\\n\\nIris plants dataset\\n--------------------\\n\\n**Data Set Characteristics:**\\n\\n    :Number of Instances: 150 (50 in each of three classes)\\n    :Number of Attributes: 4 numeric, predictive attributes and the class\\n    :Attribute Information:\\n        - sepal length in cm\\n        - sepal width in cm\\n        - petal length in cm\\n        - petal width in cm\\n        - class:\\n                - Iris-Setosa\\n                - Iris-Versicolour\\n                - Iris-Virginica\\n                \\n    :Summary Statistics:\\n\\n    ============== ==== ==== ======= ===== ====================\\n                    Min  Max   Mean    SD   Class Correlation\\n    ============== ==== ==== ======= ===== ====================\\n    sepal length:   4.3  7.9   5.84   0.83    0.7826\\n    sepal width:    2.0  4.4   3.05   0.43   -0.4194\\n    petal length:   1.0  6.9   3.76   1.76    0.9490  (high!)\\n    petal width:    0.1  2.5   1.20   0.76    0.9565  (high!)\\n    ============== ==== ==== ======= ===== ====================\\n\\n    :Missing Attribute Values: None\\n    :Class Distribution: 33.3% for each of 3 classes.\\n    :Creator: R.A. Fisher\\n    :Donor: Michael Marshall (MARSHALL%PLU@io.arc.nasa.gov)\\n    :Date: July, 1988\\n\\nThe famous Iris database, first used by Sir R.A. Fisher. The dataset is taken\\nfrom Fisher\\'s paper. Note that it\\'s the same as in R, but not as in the UCI\\nMachine Learning Repository, which has two wrong data points.\\n\\nThis is perhaps the best known database to be found in the\\npattern recognition literature.  Fisher\\'s paper is a classic in the field and\\nis referenced frequently to this day.  (See Duda & Hart, for example.)  The\\ndata set contains 3 classes of 50 instances each, where each class refers to a\\ntype of iris plant.  One class is linearly separable from the other 2; the\\nlatter are NOT linearly separable from each other.\\n\\n.. topic:: References\\n\\n   - Fisher, R.A. \"The use of multiple measurements in taxonomic problems\"\\n     Annual Eugenics, 7, Part II, 179-188 (1936); also in \"Contributions to\\n     Mathematical Statistics\" (John Wiley, NY, 1950).\\n   - Duda, R.O., & Hart, P.E. (1973) Pattern Classification and Scene Analysis.\\n     (Q327.D83) John Wiley & Sons.  ISBN 0-471-22361-1.  See page 218.\\n   - Dasarathy, B.V. (1980) \"Nosing Around the Neighborhood: A New System\\n     Structure and Classification Rule for Recognition in Partially Exposed\\n     Environments\".  IEEE Transactions on Pattern Analysis and Machine\\n     Intelligence, Vol. PAMI-2, No. 1, 67-71.\\n   - Gates, G.W. (1972) \"The Reduced Nearest Neighbor Rule\".  IEEE Transactions\\n     on Information Theory, May 1972, 431-433.\\n   - See also: 1988 MLC Proceedings, 54-64.  Cheeseman et al\"s AUTOCLASS II\\n     conceptual clustering system finds 3 classes in the data.\\n   - Many, many more ...',\n",
              " 'feature_names': ['sepal length (cm)',\n",
              "  'sepal width (cm)',\n",
              "  'petal length (cm)',\n",
              "  'petal width (cm)'],\n",
              " 'filename': 'iris.csv',\n",
              " 'data_module': 'sklearn.datasets.data'}"
            ]
          },
          "metadata": {},
          "execution_count": 4
        }
      ]
    },
    {
      "cell_type": "code",
      "source": [
        "from sklearn.cluster import KMeans\n",
        "\n",
        "model = KMeans (n_clusters= 3)\n",
        "model.fit(X)"
      ],
      "metadata": {
        "colab": {
          "base_uri": "https://localhost:8080/",
          "height": 129
        },
        "id": "kcrAamWUvsm-",
        "outputId": "d45dedbe-b9bb-480e-8ddc-bbec743bfd95"
      },
      "execution_count": null,
      "outputs": [
        {
          "output_type": "stream",
          "name": "stderr",
          "text": [
            "/usr/local/lib/python3.10/dist-packages/sklearn/cluster/_kmeans.py:870: FutureWarning: The default value of `n_init` will change from 10 to 'auto' in 1.4. Set the value of `n_init` explicitly to suppress the warning\n",
            "  warnings.warn(\n"
          ]
        },
        {
          "output_type": "execute_result",
          "data": {
            "text/plain": [
              "KMeans(n_clusters=3)"
            ],
            "text/html": [
              "<style>#sk-container-id-1 {color: black;background-color: white;}#sk-container-id-1 pre{padding: 0;}#sk-container-id-1 div.sk-toggleable {background-color: white;}#sk-container-id-1 label.sk-toggleable__label {cursor: pointer;display: block;width: 100%;margin-bottom: 0;padding: 0.3em;box-sizing: border-box;text-align: center;}#sk-container-id-1 label.sk-toggleable__label-arrow:before {content: \"▸\";float: left;margin-right: 0.25em;color: #696969;}#sk-container-id-1 label.sk-toggleable__label-arrow:hover:before {color: black;}#sk-container-id-1 div.sk-estimator:hover label.sk-toggleable__label-arrow:before {color: black;}#sk-container-id-1 div.sk-toggleable__content {max-height: 0;max-width: 0;overflow: hidden;text-align: left;background-color: #f0f8ff;}#sk-container-id-1 div.sk-toggleable__content pre {margin: 0.2em;color: black;border-radius: 0.25em;background-color: #f0f8ff;}#sk-container-id-1 input.sk-toggleable__control:checked~div.sk-toggleable__content {max-height: 200px;max-width: 100%;overflow: auto;}#sk-container-id-1 input.sk-toggleable__control:checked~label.sk-toggleable__label-arrow:before {content: \"▾\";}#sk-container-id-1 div.sk-estimator input.sk-toggleable__control:checked~label.sk-toggleable__label {background-color: #d4ebff;}#sk-container-id-1 div.sk-label input.sk-toggleable__control:checked~label.sk-toggleable__label {background-color: #d4ebff;}#sk-container-id-1 input.sk-hidden--visually {border: 0;clip: rect(1px 1px 1px 1px);clip: rect(1px, 1px, 1px, 1px);height: 1px;margin: -1px;overflow: hidden;padding: 0;position: absolute;width: 1px;}#sk-container-id-1 div.sk-estimator {font-family: monospace;background-color: #f0f8ff;border: 1px dotted black;border-radius: 0.25em;box-sizing: border-box;margin-bottom: 0.5em;}#sk-container-id-1 div.sk-estimator:hover {background-color: #d4ebff;}#sk-container-id-1 div.sk-parallel-item::after {content: \"\";width: 100%;border-bottom: 1px solid gray;flex-grow: 1;}#sk-container-id-1 div.sk-label:hover label.sk-toggleable__label {background-color: #d4ebff;}#sk-container-id-1 div.sk-serial::before {content: \"\";position: absolute;border-left: 1px solid gray;box-sizing: border-box;top: 0;bottom: 0;left: 50%;z-index: 0;}#sk-container-id-1 div.sk-serial {display: flex;flex-direction: column;align-items: center;background-color: white;padding-right: 0.2em;padding-left: 0.2em;position: relative;}#sk-container-id-1 div.sk-item {position: relative;z-index: 1;}#sk-container-id-1 div.sk-parallel {display: flex;align-items: stretch;justify-content: center;background-color: white;position: relative;}#sk-container-id-1 div.sk-item::before, #sk-container-id-1 div.sk-parallel-item::before {content: \"\";position: absolute;border-left: 1px solid gray;box-sizing: border-box;top: 0;bottom: 0;left: 50%;z-index: -1;}#sk-container-id-1 div.sk-parallel-item {display: flex;flex-direction: column;z-index: 1;position: relative;background-color: white;}#sk-container-id-1 div.sk-parallel-item:first-child::after {align-self: flex-end;width: 50%;}#sk-container-id-1 div.sk-parallel-item:last-child::after {align-self: flex-start;width: 50%;}#sk-container-id-1 div.sk-parallel-item:only-child::after {width: 0;}#sk-container-id-1 div.sk-dashed-wrapped {border: 1px dashed gray;margin: 0 0.4em 0.5em 0.4em;box-sizing: border-box;padding-bottom: 0.4em;background-color: white;}#sk-container-id-1 div.sk-label label {font-family: monospace;font-weight: bold;display: inline-block;line-height: 1.2em;}#sk-container-id-1 div.sk-label-container {text-align: center;}#sk-container-id-1 div.sk-container {/* jupyter's `normalize.less` sets `[hidden] { display: none; }` but bootstrap.min.css set `[hidden] { display: none !important; }` so we also need the `!important` here to be able to override the default hidden behavior on the sphinx rendered scikit-learn.org. See: https://github.com/scikit-learn/scikit-learn/issues/21755 */display: inline-block !important;position: relative;}#sk-container-id-1 div.sk-text-repr-fallback {display: none;}</style><div id=\"sk-container-id-1\" class=\"sk-top-container\"><div class=\"sk-text-repr-fallback\"><pre>KMeans(n_clusters=3)</pre><b>In a Jupyter environment, please rerun this cell to show the HTML representation or trust the notebook. <br />On GitHub, the HTML representation is unable to render, please try loading this page with nbviewer.org.</b></div><div class=\"sk-container\" hidden><div class=\"sk-item\"><div class=\"sk-estimator sk-toggleable\"><input class=\"sk-toggleable__control sk-hidden--visually\" id=\"sk-estimator-id-1\" type=\"checkbox\" checked><label for=\"sk-estimator-id-1\" class=\"sk-toggleable__label sk-toggleable__label-arrow\">KMeans</label><div class=\"sk-toggleable__content\"><pre>KMeans(n_clusters=3)</pre></div></div></div></div></div>"
            ]
          },
          "metadata": {},
          "execution_count": 5
        }
      ]
    },
    {
      "cell_type": "code",
      "source": [
        "labels = model.predict(X)\n",
        "print(labels)"
      ],
      "metadata": {
        "colab": {
          "base_uri": "https://localhost:8080/"
        },
        "id": "wAU-KqMyv8od",
        "outputId": "1e57c05a-1b38-4ad4-9cfc-e9d45cdb9b13"
      },
      "execution_count": null,
      "outputs": [
        {
          "output_type": "stream",
          "name": "stdout",
          "text": [
            "[1 1 1 1 1 1 1 1 1 1 1 1 1 1 1 1 1 1 1 1 1 1 1 1 1 1 1 1 1 1 1 1 1 1 1 1 1\n",
            " 1 1 1 1 1 1 1 1 1 1 1 1 1 0 0 2 0 0 0 0 0 0 0 0 0 0 0 0 0 0 0 0 0 0 0 0 0\n",
            " 0 0 0 2 0 0 0 0 0 0 0 0 0 0 0 0 0 0 0 0 0 0 0 0 0 0 2 0 2 2 2 2 0 2 2 2 2\n",
            " 2 2 0 0 2 2 2 2 0 2 0 2 0 2 2 0 0 2 2 2 2 2 0 2 2 2 2 0 2 2 2 0 2 2 2 0 2\n",
            " 2 0]\n"
          ]
        }
      ]
    },
    {
      "cell_type": "code",
      "source": [
        "new_data = np.array([[5.7, 4.4, 1.5, 0.4],\n",
        "                     [6.5, 3.2, 5.5, 1.8],\n",
        "                     [5.5, 3.9, 8.1, 1.3]])\n",
        "\n",
        "new_data"
      ],
      "metadata": {
        "colab": {
          "base_uri": "https://localhost:8080/"
        },
        "id": "64WoK-n9wDUJ",
        "outputId": "d4089ecd-5df3-444f-f7d9-b13f7f4a2b00"
      },
      "execution_count": null,
      "outputs": [
        {
          "output_type": "execute_result",
          "data": {
            "text/plain": [
              "array([[5.7, 4.4, 1.5, 0.4],\n",
              "       [6.5, 3.2, 5.5, 1.8],\n",
              "       [5.5, 3.9, 8.1, 1.3]])"
            ]
          },
          "metadata": {},
          "execution_count": 7
        }
      ]
    },
    {
      "cell_type": "code",
      "source": [
        "new_labels = model.predict(new_data)\n",
        "print(new_labels)"
      ],
      "metadata": {
        "colab": {
          "base_uri": "https://localhost:8080/"
        },
        "id": "M1OmWEZIwVbH",
        "outputId": "5ba0133f-63a6-482f-9624-e72fa5230cc6"
      },
      "execution_count": null,
      "outputs": [
        {
          "output_type": "stream",
          "name": "stdout",
          "text": [
            "[1 2 2]\n"
          ]
        }
      ]
    },
    {
      "cell_type": "code",
      "source": [
        "#Scatter Plots to show the clusters\n",
        "sepal_length = X[:,0]\n",
        "petal_length = X[:,2]\n",
        "\n",
        "plt.scatter(sepal_length, petal_length, c= labels)\n",
        "plt.show()"
      ],
      "metadata": {
        "colab": {
          "base_uri": "https://localhost:8080/",
          "height": 430
        },
        "id": "iOmgu0UNxZp-",
        "outputId": "cecf5da1-49a3-4aa4-db9d-d1686bccc53c"
      },
      "execution_count": null,
      "outputs": [
        {
          "output_type": "display_data",
          "data": {
            "text/plain": [
              "<Figure size 640x480 with 1 Axes>"
            ],
            "image/png": "[encoded data removed]"
          },
          "metadata": {}
        }
      ]
    },
    {
      "cell_type": "markdown",
      "source": [
        "# **Evaluating a Clustering**\n",
        "\n",
        "A direct approach is to compare the clusters with the iris species."
      ],
      "metadata": {
        "id": "3fCAYA9ZycBa"
      }
    },
    {
      "cell_type": "code",
      "source": [
        "#Evaluating a Clustering\n",
        "\n",
        "df = pd.DataFrame ({'labels': labels,\n",
        "                    'species': y})\n",
        "print(df)"
      ],
      "metadata": {
        "colab": {
          "base_uri": "https://localhost:8080/"
        },
        "id": "-5aZWfeYx40G",
        "outputId": "bdbd7748-33f3-4d57-b4ec-29369822b154"
      },
      "execution_count": null,
      "outputs": [
        {
          "output_type": "stream",
          "name": "stdout",
          "text": [
            "     labels  species\n",
            "0         1        0\n",
            "1         1        0\n",
            "2         1        0\n",
            "3         1        0\n",
            "4         1        0\n",
            "..      ...      ...\n",
            "145       2        2\n",
            "146       0        2\n",
            "147       2        2\n",
            "148       2        2\n",
            "149       0        2\n",
            "\n",
            "[150 rows x 2 columns]\n"
          ]
        }
      ]
    },
    {
      "cell_type": "code",
      "source": [
        "ct = pd.crosstab(df['labels'], df['species'])\n",
        "print(ct)"
      ],
      "metadata": {
        "colab": {
          "base_uri": "https://localhost:8080/"
        },
        "id": "Yqbw8iXmzTbU",
        "outputId": "0ededfbf-d078-43a0-b584-b1f2b77b837a"
      },
      "execution_count": null,
      "outputs": [
        {
          "output_type": "stream",
          "name": "stdout",
          "text": [
            "species   0   1   2\n",
            "labels             \n",
            "0         0  48  14\n",
            "1        50   0   0\n",
            "2         0   2  36\n"
          ]
        }
      ]
    },
    {
      "cell_type": "markdown",
      "source": [
        "# **Measuring the Clustering Quality using Inertia:**\n",
        "\n",
        "How spread out the samples within each cluster are can be measured by the \"inertia\". Intuitively, inertia measures how far samples are from their centroids.\n",
        "\n",
        "We want clusters that are not spread out, so lower values of the inertia are better. The inertia of a kmeans model is measured automatically when any of the fit methods are called, and is available afterwards as the inertia attribute. In fact, kmeans aims to place the clusters in a way that minimizes the inertia."
      ],
      "metadata": {
        "id": "IY2dyqjFz9Ee"
      }
    },
    {
      "cell_type": "code",
      "source": [
        "print(model.inertia_)"
      ],
      "metadata": {
        "colab": {
          "base_uri": "https://localhost:8080/"
        },
        "id": "H9K9zfmIz0ob",
        "outputId": "bf7c6ee1-ff87-40aa-b97c-b2b3382e1774"
      },
      "execution_count": null,
      "outputs": [
        {
          "output_type": "stream",
          "name": "stdout",
          "text": [
            "78.851441426146\n"
          ]
        }
      ]
    },
    {
      "cell_type": "markdown",
      "source": [
        "![Screenshot 2023-08-31 at 7.40.05 PM.png](data:image/png;base64,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)"
      ],
      "metadata": {
        "id": "2axJ_JYn0iVc"
      }
    },
    {
      "cell_type": "markdown",
      "source": [
        "![Screenshot 2023-08-31 at 7.41.19 PM.png](data:image/png;base64,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)"
      ],
      "metadata": {
        "id": "Pl-1ZYpb02Yn"
      }
    },
    {
      "cell_type": "markdown",
      "source": [
        "**Transforming features for better clusterings**"
      ],
      "metadata": {
        "id": "fhSBFNsl1LMM"
      }
    },
    {
      "cell_type": "markdown",
      "source": [
        "# **Piedmont wines dataset:**\n",
        "\n",
        "We have 178 samples of red wine from the Piedmont region of Italy. The features measure chemical composition (like alcohol content) and visual properties like color intensity. The samples come from 3 distinct varieties of wine."
      ],
      "metadata": {
        "id": "XHT4uy1H1PjV"
      }
    },
    {
      "cell_type": "code",
      "source": [
        "from sklearn.datasets import load_wine\n",
        "\n",
        "df = load_wine(as_frame=True)\n",
        "df = df.frame\n",
        "df.head()"
      ],
      "metadata": {
        "colab": {
          "base_uri": "https://localhost:8080/",
          "height": 226
        },
        "id": "bv07AenO0VhD",
        "outputId": "75a01eac-897e-4066-bdbc-c3ee7fc3f7fc"
      },
      "execution_count": null,
      "outputs": [
        {
          "output_type": "execute_result",
          "data": {
            "text/plain": [
              "   alcohol  malic_acid   ash  alcalinity_of_ash  magnesium  total_phenols  \\\n",
              "0    14.23        1.71  2.43               15.6      127.0           2.80   \n",
              "1    13.20        1.78  2.14               11.2      100.0           2.65   \n",
              "2    13.16        2.36  2.67               18.6      101.0           2.80   \n",
              "3    14.37        1.95  2.50               16.8      113.0           3.85   \n",
              "4    13.24        2.59  2.87               21.0      118.0           2.80   \n",
              "\n",
              "   flavanoids  nonflavanoid_phenols  proanthocyanins  color_intensity   hue  \\\n",
              "0        3.06                  0.28             2.29             5.64  1.04   \n",
              "1        2.76                  0.26             1.28             4.38  1.05   \n",
              "2        3.24                  0.30             2.81             5.68  1.03   \n",
              "3        3.49                  0.24             2.18             7.80  0.86   \n",
              "4        2.69                  0.39             1.82             4.32  1.04   \n",
              "\n",
              "   od280/od315_of_diluted_wines  proline  target  \n",
              "0                          3.92   1065.0       0  \n",
              "1                          3.40   1050.0       0  \n",
              "2                          3.17   1185.0       0  \n",
              "3                          3.45   1480.0       0  \n",
              "4                          2.93    735.0       0  "
            ],
            "text/html": [
              "\n",
              "  <div id=\"df-4828fcc4-ab15-41e7-9be3-fd7b761cfd55\" class=\"colab-df-container\">\n",
              "    <div>\n",
              "<style scoped>\n",
              "    .dataframe tbody tr th:only-of-type {\n",
              "        vertical-align: middle;\n",
              "    }\n",
              "\n",
              "    .dataframe tbody tr th {\n",
              "        vertical-align: top;\n",
              "    }\n",
              "\n",
              "    .dataframe thead th {\n",
              "        text-align: right;\n",
              "    }\n",
              "</style>\n",
              "<table border=\"1\" class=\"dataframe\">\n",
              "  <thead>\n",
              "    <tr style=\"text-align: right;\">\n",
              "      <th></th>\n",
              "      <th>alcohol</th>\n",
              "      <th>malic_acid</th>\n",
              "      <th>ash</th>\n",
              "      <th>alcalinity_of_ash</th>\n",
              "      <th>magnesium</th>\n",
              "      <th>total_phenols</th>\n",
              "      <th>flavanoids</th>\n",
              "      <th>nonflavanoid_phenols</th>\n",
              "      <th>proanthocyanins</th>\n",
              "      <th>color_intensity</th>\n",
              "      <th>hue</th>\n",
              "      <th>od280/od315_of_diluted_wines</th>\n",
              "      <th>proline</th>\n",
              "      <th>target</th>\n",
              "    </tr>\n",
              "  </thead>\n",
              "  <tbody>\n",
              "    <tr>\n",
              "      <th>0</th>\n",
              "      <td>14.23</td>\n",
              "      <td>1.71</td>\n",
              "      <td>2.43</td>\n",
              "      <td>15.6</td>\n",
              "      <td>127.0</td>\n",
              "      <td>2.80</td>\n",
              "      <td>3.06</td>\n",
              "      <td>0.28</td>\n",
              "      <td>2.29</td>\n",
              "      <td>5.64</td>\n",
              "      <td>1.04</td>\n",
              "      <td>3.92</td>\n",
              "      <td>1065.0</td>\n",
              "      <td>0</td>\n",
              "    </tr>\n",
              "    <tr>\n",
              "      <th>1</th>\n",
              "      <td>13.20</td>\n",
              "      <td>1.78</td>\n",
              "      <td>2.14</td>\n",
              "      <td>11.2</td>\n",
              "      <td>100.0</td>\n",
              "      <td>2.65</td>\n",
              "      <td>2.76</td>\n",
              "      <td>0.26</td>\n",
              "      <td>1.28</td>\n",
              "      <td>4.38</td>\n",
              "      <td>1.05</td>\n",
              "      <td>3.40</td>\n",
              "      <td>1050.0</td>\n",
              "      <td>0</td>\n",
              "    </tr>\n",
              "    <tr>\n",
              "      <th>2</th>\n",
              "      <td>13.16</td>\n",
              "      <td>2.36</td>\n",
              "      <td>2.67</td>\n",
              "      <td>18.6</td>\n",
              "      <td>101.0</td>\n",
              "      <td>2.80</td>\n",
              "      <td>3.24</td>\n",
              "      <td>0.30</td>\n",
              "      <td>2.81</td>\n",
              "      <td>5.68</td>\n",
              "      <td>1.03</td>\n",
              "      <td>3.17</td>\n",
              "      <td>1185.0</td>\n",
              "      <td>0</td>\n",
              "    </tr>\n",
              "    <tr>\n",
              "      <th>3</th>\n",
              "      <td>14.37</td>\n",
              "      <td>1.95</td>\n",
              "      <td>2.50</td>\n",
              "      <td>16.8</td>\n",
              "      <td>113.0</td>\n",
              "      <td>3.85</td>\n",
              "      <td>3.49</td>\n",
              "      <td>0.24</td>\n",
              "      <td>2.18</td>\n",
              "      <td>7.80</td>\n",
              "      <td>0.86</td>\n",
              "      <td>3.45</td>\n",
              "      <td>1480.0</td>\n",
              "      <td>0</td>\n",
              "    </tr>\n",
              "    <tr>\n",
              "      <th>4</th>\n",
              "      <td>13.24</td>\n",
              "      <td>2.59</td>\n",
              "      <td>2.87</td>\n",
              "      <td>21.0</td>\n",
              "      <td>118.0</td>\n",
              "      <td>2.80</td>\n",
              "      <td>2.69</td>\n",
              "      <td>0.39</td>\n",
              "      <td>1.82</td>\n",
              "      <td>4.32</td>\n",
              "      <td>1.04</td>\n",
              "      <td>2.93</td>\n",
              "      <td>735.0</td>\n",
              "      <td>0</td>\n",
              "    </tr>\n",
              "  </tbody>\n",
              "</table>\n",
              "</div>\n",
              "    <div class=\"colab-df-buttons\">\n",
              "\n",
              "  <div class=\"colab-df-container\">\n",
              "    <button class=\"colab-df-convert\" onclick=\"convertToInteractive('df-4828fcc4-ab15-41e7-9be3-fd7b761cfd55')\"\n",
              "            title=\"Convert this dataframe to an interactive table.\"\n",
              "            style=\"display:none;\">\n",
              "\n",
              "  <svg xmlns=\"http://www.w3.org/2000/svg\" height=\"24px\" viewBox=\"0 -960 960 960\">\n",
              "    <path d=\"M120-120v-720h720v720H120Zm60-500h600v-160H180v160Zm220 220h160v-160H400v160Zm0 220h160v-160H400v160ZM180-400h160v-160H180v160Zm440 0h160v-160H620v160ZM180-180h160v-160H180v160Zm440 0h160v-160H620v160Z\"/>\n",
              "  </svg>\n",
              "    </button>\n",
              "\n",
              "  <style>\n",
              "    .colab-df-container {\n",
              "      display:flex;\n",
              "      gap: 12px;\n",
              "    }\n",
              "\n",
              "    .colab-df-convert {\n",
              "      background-color: #E8F0FE;\n",
              "      border: none;\n",
              "      border-radius: 50%;\n",
              "      cursor: pointer;\n",
              "      display: none;\n",
              "      fill: #1967D2;\n",
              "      height: 32px;\n",
              "      padding: 0 0 0 0;\n",
              "      width: 32px;\n",
              "    }\n",
              "\n",
              "    .colab-df-convert:hover {\n",
              "      background-color: #E2EBFA;\n",
              "      box-shadow: 0px 1px 2px rgba(60, 64, 67, 0.3), 0px 1px 3px 1px rgba(60, 64, 67, 0.15);\n",
              "      fill: #174EA6;\n",
              "    }\n",
              "\n",
              "    .colab-df-buttons div {\n",
              "      margin-bottom: 4px;\n",
              "    }\n",
              "\n",
              "    [theme=dark] .colab-df-convert {\n",
              "      background-color: #3B4455;\n",
              "      fill: #D2E3FC;\n",
              "    }\n",
              "\n",
              "    [theme=dark] .colab-df-convert:hover {\n",
              "      background-color: #434B5C;\n",
              "      box-shadow: 0px 1px 3px 1px rgba(0, 0, 0, 0.15);\n",
              "      filter: drop-shadow(0px 1px 2px rgba(0, 0, 0, 0.3));\n",
              "      fill: #FFFFFF;\n",
              "    }\n",
              "  </style>\n",
              "\n",
              "    <script>\n",
              "      const buttonEl =\n",
              "        document.querySelector('#df-4828fcc4-ab15-41e7-9be3-fd7b761cfd55 button.colab-df-convert');\n",
              "      buttonEl.style.display =\n",
              "        google.colab.kernel.accessAllowed ? 'block' : 'none';\n",
              "\n",
              "      async function convertToInteractive(key) {\n",
              "        const element = document.querySelector('#df-4828fcc4-ab15-41e7-9be3-fd7b761cfd55');\n",
              "        const dataTable =\n",
              "          await google.colab.kernel.invokeFunction('convertToInteractive',\n",
              "                                                    [key], {});\n",
              "        if (!dataTable) return;\n",
              "\n",
              "        const docLinkHtml = 'Like what you see? Visit the ' +\n",
              "          '<a target=\"_blank\" href=https://colab.research.google.com/notebooks/data_table.ipynb>data table notebook</a>'\n",
              "          + ' to learn more about interactive tables.';\n",
              "        element.innerHTML = '';\n",
              "        dataTable['output_type'] = 'display_data';\n",
              "        await google.colab.output.renderOutput(dataTable, element);\n",
              "        const docLink = document.createElement('div');\n",
              "        docLink.innerHTML = docLinkHtml;\n",
              "        element.appendChild(docLink);\n",
              "      }\n",
              "    </script>\n",
              "  </div>\n",
              "\n",
              "\n",
              "<div id=\"df-6d718ab7-7284-489c-a11b-2ca18dd536be\">\n",
              "  <button class=\"colab-df-quickchart\" onclick=\"quickchart('df-6d718ab7-7284-489c-a11b-2ca18dd536be')\"\n",
              "            title=\"Suggest charts.\"\n",
              "            style=\"display:none;\">\n",
              "\n",
              "<svg xmlns=\"http://www.w3.org/2000/svg\" height=\"24px\"viewBox=\"0 0 24 24\"\n",
              "     width=\"24px\">\n",
              "    <g>\n",
              "        <path d=\"M19 3H5c-1.1 0-2 .9-2 2v14c0 1.1.9 2 2 2h14c1.1 0 2-.9 2-2V5c0-1.1-.9-2-2-2zM9 17H7v-7h2v7zm4 0h-2V7h2v10zm4 0h-2v-4h2v4z\"/>\n",
              "    </g>\n",
              "</svg>\n",
              "  </button>\n",
              "\n",
              "<style>\n",
              "  .colab-df-quickchart {\n",
              "      --bg-color: #E8F0FE;\n",
              "      --fill-color: #1967D2;\n",
              "      --hover-bg-color: #E2EBFA;\n",
              "      --hover-fill-color: #174EA6;\n",
              "      --disabled-fill-color: #AAA;\n",
              "      --disabled-bg-color: #DDD;\n",
              "  }\n",
              "\n",
              "  [theme=dark] .colab-df-quickchart {\n",
              "      --bg-color: #3B4455;\n",
              "      --fill-color: #D2E3FC;\n",
              "      --hover-bg-color: #434B5C;\n",
              "      --hover-fill-color: #FFFFFF;\n",
              "      --disabled-bg-color: #3B4455;\n",
              "      --disabled-fill-color: #666;\n",
              "  }\n",
              "\n",
              "  .colab-df-quickchart {\n",
              "    background-color: var(--bg-color);\n",
              "    border: none;\n",
              "    border-radius: 50%;\n",
              "    cursor: pointer;\n",
              "    display: none;\n",
              "    fill: var(--fill-color);\n",
              "    height: 32px;\n",
              "    padding: 0;\n",
              "    width: 32px;\n",
              "  }\n",
              "\n",
              "  .colab-df-quickchart:hover {\n",
              "    background-color: var(--hover-bg-color);\n",
              "    box-shadow: 0 1px 2px rgba(60, 64, 67, 0.3), 0 1px 3px 1px rgba(60, 64, 67, 0.15);\n",
              "    fill: var(--button-hover-fill-color);\n",
              "  }\n",
              "\n",
              "  .colab-df-quickchart-complete:disabled,\n",
              "  .colab-df-quickchart-complete:disabled:hover {\n",
              "    background-color: var(--disabled-bg-color);\n",
              "    fill: var(--disabled-fill-color);\n",
              "    box-shadow: none;\n",
              "  }\n",
              "\n",
              "  .colab-df-spinner {\n",
              "    border: 2px solid var(--fill-color);\n",
              "    border-color: transparent;\n",
              "    border-bottom-color: var(--fill-color);\n",
              "    animation:\n",
              "      spin 1s steps(1) infinite;\n",
              "  }\n",
              "\n",
              "  @keyframes spin {\n",
              "    0% {\n",
              "      border-color: transparent;\n",
              "      border-bottom-color: var(--fill-color);\n",
              "      border-left-color: var(--fill-color);\n",
              "    }\n",
              "    20% {\n",
              "      border-color: transparent;\n",
              "      border-left-color: var(--fill-color);\n",
              "      border-top-color: var(--fill-color);\n",
              "    }\n",
              "    30% {\n",
              "      border-color: transparent;\n",
              "      border-left-color: var(--fill-color);\n",
              "      border-top-color: var(--fill-color);\n",
              "      border-right-color: var(--fill-color);\n",
              "    }\n",
              "    40% {\n",
              "      border-color: transparent;\n",
              "      border-right-color: var(--fill-color);\n",
              "      border-top-color: var(--fill-color);\n",
              "    }\n",
              "    60% {\n",
              "      border-color: transparent;\n",
              "      border-right-color: var(--fill-color);\n",
              "    }\n",
              "    80% {\n",
              "      border-color: transparent;\n",
              "      border-right-color: var(--fill-color);\n",
              "      border-bottom-color: var(--fill-color);\n",
              "    }\n",
              "    90% {\n",
              "      border-color: transparent;\n",
              "      border-bottom-color: var(--fill-color);\n",
              "    }\n",
              "  }\n",
              "</style>\n",
              "\n",
              "  <script>\n",
              "    async function quickchart(key) {\n",
              "      const quickchartButtonEl =\n",
              "        document.querySelector('#' + key + ' button');\n",
              "      quickchartButtonEl.disabled = true;  // To prevent multiple clicks.\n",
              "      quickchartButtonEl.classList.add('colab-df-spinner');\n",
              "      try {\n",
              "        const charts = await google.colab.kernel.invokeFunction(\n",
              "            'suggestCharts', [key], {});\n",
              "      } catch (error) {\n",
              "        console.error('Error during call to suggestCharts:', error);\n",
              "      }\n",
              "      quickchartButtonEl.classList.remove('colab-df-spinner');\n",
              "      quickchartButtonEl.classList.add('colab-df-quickchart-complete');\n",
              "    }\n",
              "    (() => {\n",
              "      let quickchartButtonEl =\n",
              "        document.querySelector('#df-6d718ab7-7284-489c-a11b-2ca18dd536be button');\n",
              "      quickchartButtonEl.style.display =\n",
              "        google.colab.kernel.accessAllowed ? 'block' : 'none';\n",
              "    })();\n",
              "  </script>\n",
              "</div>\n",
              "    </div>\n",
              "  </div>\n"
            ]
          },
          "metadata": {},
          "execution_count": 13
        }
      ]
    },
    {
      "cell_type": "code",
      "source": [
        "df1 = df.copy()\n",
        "df.drop('target', axis =1, inplace=True)\n",
        "\n",
        "# Check the data informations\n",
        "df.info()"
      ],
      "metadata": {
        "colab": {
          "base_uri": "https://localhost:8080/"
        },
        "id": "bgMOIOCh2Abh",
        "outputId": "0fd0d575-940b-4c98-cfd9-b261b756e863"
      },
      "execution_count": null,
      "outputs": [
        {
          "output_type": "stream",
          "name": "stdout",
          "text": [
            "<class 'pandas.core.frame.DataFrame'>\n",
            "RangeIndex: 178 entries, 0 to 177\n",
            "Data columns (total 13 columns):\n",
            " #   Column                        Non-Null Count  Dtype  \n",
            "---  ------                        --------------  -----  \n",
            " 0   alcohol                       178 non-null    float64\n",
            " 1   malic_acid                    178 non-null    float64\n",
            " 2   ash                           178 non-null    float64\n",
            " 3   alcalinity_of_ash             178 non-null    float64\n",
            " 4   magnesium                     178 non-null    float64\n",
            " 5   total_phenols                 178 non-null    float64\n",
            " 6   flavanoids                    178 non-null    float64\n",
            " 7   nonflavanoid_phenols          178 non-null    float64\n",
            " 8   proanthocyanins               178 non-null    float64\n",
            " 9   color_intensity               178 non-null    float64\n",
            " 10  hue                           178 non-null    float64\n",
            " 11  od280/od315_of_diluted_wines  178 non-null    float64\n",
            " 12  proline                       178 non-null    float64\n",
            "dtypes: float64(13)\n",
            "memory usage: 18.2 KB\n"
          ]
        }
      ]
    },
    {
      "cell_type": "code",
      "source": [
        "model = KMeans(n_clusters = 3)\n",
        "labels = model.fit_predict(df)\n",
        "\n",
        "labels"
      ],
      "metadata": {
        "colab": {
          "base_uri": "https://localhost:8080/"
        },
        "id": "Y-FbVSs820_K",
        "outputId": "8ef15fa9-5f0a-4ecb-83eb-a92a18b34127"
      },
      "execution_count": null,
      "outputs": [
        {
          "output_type": "stream",
          "name": "stderr",
          "text": [
            "/usr/local/lib/python3.10/dist-packages/sklearn/cluster/_kmeans.py:870: FutureWarning: The default value of `n_init` will change from 10 to 'auto' in 1.4. Set the value of `n_init` explicitly to suppress the warning\n",
            "  warnings.warn(\n"
          ]
        },
        {
          "output_type": "execute_result",
          "data": {
            "text/plain": [
              "array([2, 2, 2, 2, 0, 2, 2, 2, 2, 2, 2, 2, 2, 2, 2, 2, 2, 2, 2, 0, 0, 0,\n",
              "       2, 2, 0, 0, 2, 2, 0, 2, 2, 2, 2, 2, 2, 0, 0, 2, 2, 0, 0, 2, 2, 0,\n",
              "       0, 2, 2, 2, 2, 2, 2, 2, 2, 2, 2, 2, 2, 2, 2, 1, 0, 1, 0, 1, 1, 0,\n",
              "       1, 1, 0, 0, 0, 1, 1, 2, 0, 1, 1, 1, 0, 1, 1, 0, 0, 1, 1, 1, 1, 1,\n",
              "       0, 0, 1, 1, 1, 1, 1, 0, 0, 1, 0, 1, 0, 1, 1, 1, 0, 1, 1, 1, 1, 0,\n",
              "       1, 1, 0, 1, 1, 1, 1, 1, 1, 1, 0, 1, 1, 1, 1, 1, 1, 1, 1, 1, 0, 1,\n",
              "       1, 0, 0, 0, 0, 1, 1, 1, 0, 0, 1, 1, 0, 0, 1, 0, 0, 1, 1, 1, 1, 0,\n",
              "       0, 0, 1, 0, 0, 0, 1, 0, 1, 0, 0, 1, 0, 0, 0, 0, 1, 1, 0, 0, 0, 0,\n",
              "       0, 1], dtype=int32)"
            ]
          },
          "metadata": {},
          "execution_count": 15
        }
      ]
    },
    {
      "cell_type": "code",
      "source": [
        "df2 = pd.DataFrame({'labels': labels,\n",
        "                    'variates': df1[\"target\"]})\n",
        "\n",
        "df2.head()"
      ],
      "metadata": {
        "colab": {
          "base_uri": "https://localhost:8080/",
          "height": 206
        },
        "id": "DQGLmU-P3YDl",
        "outputId": "a3bdcee2-9b99-490b-e3dd-646e05f5e243"
      },
      "execution_count": null,
      "outputs": [
        {
          "output_type": "execute_result",
          "data": {
            "text/plain": [
              "   labels  variates\n",
              "0       2         0\n",
              "1       2         0\n",
              "2       2         0\n",
              "3       2         0\n",
              "4       0         0"
            ],
            "text/html": [
              "\n",
              "  <div id=\"df-a8481da0-e348-42a0-a020-de4ce6a45ea0\" class=\"colab-df-container\">\n",
              "    <div>\n",
              "<style scoped>\n",
              "    .dataframe tbody tr th:only-of-type {\n",
              "        vertical-align: middle;\n",
              "    }\n",
              "\n",
              "    .dataframe tbody tr th {\n",
              "        vertical-align: top;\n",
              "    }\n",
              "\n",
              "    .dataframe thead th {\n",
              "        text-align: right;\n",
              "    }\n",
              "</style>\n",
              "<table border=\"1\" class=\"dataframe\">\n",
              "  <thead>\n",
              "    <tr style=\"text-align: right;\">\n",
              "      <th></th>\n",
              "      <th>labels</th>\n",
              "      <th>variates</th>\n",
              "    </tr>\n",
              "  </thead>\n",
              "  <tbody>\n",
              "    <tr>\n",
              "      <th>0</th>\n",
              "      <td>2</td>\n",
              "      <td>0</td>\n",
              "    </tr>\n",
              "    <tr>\n",
              "      <th>1</th>\n",
              "      <td>2</td>\n",
              "      <td>0</td>\n",
              "    </tr>\n",
              "    <tr>\n",
              "      <th>2</th>\n",
              "      <td>2</td>\n",
              "      <td>0</td>\n",
              "    </tr>\n",
              "    <tr>\n",
              "      <th>3</th>\n",
              "      <td>2</td>\n",
              "      <td>0</td>\n",
              "    </tr>\n",
              "    <tr>\n",
              "      <th>4</th>\n",
              "      <td>0</td>\n",
              "      <td>0</td>\n",
              "    </tr>\n",
              "  </tbody>\n",
              "</table>\n",
              "</div>\n",
              "    <div class=\"colab-df-buttons\">\n",
              "\n",
              "  <div class=\"colab-df-container\">\n",
              "    <button class=\"colab-df-convert\" onclick=\"convertToInteractive('df-a8481da0-e348-42a0-a020-de4ce6a45ea0')\"\n",
              "            title=\"Convert this dataframe to an interactive table.\"\n",
              "            style=\"display:none;\">\n",
              "\n",
              "  <svg xmlns=\"http://www.w3.org/2000/svg\" height=\"24px\" viewBox=\"0 -960 960 960\">\n",
              "    <path d=\"M120-120v-720h720v720H120Zm60-500h600v-160H180v160Zm220 220h160v-160H400v160Zm0 220h160v-160H400v160ZM180-400h160v-160H180v160Zm440 0h160v-160H620v160ZM180-180h160v-160H180v160Zm440 0h160v-160H620v160Z\"/>\n",
              "  </svg>\n",
              "    </button>\n",
              "\n",
              "  <style>\n",
              "    .colab-df-container {\n",
              "      display:flex;\n",
              "      gap: 12px;\n",
              "    }\n",
              "\n",
              "    .colab-df-convert {\n",
              "      background-color: #E8F0FE;\n",
              "      border: none;\n",
              "      border-radius: 50%;\n",
              "      cursor: pointer;\n",
              "      display: none;\n",
              "      fill: #1967D2;\n",
              "      height: 32px;\n",
              "      padding: 0 0 0 0;\n",
              "      width: 32px;\n",
              "    }\n",
              "\n",
              "    .colab-df-convert:hover {\n",
              "      background-color: #E2EBFA;\n",
              "      box-shadow: 0px 1px 2px rgba(60, 64, 67, 0.3), 0px 1px 3px 1px rgba(60, 64, 67, 0.15);\n",
              "      fill: #174EA6;\n",
              "    }\n",
              "\n",
              "    .colab-df-buttons div {\n",
              "      margin-bottom: 4px;\n",
              "    }\n",
              "\n",
              "    [theme=dark] .colab-df-convert {\n",
              "      background-color: #3B4455;\n",
              "      fill: #D2E3FC;\n",
              "    }\n",
              "\n",
              "    [theme=dark] .colab-df-convert:hover {\n",
              "      background-color: #434B5C;\n",
              "      box-shadow: 0px 1px 3px 1px rgba(0, 0, 0, 0.15);\n",
              "      filter: drop-shadow(0px 1px 2px rgba(0, 0, 0, 0.3));\n",
              "      fill: #FFFFFF;\n",
              "    }\n",
              "  </style>\n",
              "\n",
              "    <script>\n",
              "      const buttonEl =\n",
              "        document.querySelector('#df-a8481da0-e348-42a0-a020-de4ce6a45ea0 button.colab-df-convert');\n",
              "      buttonEl.style.display =\n",
              "        google.colab.kernel.accessAllowed ? 'block' : 'none';\n",
              "\n",
              "      async function convertToInteractive(key) {\n",
              "        const element = document.querySelector('#df-a8481da0-e348-42a0-a020-de4ce6a45ea0');\n",
              "        const dataTable =\n",
              "          await google.colab.kernel.invokeFunction('convertToInteractive',\n",
              "                                                    [key], {});\n",
              "        if (!dataTable) return;\n",
              "\n",
              "        const docLinkHtml = 'Like what you see? Visit the ' +\n",
              "          '<a target=\"_blank\" href=https://colab.research.google.com/notebooks/data_table.ipynb>data table notebook</a>'\n",
              "          + ' to learn more about interactive tables.';\n",
              "        element.innerHTML = '';\n",
              "        dataTable['output_type'] = 'display_data';\n",
              "        await google.colab.output.renderOutput(dataTable, element);\n",
              "        const docLink = document.createElement('div');\n",
              "        docLink.innerHTML = docLinkHtml;\n",
              "        element.appendChild(docLink);\n",
              "      }\n",
              "    </script>\n",
              "  </div>\n",
              "\n",
              "\n",
              "<div id=\"df-3d17982b-5492-4c54-9075-259e9ea6754f\">\n",
              "  <button class=\"colab-df-quickchart\" onclick=\"quickchart('df-3d17982b-5492-4c54-9075-259e9ea6754f')\"\n",
              "            title=\"Suggest charts.\"\n",
              "            style=\"display:none;\">\n",
              "\n",
              "<svg xmlns=\"http://www.w3.org/2000/svg\" height=\"24px\"viewBox=\"0 0 24 24\"\n",
              "     width=\"24px\">\n",
              "    <g>\n",
              "        <path d=\"M19 3H5c-1.1 0-2 .9-2 2v14c0 1.1.9 2 2 2h14c1.1 0 2-.9 2-2V5c0-1.1-.9-2-2-2zM9 17H7v-7h2v7zm4 0h-2V7h2v10zm4 0h-2v-4h2v4z\"/>\n",
              "    </g>\n",
              "</svg>\n",
              "  </button>\n",
              "\n",
              "<style>\n",
              "  .colab-df-quickchart {\n",
              "      --bg-color: #E8F0FE;\n",
              "      --fill-color: #1967D2;\n",
              "      --hover-bg-color: #E2EBFA;\n",
              "      --hover-fill-color: #174EA6;\n",
              "      --disabled-fill-color: #AAA;\n",
              "      --disabled-bg-color: #DDD;\n",
              "  }\n",
              "\n",
              "  [theme=dark] .colab-df-quickchart {\n",
              "      --bg-color: #3B4455;\n",
              "      --fill-color: #D2E3FC;\n",
              "      --hover-bg-color: #434B5C;\n",
              "      --hover-fill-color: #FFFFFF;\n",
              "      --disabled-bg-color: #3B4455;\n",
              "      --disabled-fill-color: #666;\n",
              "  }\n",
              "\n",
              "  .colab-df-quickchart {\n",
              "    background-color: var(--bg-color);\n",
              "    border: none;\n",
              "    border-radius: 50%;\n",
              "    cursor: pointer;\n",
              "    display: none;\n",
              "    fill: var(--fill-color);\n",
              "    height: 32px;\n",
              "    padding: 0;\n",
              "    width: 32px;\n",
              "  }\n",
              "\n",
              "  .colab-df-quickchart:hover {\n",
              "    background-color: var(--hover-bg-color);\n",
              "    box-shadow: 0 1px 2px rgba(60, 64, 67, 0.3), 0 1px 3px 1px rgba(60, 64, 67, 0.15);\n",
              "    fill: var(--button-hover-fill-color);\n",
              "  }\n",
              "\n",
              "  .colab-df-quickchart-complete:disabled,\n",
              "  .colab-df-quickchart-complete:disabled:hover {\n",
              "    background-color: var(--disabled-bg-color);\n",
              "    fill: var(--disabled-fill-color);\n",
              "    box-shadow: none;\n",
              "  }\n",
              "\n",
              "  .colab-df-spinner {\n",
              "    border: 2px solid var(--fill-color);\n",
              "    border-color: transparent;\n",
              "    border-bottom-color: var(--fill-color);\n",
              "    animation:\n",
              "      spin 1s steps(1) infinite;\n",
              "  }\n",
              "\n",
              "  @keyframes spin {\n",
              "    0% {\n",
              "      border-color: transparent;\n",
              "      border-bottom-color: var(--fill-color);\n",
              "      border-left-color: var(--fill-color);\n",
              "    }\n",
              "    20% {\n",
              "      border-color: transparent;\n",
              "      border-left-color: var(--fill-color);\n",
              "      border-top-color: var(--fill-color);\n",
              "    }\n",
              "    30% {\n",
              "      border-color: transparent;\n",
              "      border-left-color: var(--fill-color);\n",
              "      border-top-color: var(--fill-color);\n",
              "      border-right-color: var(--fill-color);\n",
              "    }\n",
              "    40% {\n",
              "      border-color: transparent;\n",
              "      border-right-color: var(--fill-color);\n",
              "      border-top-color: var(--fill-color);\n",
              "    }\n",
              "    60% {\n",
              "      border-color: transparent;\n",
              "      border-right-color: var(--fill-color);\n",
              "    }\n",
              "    80% {\n",
              "      border-color: transparent;\n",
              "      border-right-color: var(--fill-color);\n",
              "      border-bottom-color: var(--fill-color);\n",
              "    }\n",
              "    90% {\n",
              "      border-color: transparent;\n",
              "      border-bottom-color: var(--fill-color);\n",
              "    }\n",
              "  }\n",
              "</style>\n",
              "\n",
              "  <script>\n",
              "    async function quickchart(key) {\n",
              "      const quickchartButtonEl =\n",
              "        document.querySelector('#' + key + ' button');\n",
              "      quickchartButtonEl.disabled = true;  // To prevent multiple clicks.\n",
              "      quickchartButtonEl.classList.add('colab-df-spinner');\n",
              "      try {\n",
              "        const charts = await google.colab.kernel.invokeFunction(\n",
              "            'suggestCharts', [key], {});\n",
              "      } catch (error) {\n",
              "        console.error('Error during call to suggestCharts:', error);\n",
              "      }\n",
              "      quickchartButtonEl.classList.remove('colab-df-spinner');\n",
              "      quickchartButtonEl.classList.add('colab-df-quickchart-complete');\n",
              "    }\n",
              "    (() => {\n",
              "      let quickchartButtonEl =\n",
              "        document.querySelector('#df-3d17982b-5492-4c54-9075-259e9ea6754f button');\n",
              "      quickchartButtonEl.style.display =\n",
              "        google.colab.kernel.accessAllowed ? 'block' : 'none';\n",
              "    })();\n",
              "  </script>\n",
              "</div>\n",
              "    </div>\n",
              "  </div>\n"
            ]
          },
          "metadata": {},
          "execution_count": 16
        }
      ]
    },
    {
      "cell_type": "code",
      "source": [
        "ct = pd.crosstab(df2['labels'], df2['variates'])\n",
        "print(ct)"
      ],
      "metadata": {
        "colab": {
          "base_uri": "https://localhost:8080/"
        },
        "id": "Ow0sLKJf34Ms",
        "outputId": "c673cf18-18ed-4bb6-9e6a-fba2d2c4881f"
      },
      "execution_count": null,
      "outputs": [
        {
          "output_type": "stream",
          "name": "stdout",
          "text": [
            "variates   0   1   2\n",
            "labels              \n",
            "0         13  20  29\n",
            "1          0  50  19\n",
            "2         46   1   0\n"
          ]
        }
      ]
    },
    {
      "cell_type": "code",
      "source": [
        "print(model.inertia_)"
      ],
      "metadata": {
        "colab": {
          "base_uri": "https://localhost:8080/"
        },
        "id": "AKmzmoHslM-p",
        "outputId": "6cd8f041-f3cf-4d58-e428-40e1701d867d"
      },
      "execution_count": null,
      "outputs": [
        {
          "output_type": "stream",
          "name": "stdout",
          "text": [
            "2370689.686782969\n"
          ]
        }
      ]
    },
    {
      "cell_type": "code",
      "source": [
        "#sklearn StandardScalar\n",
        "\n",
        "from sklearn.preprocessing import StandardScaler\n",
        "scaler = StandardScaler()\n",
        "\n",
        "scaler.fit(df)\n",
        "StandardScaler(copy = True, with_mean = True, with_std = True)\n",
        "features_scaled = scaler.transform(df)"
      ],
      "metadata": {
        "id": "961P34Zz4p9n"
      },
      "execution_count": null,
      "outputs": []
    },
    {
      "cell_type": "code",
      "source": [
        "#Pipeline to combine multiple steps [scaling & kmeans clustering]\n",
        "\n",
        "scaler = StandardScaler()\n",
        "kmeans = KMeans(n_clusters = 3)\n",
        "\n",
        "from sklearn.pipeline import make_pipeline\n",
        "\n",
        "pipeline = make_pipeline(scaler, kmeans)\n",
        "pipeline.fit(df)\n",
        "\n",
        "labels = pipeline.predict(df)"
      ],
      "metadata": {
        "colab": {
          "base_uri": "https://localhost:8080/"
        },
        "id": "_zxHxHK55HBv",
        "outputId": "41da51f6-0850-4c4b-db12-8b4da0464c67"
      },
      "execution_count": null,
      "outputs": [
        {
          "output_type": "stream",
          "name": "stderr",
          "text": [
            "/usr/local/lib/python3.10/dist-packages/sklearn/cluster/_kmeans.py:870: FutureWarning: The default value of `n_init` will change from 10 to 'auto' in 1.4. Set the value of `n_init` explicitly to suppress the warning\n",
            "  warnings.warn(\n"
          ]
        }
      ]
    },
    {
      "cell_type": "code",
      "source": [
        "df2 = pd.DataFrame({'labels': labels,\n",
        "                    'variates': df1[\"target\"]})\n",
        "\n",
        "ct = pd.crosstab(df2['labels'], df2['variates'])\n",
        "print(ct)"
      ],
      "metadata": {
        "colab": {
          "base_uri": "https://localhost:8080/"
        },
        "id": "MI_brJa05Lt1",
        "outputId": "43f780ca-c654-49b8-968b-f35157b63305"
      },
      "execution_count": null,
      "outputs": [
        {
          "output_type": "stream",
          "name": "stdout",
          "text": [
            "variates   0   1   2\n",
            "labels              \n",
            "0         59   3   0\n",
            "1          0  65   0\n",
            "2          0   3  48\n"
          ]
        }
      ]
    },
    {
      "cell_type": "code",
      "source": [
        "print(kmeans.inertia_)"
      ],
      "metadata": {
        "colab": {
          "base_uri": "https://localhost:8080/"
        },
        "id": "4lksay8LnKFX",
        "outputId": "d9650cc3-4a13-467f-855e-bc6bba54154f"
      },
      "execution_count": null,
      "outputs": [
        {
          "output_type": "stream",
          "name": "stdout",
          "text": [
            "1277.9284888446423\n"
          ]
        }
      ]
    },
    {
      "cell_type": "code",
      "source": [],
      "metadata": {
        "id": "ZUkf27YYnN7T"
      },
      "execution_count": null,
      "outputs": []
    }
  ]
}