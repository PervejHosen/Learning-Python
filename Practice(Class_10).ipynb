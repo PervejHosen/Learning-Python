{
  "nbformat": 4,
  "nbformat_minor": 0,
  "metadata": {
    "colab": {
      "provenance": [],
      "toc_visible": true,
      "include_colab_link": true
    },
    "kernelspec": {
      "name": "python3",
      "display_name": "Python 3"
    },
    "language_info": {
      "name": "python"
    }
  },
  "cells": [
    {
      "cell_type": "markdown",
      "metadata": {
        "id": "view-in-github",
        "colab_type": "text"
      },
      "source": [
        "<a href=\"https://colab.research.google.com/github/PervejHosen/Learning-Python-for-DataScience/blob/main/Practice(Class_10).ipynb\" target=\"_parent\"><img src=\"https://colab.research.google.com/assets/colab-badge.svg\" alt=\"Open In Colab\"/></a>"
      ]
    },
    {
      "cell_type": "markdown",
      "source": [
        "# **Resources:**\n",
        "\n",
        "Scikit-learn Machine Learning Map: https://scikit-learn.org/stable/tutorial/machine_learning_map/index.html"
      ],
      "metadata": {
        "id": "xvLqSRRR7_zY"
      }
    },
    {
      "cell_type": "markdown",
      "source": [
        "# **Why Scikit-Learn?**\n",
        "\n",
        "* Although the field of machine learning is vast, the main goal is finding patterns within data and then using those patterns to make predictions.\n",
        "\n",
        "* And there are certain categories which a majority of problems fall into.\n",
        "\n",
        "* If you're trying to create a machine learning model to predict whether an email is spam and or not spam, you're working on a classification problem (whether something is something(s) or another).\n",
        "\n",
        "* If you're trying to create a machine learning model to predict the price of houses given their characteristics, you're working on a regression problem (predicting a number).\n",
        "\n",
        "* Once you know what kind of problem you're working on, there are also similar steps you'll take for each. Steps like splitting the data into different sets, one for your machine learning algorithms to learn on and another to test them on. Choosing a machine learning model and then evaluating whether or not your model has learned anything.\n",
        "\n",
        "* Scikit-Learn offers Python implementations for doing all of these kinds of tasks. Saving you having to build them from scratch."
      ],
      "metadata": {
        "id": "aad0eRqxrsOd"
      }
    },
    {
      "cell_type": "markdown",
      "source": [
        "# **Scikit-learn Documentation:**\n",
        "\n",
        "https://scikit-learn.org/stable/user_guide.html"
      ],
      "metadata": {
        "id": "yp5GzKupr54C"
      }
    },
    {
      "cell_type": "markdown",
      "source": [
        "# **Importing Neccessary libraries**"
      ],
      "metadata": {
        "id": "oOssWVNGMeQm"
      }
    },
    {
      "cell_type": "code",
      "source": [
        "# Importing the required libraries\n",
        "import pandas as pd\n",
        "import numpy as np\n",
        "import matplotlib.pyplot as plt\n",
        "import seaborn as sns\n",
        "\n",
        "%matplotlib inline\n",
        "\n",
        "#from sklearn.model_selection import train_test_split\n",
        "#from sklearn.ensemble import RandomForestClassifier\n",
        "#from sklearn.ensemble import RandomForestRegressor\n",
        "#from sklearn.metrics import classification_report, confusion_matrix, accuracy_score"
      ],
      "metadata": {
        "id": "OSvZ5SPS9BjJ"
      },
      "execution_count": null,
      "outputs": []
    },
    {
      "cell_type": "code",
      "execution_count": null,
      "metadata": {
        "colab": {
          "base_uri": "https://localhost:8080/"
        },
        "id": "0V_FOjxR7tyK",
        "outputId": "12b0692a-811a-44a5-ced9-597b350e0d23"
      },
      "outputs": [
        {
          "output_type": "stream",
          "name": "stdout",
          "text": [
            "Mounted at /content/drive\n"
          ]
        }
      ],
      "source": [
        "from google.colab import drive\n",
        "drive.mount('/content/drive')"
      ]
    },
    {
      "cell_type": "markdown",
      "source": [
        "# **Data for Regression Problems**\n",
        "\n",
        "California Housing Dataset: https://scikit-learn.org/stable/datasets/real_world.html#california-housing-dataset"
      ],
      "metadata": {
        "id": "XIb3BdzO-BBX"
      }
    },
    {
      "cell_type": "code",
      "source": [
        "from sklearn.datasets import fetch_california_housing\n",
        "housing = fetch_california_housing()\n",
        "housing"
      ],
      "metadata": {
        "colab": {
          "base_uri": "https://localhost:8080/"
        },
        "id": "tCF9XefK96XL",
        "outputId": "5dbf8585-0ef4-42c3-968a-bbc495d1d87b"
      },
      "execution_count": null,
      "outputs": [
        {
          "output_type": "execute_result",
          "data": {
            "text/plain": [
              "{'data': array([[   8.3252    ,   41.        ,    6.98412698, ...,    2.55555556,\n",
              "           37.88      , -122.23      ],\n",
              "        [   8.3014    ,   21.        ,    6.23813708, ...,    2.10984183,\n",
              "           37.86      , -122.22      ],\n",
              "        [   7.2574    ,   52.        ,    8.28813559, ...,    2.80225989,\n",
              "           37.85      , -122.24      ],\n",
              "        ...,\n",
              "        [   1.7       ,   17.        ,    5.20554273, ...,    2.3256351 ,\n",
              "           39.43      , -121.22      ],\n",
              "        [   1.8672    ,   18.        ,    5.32951289, ...,    2.12320917,\n",
              "           39.43      , -121.32      ],\n",
              "        [   2.3886    ,   16.        ,    5.25471698, ...,    2.61698113,\n",
              "           39.37      , -121.24      ]]),\n",
              " 'target': array([4.526, 3.585, 3.521, ..., 0.923, 0.847, 0.894]),\n",
              " 'frame': None,\n",
              " 'target_names': ['MedHouseVal'],\n",
              " 'feature_names': ['MedInc',\n",
              "  'HouseAge',\n",
              "  'AveRooms',\n",
              "  'AveBedrms',\n",
              "  'Population',\n",
              "  'AveOccup',\n",
              "  'Latitude',\n",
              "  'Longitude'],\n",
              " 'DESCR': '.. _california_housing_dataset:\\n\\nCalifornia Housing dataset\\n--------------------------\\n\\n**Data Set Characteristics:**\\n\\n    :Number of Instances: 20640\\n\\n    :Number of Attributes: 8 numeric, predictive attributes and the target\\n\\n    :Attribute Information:\\n        - MedInc        median income in block group\\n        - HouseAge      median house age in block group\\n        - AveRooms      average number of rooms per household\\n        - AveBedrms     average number of bedrooms per household\\n        - Population    block group population\\n        - AveOccup      average number of household members\\n        - Latitude      block group latitude\\n        - Longitude     block group longitude\\n\\n    :Missing Attribute Values: None\\n\\nThis dataset was obtained from the StatLib repository.\\nhttps://www.dcc.fc.up.pt/~ltorgo/Regression/cal_housing.html\\n\\nThe target variable is the median house value for California districts,\\nexpressed in hundreds of thousands of dollars ($100,000).\\n\\nThis dataset was derived from the 1990 U.S. census, using one row per census\\nblock group. A block group is the smallest geographical unit for which the U.S.\\nCensus Bureau publishes sample data (a block group typically has a population\\nof 600 to 3,000 people).\\n\\nA household is a group of people residing within a home. Since the average\\nnumber of rooms and bedrooms in this dataset are provided per household, these\\ncolumns may take surprisingly large values for block groups with few households\\nand many empty houses, such as vacation resorts.\\n\\nIt can be downloaded/loaded using the\\n:func:`sklearn.datasets.fetch_california_housing` function.\\n\\n.. topic:: References\\n\\n    - Pace, R. Kelley and Ronald Barry, Sparse Spatial Autoregressions,\\n      Statistics and Probability Letters, 33 (1997) 291-297\\n'}"
            ]
          },
          "metadata": {},
          "execution_count": 57
        }
      ]
    },
    {
      "cell_type": "markdown",
      "source": [
        "**Lets convert the raw data into dataframe**"
      ],
      "metadata": {
        "id": "KrzV8WS4Mr-z"
      }
    },
    {
      "cell_type": "code",
      "source": [
        "housing_df = pd.DataFrame(housing[\"data\"], columns = housing[\"feature_names\"])\n",
        "housing_df[\"target\"] = pd.Series(housing[\"target\"])\n",
        "housing_df.head()"
      ],
      "metadata": {
        "colab": {
          "base_uri": "https://localhost:8080/",
          "height": 206
        },
        "id": "jdckYOvLDvml",
        "outputId": "7a3e3347-31dd-4e24-ffb4-23d894029279"
      },
      "execution_count": null,
      "outputs": [
        {
          "output_type": "execute_result",
          "data": {
            "text/plain": [
              "   MedInc  HouseAge  AveRooms  AveBedrms  Population  AveOccup  Latitude  \\\n",
              "0  8.3252      41.0  6.984127   1.023810       322.0  2.555556     37.88   \n",
              "1  8.3014      21.0  6.238137   0.971880      2401.0  2.109842     37.86   \n",
              "2  7.2574      52.0  8.288136   1.073446       496.0  2.802260     37.85   \n",
              "3  5.6431      52.0  5.817352   1.073059       558.0  2.547945     37.85   \n",
              "4  3.8462      52.0  6.281853   1.081081       565.0  2.181467     37.85   \n",
              "\n",
              "   Longitude  target  \n",
              "0    -122.23   4.526  \n",
              "1    -122.22   3.585  \n",
              "2    -122.24   3.521  \n",
              "3    -122.25   3.413  \n",
              "4    -122.25   3.422  "
            ],
            "text/html": [
              "\n",
              "  <div id=\"df-1f2b7751-f0f8-4695-b0e3-5f63b49923f1\" class=\"colab-df-container\">\n",
              "    <div>\n",
              "<style scoped>\n",
              "    .dataframe tbody tr th:only-of-type {\n",
              "        vertical-align: middle;\n",
              "    }\n",
              "\n",
              "    .dataframe tbody tr th {\n",
              "        vertical-align: top;\n",
              "    }\n",
              "\n",
              "    .dataframe thead th {\n",
              "        text-align: right;\n",
              "    }\n",
              "</style>\n",
              "<table border=\"1\" class=\"dataframe\">\n",
              "  <thead>\n",
              "    <tr style=\"text-align: right;\">\n",
              "      <th></th>\n",
              "      <th>MedInc</th>\n",
              "      <th>HouseAge</th>\n",
              "      <th>AveRooms</th>\n",
              "      <th>AveBedrms</th>\n",
              "      <th>Population</th>\n",
              "      <th>AveOccup</th>\n",
              "      <th>Latitude</th>\n",
              "      <th>Longitude</th>\n",
              "      <th>target</th>\n",
              "    </tr>\n",
              "  </thead>\n",
              "  <tbody>\n",
              "    <tr>\n",
              "      <th>0</th>\n",
              "      <td>8.3252</td>\n",
              "      <td>41.0</td>\n",
              "      <td>6.984127</td>\n",
              "      <td>1.023810</td>\n",
              "      <td>322.0</td>\n",
              "      <td>2.555556</td>\n",
              "      <td>37.88</td>\n",
              "      <td>-122.23</td>\n",
              "      <td>4.526</td>\n",
              "    </tr>\n",
              "    <tr>\n",
              "      <th>1</th>\n",
              "      <td>8.3014</td>\n",
              "      <td>21.0</td>\n",
              "      <td>6.238137</td>\n",
              "      <td>0.971880</td>\n",
              "      <td>2401.0</td>\n",
              "      <td>2.109842</td>\n",
              "      <td>37.86</td>\n",
              "      <td>-122.22</td>\n",
              "      <td>3.585</td>\n",
              "    </tr>\n",
              "    <tr>\n",
              "      <th>2</th>\n",
              "      <td>7.2574</td>\n",
              "      <td>52.0</td>\n",
              "      <td>8.288136</td>\n",
              "      <td>1.073446</td>\n",
              "      <td>496.0</td>\n",
              "      <td>2.802260</td>\n",
              "      <td>37.85</td>\n",
              "      <td>-122.24</td>\n",
              "      <td>3.521</td>\n",
              "    </tr>\n",
              "    <tr>\n",
              "      <th>3</th>\n",
              "      <td>5.6431</td>\n",
              "      <td>52.0</td>\n",
              "      <td>5.817352</td>\n",
              "      <td>1.073059</td>\n",
              "      <td>558.0</td>\n",
              "      <td>2.547945</td>\n",
              "      <td>37.85</td>\n",
              "      <td>-122.25</td>\n",
              "      <td>3.413</td>\n",
              "    </tr>\n",
              "    <tr>\n",
              "      <th>4</th>\n",
              "      <td>3.8462</td>\n",
              "      <td>52.0</td>\n",
              "      <td>6.281853</td>\n",
              "      <td>1.081081</td>\n",
              "      <td>565.0</td>\n",
              "      <td>2.181467</td>\n",
              "      <td>37.85</td>\n",
              "      <td>-122.25</td>\n",
              "      <td>3.422</td>\n",
              "    </tr>\n",
              "  </tbody>\n",
              "</table>\n",
              "</div>\n",
              "    <div class=\"colab-df-buttons\">\n",
              "\n",
              "  <div class=\"colab-df-container\">\n",
              "    <button class=\"colab-df-convert\" onclick=\"convertToInteractive('df-1f2b7751-f0f8-4695-b0e3-5f63b49923f1')\"\n",
              "            title=\"Convert this dataframe to an interactive table.\"\n",
              "            style=\"display:none;\">\n",
              "\n",
              "  <svg xmlns=\"http://www.w3.org/2000/svg\" height=\"24px\" viewBox=\"0 -960 960 960\">\n",
              "    <path d=\"M120-120v-720h720v720H120Zm60-500h600v-160H180v160Zm220 220h160v-160H400v160Zm0 220h160v-160H400v160ZM180-400h160v-160H180v160Zm440 0h160v-160H620v160ZM180-180h160v-160H180v160Zm440 0h160v-160H620v160Z\"/>\n",
              "  </svg>\n",
              "    </button>\n",
              "\n",
              "  <style>\n",
              "    .colab-df-container {\n",
              "      display:flex;\n",
              "      gap: 12px;\n",
              "    }\n",
              "\n",
              "    .colab-df-convert {\n",
              "      background-color: #E8F0FE;\n",
              "      border: none;\n",
              "      border-radius: 50%;\n",
              "      cursor: pointer;\n",
              "      display: none;\n",
              "      fill: #1967D2;\n",
              "      height: 32px;\n",
              "      padding: 0 0 0 0;\n",
              "      width: 32px;\n",
              "    }\n",
              "\n",
              "    .colab-df-convert:hover {\n",
              "      background-color: #E2EBFA;\n",
              "      box-shadow: 0px 1px 2px rgba(60, 64, 67, 0.3), 0px 1px 3px 1px rgba(60, 64, 67, 0.15);\n",
              "      fill: #174EA6;\n",
              "    }\n",
              "\n",
              "    .colab-df-buttons div {\n",
              "      margin-bottom: 4px;\n",
              "    }\n",
              "\n",
              "    [theme=dark] .colab-df-convert {\n",
              "      background-color: #3B4455;\n",
              "      fill: #D2E3FC;\n",
              "    }\n",
              "\n",
              "    [theme=dark] .colab-df-convert:hover {\n",
              "      background-color: #434B5C;\n",
              "      box-shadow: 0px 1px 3px 1px rgba(0, 0, 0, 0.15);\n",
              "      filter: drop-shadow(0px 1px 2px rgba(0, 0, 0, 0.3));\n",
              "      fill: #FFFFFF;\n",
              "    }\n",
              "  </style>\n",
              "\n",
              "    <script>\n",
              "      const buttonEl =\n",
              "        document.querySelector('#df-1f2b7751-f0f8-4695-b0e3-5f63b49923f1 button.colab-df-convert');\n",
              "      buttonEl.style.display =\n",
              "        google.colab.kernel.accessAllowed ? 'block' : 'none';\n",
              "\n",
              "      async function convertToInteractive(key) {\n",
              "        const element = document.querySelector('#df-1f2b7751-f0f8-4695-b0e3-5f63b49923f1');\n",
              "        const dataTable =\n",
              "          await google.colab.kernel.invokeFunction('convertToInteractive',\n",
              "                                                    [key], {});\n",
              "        if (!dataTable) return;\n",
              "\n",
              "        const docLinkHtml = 'Like what you see? Visit the ' +\n",
              "          '<a target=\"_blank\" href=https://colab.research.google.com/notebooks/data_table.ipynb>data table notebook</a>'\n",
              "          + ' to learn more about interactive tables.';\n",
              "        element.innerHTML = '';\n",
              "        dataTable['output_type'] = 'display_data';\n",
              "        await google.colab.output.renderOutput(dataTable, element);\n",
              "        const docLink = document.createElement('div');\n",
              "        docLink.innerHTML = docLinkHtml;\n",
              "        element.appendChild(docLink);\n",
              "      }\n",
              "    </script>\n",
              "  </div>\n",
              "\n",
              "\n",
              "<div id=\"df-43512c50-f897-4cc1-8050-a26d1280f8a4\">\n",
              "  <button class=\"colab-df-quickchart\" onclick=\"quickchart('df-43512c50-f897-4cc1-8050-a26d1280f8a4')\"\n",
              "            title=\"Suggest charts.\"\n",
              "            style=\"display:none;\">\n",
              "\n",
              "<svg xmlns=\"http://www.w3.org/2000/svg\" height=\"24px\"viewBox=\"0 0 24 24\"\n",
              "     width=\"24px\">\n",
              "    <g>\n",
              "        <path d=\"M19 3H5c-1.1 0-2 .9-2 2v14c0 1.1.9 2 2 2h14c1.1 0 2-.9 2-2V5c0-1.1-.9-2-2-2zM9 17H7v-7h2v7zm4 0h-2V7h2v10zm4 0h-2v-4h2v4z\"/>\n",
              "    </g>\n",
              "</svg>\n",
              "  </button>\n",
              "\n",
              "<style>\n",
              "  .colab-df-quickchart {\n",
              "    background-color: #E8F0FE;\n",
              "    border: none;\n",
              "    border-radius: 50%;\n",
              "    cursor: pointer;\n",
              "    display: none;\n",
              "    fill: #1967D2;\n",
              "    height: 32px;\n",
              "    padding: 0 0 0 0;\n",
              "    width: 32px;\n",
              "  }\n",
              "\n",
              "  .colab-df-quickchart:hover {\n",
              "    background-color: #E2EBFA;\n",
              "    box-shadow: 0px 1px 2px rgba(60, 64, 67, 0.3), 0px 1px 3px 1px rgba(60, 64, 67, 0.15);\n",
              "    fill: #174EA6;\n",
              "  }\n",
              "\n",
              "  [theme=dark] .colab-df-quickchart {\n",
              "    background-color: #3B4455;\n",
              "    fill: #D2E3FC;\n",
              "  }\n",
              "\n",
              "  [theme=dark] .colab-df-quickchart:hover {\n",
              "    background-color: #434B5C;\n",
              "    box-shadow: 0px 1px 3px 1px rgba(0, 0, 0, 0.15);\n",
              "    filter: drop-shadow(0px 1px 2px rgba(0, 0, 0, 0.3));\n",
              "    fill: #FFFFFF;\n",
              "  }\n",
              "</style>\n",
              "\n",
              "  <script>\n",
              "    async function quickchart(key) {\n",
              "      const charts = await google.colab.kernel.invokeFunction(\n",
              "          'suggestCharts', [key], {});\n",
              "    }\n",
              "    (() => {\n",
              "      let quickchartButtonEl =\n",
              "        document.querySelector('#df-43512c50-f897-4cc1-8050-a26d1280f8a4 button');\n",
              "      quickchartButtonEl.style.display =\n",
              "        google.colab.kernel.accessAllowed ? 'block' : 'none';\n",
              "    })();\n",
              "  </script>\n",
              "</div>\n",
              "    </div>\n",
              "  </div>\n"
            ]
          },
          "metadata": {},
          "execution_count": 58
        }
      ]
    },
    {
      "cell_type": "code",
      "source": [
        "housing_df.shape"
      ],
      "metadata": {
        "colab": {
          "base_uri": "https://localhost:8080/"
        },
        "id": "b4vyW9wkEPZb",
        "outputId": "3afc973a-9926-47be-a795-1c741ef0e804"
      },
      "execution_count": null,
      "outputs": [
        {
          "output_type": "execute_result",
          "data": {
            "text/plain": [
              "(20640, 9)"
            ]
          },
          "metadata": {},
          "execution_count": 9
        }
      ]
    },
    {
      "cell_type": "code",
      "source": [
        "#Let's try Ridge Regression as a Regression Problem\n",
        "\n",
        "from sklearn.linear_model import Ridge\n",
        "from sklearn.model_selection import train_test_split\n",
        "\n",
        "#Fixing a random seed\n",
        "np.random.seed(45)\n",
        "\n",
        "X = housing_df.drop(\"target\", axis = 1)\n",
        "y = housing_df[\"target\"]\n",
        "\n",
        "X_train, X_test,  y_train, y_test = train_test_split(X, y, test_size = 0.2)\n",
        "\n",
        "model = Ridge()\n",
        "model.fit(X_train, y_train)\n",
        "\n",
        "model.score(X_test, y_test)"
      ],
      "metadata": {
        "colab": {
          "base_uri": "https://localhost:8080/"
        },
        "id": "8FXqIVcIE4FC",
        "outputId": "a443c645-c4e1-41c6-92de-4e27d22e81ea"
      },
      "execution_count": null,
      "outputs": [
        {
          "output_type": "execute_result",
          "data": {
            "text/plain": [
              "0.6073997619464342"
            ]
          },
          "metadata": {},
          "execution_count": 59
        }
      ]
    },
    {
      "cell_type": "code",
      "source": [
        "# Let's try RandomForestRegressor model as an Ensemble Learning Method\n",
        "\n",
        "from sklearn.ensemble import RandomForestRegressor\n",
        "\n",
        "#Fixing a random seed\n",
        "np.random.seed(45)\n",
        "\n",
        "X = housing_df.drop(\"target\", axis = 1)\n",
        "y = housing_df[\"target\"]\n",
        "\n",
        "X_train, X_test,  y_train, y_test = train_test_split(X, y, test_size = 0.2)\n",
        "\n",
        "model = RandomForestRegressor(n_estimators = 150)\n",
        "model.fit(X_train, y_train)\n",
        "\n",
        "model.score(X_test, y_test) #Coefficient of Determination/R-Square"
      ],
      "metadata": {
        "colab": {
          "base_uri": "https://localhost:8080/"
        },
        "id": "heECHw_OGQdT",
        "outputId": "2854fd85-8b05-4f05-87e1-174cbf441a3c"
      },
      "execution_count": null,
      "outputs": [
        {
          "output_type": "execute_result",
          "data": {
            "text/plain": [
              "0.818422937482544"
            ]
          },
          "metadata": {},
          "execution_count": 60
        }
      ]
    },
    {
      "cell_type": "code",
      "source": [
        "# Use a trained model to make predictions\n",
        "model.predict(X_test)"
      ],
      "metadata": {
        "colab": {
          "base_uri": "https://localhost:8080/"
        },
        "id": "_MU1fyrDtu52",
        "outputId": "75a39079-4d68-40a2-8971-d6758a21b521"
      },
      "execution_count": null,
      "outputs": [
        {
          "output_type": "execute_result",
          "data": {
            "text/plain": [
              "array([0.70480667, 1.97928667, 2.28677333, ..., 1.69078673, 0.64156   ,\n",
              "       1.07674   ])"
            ]
          },
          "metadata": {},
          "execution_count": 61
        }
      ]
    },
    {
      "cell_type": "code",
      "source": [
        "len(model.predict(X_test))"
      ],
      "metadata": {
        "colab": {
          "base_uri": "https://localhost:8080/"
        },
        "id": "LavcFpYvt8BU",
        "outputId": "c041b80d-5cd8-4f40-889d-7367599e9689"
      },
      "execution_count": null,
      "outputs": [
        {
          "output_type": "execute_result",
          "data": {
            "text/plain": [
              "4128"
            ]
          },
          "metadata": {},
          "execution_count": 62
        }
      ]
    },
    {
      "cell_type": "code",
      "source": [
        "y_test.head(5)"
      ],
      "metadata": {
        "colab": {
          "base_uri": "https://localhost:8080/"
        },
        "id": "EuBjXeqsLCq1",
        "outputId": "8d3a3e01-c84e-49b2-f5a9-04130a05beb2"
      },
      "execution_count": null,
      "outputs": [
        {
          "output_type": "execute_result",
          "data": {
            "text/plain": [
              "3046     0.658\n",
              "6803     2.284\n",
              "10112    2.411\n",
              "3126     1.375\n",
              "5008     1.930\n",
              "Name: target, dtype: float64"
            ]
          },
          "metadata": {},
          "execution_count": 64
        }
      ]
    },
    {
      "cell_type": "code",
      "source": [
        "# Make predictions\n",
        "y_preds = model.predict(X_test)\n",
        "\n",
        "# Compare the predictions to the truth\n",
        "from sklearn.metrics import mean_absolute_error\n",
        "mean_absolute_error(y_test, y_preds)"
      ],
      "metadata": {
        "colab": {
          "base_uri": "https://localhost:8080/"
        },
        "id": "F-EW7RDKwjrH",
        "outputId": "0e57bdca-f259-4b1c-9c53-a753bd357ada"
      },
      "execution_count": null,
      "outputs": [
        {
          "output_type": "execute_result",
          "data": {
            "text/plain": [
              "0.3247004492732561"
            ]
          },
          "metadata": {},
          "execution_count": 63
        }
      ]
    },
    {
      "cell_type": "markdown",
      "source": [
        "## **Interpretation:**\n",
        "* **This refers that on an average the differene between the original target value (median housing price) and the predicted value of the model is 0.3247.**"
      ],
      "metadata": {
        "id": "HR52GZ7yxYS7"
      }
    },
    {
      "cell_type": "markdown",
      "source": [
        "**Classification Algorithm/Model**"
      ],
      "metadata": {
        "id": "hVsHR_UyNFTm"
      }
    },
    {
      "cell_type": "code",
      "source": [
        "### Choosing the Classification Algorithm/Model\n",
        "\n",
        "# Data for Classification Problems\n",
        "heart_disease = pd.read_csv(\"/content/drive/MyDrive/Python/Datasets/heart-disease.csv\")\n",
        "heart_disease.head()\n"
      ],
      "metadata": {
        "colab": {
          "base_uri": "https://localhost:8080/",
          "height": 206
        },
        "id": "t1eYY5WHGuqP",
        "outputId": "5f125be9-e7cb-43c4-9216-58d404871148"
      },
      "execution_count": null,
      "outputs": [
        {
          "output_type": "execute_result",
          "data": {
            "text/plain": [
              "   age  sex  cp  trestbps  chol  fbs  restecg  thalach  exang  oldpeak  slope  \\\n",
              "0   63    1   3       145   233    1        0      150      0      2.3      0   \n",
              "1   37    1   2       130   250    0        1      187      0      3.5      0   \n",
              "2   41    0   1       130   204    0        0      172      0      1.4      2   \n",
              "3   56    1   1       120   236    0        1      178      0      0.8      2   \n",
              "4   57    0   0       120   354    0        1      163      1      0.6      2   \n",
              "\n",
              "   ca  thal  target  \n",
              "0   0     1       1  \n",
              "1   0     2       1  \n",
              "2   0     2       1  \n",
              "3   0     2       1  \n",
              "4   0     2       1  "
            ],
            "text/html": [
              "\n",
              "  <div id=\"df-3a0859c3-bf31-41e6-98d1-1a4e97465184\" class=\"colab-df-container\">\n",
              "    <div>\n",
              "<style scoped>\n",
              "    .dataframe tbody tr th:only-of-type {\n",
              "        vertical-align: middle;\n",
              "    }\n",
              "\n",
              "    .dataframe tbody tr th {\n",
              "        vertical-align: top;\n",
              "    }\n",
              "\n",
              "    .dataframe thead th {\n",
              "        text-align: right;\n",
              "    }\n",
              "</style>\n",
              "<table border=\"1\" class=\"dataframe\">\n",
              "  <thead>\n",
              "    <tr style=\"text-align: right;\">\n",
              "      <th></th>\n",
              "      <th>age</th>\n",
              "      <th>sex</th>\n",
              "      <th>cp</th>\n",
              "      <th>trestbps</th>\n",
              "      <th>chol</th>\n",
              "      <th>fbs</th>\n",
              "      <th>restecg</th>\n",
              "      <th>thalach</th>\n",
              "      <th>exang</th>\n",
              "      <th>oldpeak</th>\n",
              "      <th>slope</th>\n",
              "      <th>ca</th>\n",
              "      <th>thal</th>\n",
              "      <th>target</th>\n",
              "    </tr>\n",
              "  </thead>\n",
              "  <tbody>\n",
              "    <tr>\n",
              "      <th>0</th>\n",
              "      <td>63</td>\n",
              "      <td>1</td>\n",
              "      <td>3</td>\n",
              "      <td>145</td>\n",
              "      <td>233</td>\n",
              "      <td>1</td>\n",
              "      <td>0</td>\n",
              "      <td>150</td>\n",
              "      <td>0</td>\n",
              "      <td>2.3</td>\n",
              "      <td>0</td>\n",
              "      <td>0</td>\n",
              "      <td>1</td>\n",
              "      <td>1</td>\n",
              "    </tr>\n",
              "    <tr>\n",
              "      <th>1</th>\n",
              "      <td>37</td>\n",
              "      <td>1</td>\n",
              "      <td>2</td>\n",
              "      <td>130</td>\n",
              "      <td>250</td>\n",
              "      <td>0</td>\n",
              "      <td>1</td>\n",
              "      <td>187</td>\n",
              "      <td>0</td>\n",
              "      <td>3.5</td>\n",
              "      <td>0</td>\n",
              "      <td>0</td>\n",
              "      <td>2</td>\n",
              "      <td>1</td>\n",
              "    </tr>\n",
              "    <tr>\n",
              "      <th>2</th>\n",
              "      <td>41</td>\n",
              "      <td>0</td>\n",
              "      <td>1</td>\n",
              "      <td>130</td>\n",
              "      <td>204</td>\n",
              "      <td>0</td>\n",
              "      <td>0</td>\n",
              "      <td>172</td>\n",
              "      <td>0</td>\n",
              "      <td>1.4</td>\n",
              "      <td>2</td>\n",
              "      <td>0</td>\n",
              "      <td>2</td>\n",
              "      <td>1</td>\n",
              "    </tr>\n",
              "    <tr>\n",
              "      <th>3</th>\n",
              "      <td>56</td>\n",
              "      <td>1</td>\n",
              "      <td>1</td>\n",
              "      <td>120</td>\n",
              "      <td>236</td>\n",
              "      <td>0</td>\n",
              "      <td>1</td>\n",
              "      <td>178</td>\n",
              "      <td>0</td>\n",
              "      <td>0.8</td>\n",
              "      <td>2</td>\n",
              "      <td>0</td>\n",
              "      <td>2</td>\n",
              "      <td>1</td>\n",
              "    </tr>\n",
              "    <tr>\n",
              "      <th>4</th>\n",
              "      <td>57</td>\n",
              "      <td>0</td>\n",
              "      <td>0</td>\n",
              "      <td>120</td>\n",
              "      <td>354</td>\n",
              "      <td>0</td>\n",
              "      <td>1</td>\n",
              "      <td>163</td>\n",
              "      <td>1</td>\n",
              "      <td>0.6</td>\n",
              "      <td>2</td>\n",
              "      <td>0</td>\n",
              "      <td>2</td>\n",
              "      <td>1</td>\n",
              "    </tr>\n",
              "  </tbody>\n",
              "</table>\n",
              "</div>\n",
              "    <div class=\"colab-df-buttons\">\n",
              "\n",
              "  <div class=\"colab-df-container\">\n",
              "    <button class=\"colab-df-convert\" onclick=\"convertToInteractive('df-3a0859c3-bf31-41e6-98d1-1a4e97465184')\"\n",
              "            title=\"Convert this dataframe to an interactive table.\"\n",
              "            style=\"display:none;\">\n",
              "\n",
              "  <svg xmlns=\"http://www.w3.org/2000/svg\" height=\"24px\" viewBox=\"0 -960 960 960\">\n",
              "    <path d=\"M120-120v-720h720v720H120Zm60-500h600v-160H180v160Zm220 220h160v-160H400v160Zm0 220h160v-160H400v160ZM180-400h160v-160H180v160Zm440 0h160v-160H620v160ZM180-180h160v-160H180v160Zm440 0h160v-160H620v160Z\"/>\n",
              "  </svg>\n",
              "    </button>\n",
              "\n",
              "  <style>\n",
              "    .colab-df-container {\n",
              "      display:flex;\n",
              "      gap: 12px;\n",
              "    }\n",
              "\n",
              "    .colab-df-convert {\n",
              "      background-color: #E8F0FE;\n",
              "      border: none;\n",
              "      border-radius: 50%;\n",
              "      cursor: pointer;\n",
              "      display: none;\n",
              "      fill: #1967D2;\n",
              "      height: 32px;\n",
              "      padding: 0 0 0 0;\n",
              "      width: 32px;\n",
              "    }\n",
              "\n",
              "    .colab-df-convert:hover {\n",
              "      background-color: #E2EBFA;\n",
              "      box-shadow: 0px 1px 2px rgba(60, 64, 67, 0.3), 0px 1px 3px 1px rgba(60, 64, 67, 0.15);\n",
              "      fill: #174EA6;\n",
              "    }\n",
              "\n",
              "    .colab-df-buttons div {\n",
              "      margin-bottom: 4px;\n",
              "    }\n",
              "\n",
              "    [theme=dark] .colab-df-convert {\n",
              "      background-color: #3B4455;\n",
              "      fill: #D2E3FC;\n",
              "    }\n",
              "\n",
              "    [theme=dark] .colab-df-convert:hover {\n",
              "      background-color: #434B5C;\n",
              "      box-shadow: 0px 1px 3px 1px rgba(0, 0, 0, 0.15);\n",
              "      filter: drop-shadow(0px 1px 2px rgba(0, 0, 0, 0.3));\n",
              "      fill: #FFFFFF;\n",
              "    }\n",
              "  </style>\n",
              "\n",
              "    <script>\n",
              "      const buttonEl =\n",
              "        document.querySelector('#df-3a0859c3-bf31-41e6-98d1-1a4e97465184 button.colab-df-convert');\n",
              "      buttonEl.style.display =\n",
              "        google.colab.kernel.accessAllowed ? 'block' : 'none';\n",
              "\n",
              "      async function convertToInteractive(key) {\n",
              "        const element = document.querySelector('#df-3a0859c3-bf31-41e6-98d1-1a4e97465184');\n",
              "        const dataTable =\n",
              "          await google.colab.kernel.invokeFunction('convertToInteractive',\n",
              "                                                    [key], {});\n",
              "        if (!dataTable) return;\n",
              "\n",
              "        const docLinkHtml = 'Like what you see? Visit the ' +\n",
              "          '<a target=\"_blank\" href=https://colab.research.google.com/notebooks/data_table.ipynb>data table notebook</a>'\n",
              "          + ' to learn more about interactive tables.';\n",
              "        element.innerHTML = '';\n",
              "        dataTable['output_type'] = 'display_data';\n",
              "        await google.colab.output.renderOutput(dataTable, element);\n",
              "        const docLink = document.createElement('div');\n",
              "        docLink.innerHTML = docLinkHtml;\n",
              "        element.appendChild(docLink);\n",
              "      }\n",
              "    </script>\n",
              "  </div>\n",
              "\n",
              "\n",
              "<div id=\"df-b0d85636-04c3-44b9-9732-edb03ea5a13f\">\n",
              "  <button class=\"colab-df-quickchart\" onclick=\"quickchart('df-b0d85636-04c3-44b9-9732-edb03ea5a13f')\"\n",
              "            title=\"Suggest charts.\"\n",
              "            style=\"display:none;\">\n",
              "\n",
              "<svg xmlns=\"http://www.w3.org/2000/svg\" height=\"24px\"viewBox=\"0 0 24 24\"\n",
              "     width=\"24px\">\n",
              "    <g>\n",
              "        <path d=\"M19 3H5c-1.1 0-2 .9-2 2v14c0 1.1.9 2 2 2h14c1.1 0 2-.9 2-2V5c0-1.1-.9-2-2-2zM9 17H7v-7h2v7zm4 0h-2V7h2v10zm4 0h-2v-4h2v4z\"/>\n",
              "    </g>\n",
              "</svg>\n",
              "  </button>\n",
              "\n",
              "<style>\n",
              "  .colab-df-quickchart {\n",
              "    background-color: #E8F0FE;\n",
              "    border: none;\n",
              "    border-radius: 50%;\n",
              "    cursor: pointer;\n",
              "    display: none;\n",
              "    fill: #1967D2;\n",
              "    height: 32px;\n",
              "    padding: 0 0 0 0;\n",
              "    width: 32px;\n",
              "  }\n",
              "\n",
              "  .colab-df-quickchart:hover {\n",
              "    background-color: #E2EBFA;\n",
              "    box-shadow: 0px 1px 2px rgba(60, 64, 67, 0.3), 0px 1px 3px 1px rgba(60, 64, 67, 0.15);\n",
              "    fill: #174EA6;\n",
              "  }\n",
              "\n",
              "  [theme=dark] .colab-df-quickchart {\n",
              "    background-color: #3B4455;\n",
              "    fill: #D2E3FC;\n",
              "  }\n",
              "\n",
              "  [theme=dark] .colab-df-quickchart:hover {\n",
              "    background-color: #434B5C;\n",
              "    box-shadow: 0px 1px 3px 1px rgba(0, 0, 0, 0.15);\n",
              "    filter: drop-shadow(0px 1px 2px rgba(0, 0, 0, 0.3));\n",
              "    fill: #FFFFFF;\n",
              "  }\n",
              "</style>\n",
              "\n",
              "  <script>\n",
              "    async function quickchart(key) {\n",
              "      const charts = await google.colab.kernel.invokeFunction(\n",
              "          'suggestCharts', [key], {});\n",
              "    }\n",
              "    (() => {\n",
              "      let quickchartButtonEl =\n",
              "        document.querySelector('#df-b0d85636-04c3-44b9-9732-edb03ea5a13f button');\n",
              "      quickchartButtonEl.style.display =\n",
              "        google.colab.kernel.accessAllowed ? 'block' : 'none';\n",
              "    })();\n",
              "  </script>\n",
              "</div>\n",
              "    </div>\n",
              "  </div>\n"
            ]
          },
          "metadata": {},
          "execution_count": 65
        }
      ]
    },
    {
      "cell_type": "code",
      "source": [
        "from sklearn.svm import LinearSVC\n",
        "\n",
        "np.random.seed(45)\n",
        "\n",
        "X= heart_disease.drop(\"target\", axis =1)\n",
        "y = heart_disease[\"target\"]\n",
        "\n",
        "X_train, X_test,  y_train, y_test = train_test_split(X, y, test_size = 0.2)\n",
        "\n",
        "clf = LinearSVC()\n",
        "clf.fit(X_train, y_train)\n",
        "\n",
        "clf.score(X_test, y_test)"
      ],
      "metadata": {
        "colab": {
          "base_uri": "https://localhost:8080/"
        },
        "id": "2d4Glx66JqZo",
        "outputId": "47dd79bc-7ac9-49be-cdb4-5c8b64553c0a"
      },
      "execution_count": null,
      "outputs": [
        {
          "output_type": "stream",
          "name": "stderr",
          "text": [
            "/usr/local/lib/python3.10/dist-packages/sklearn/svm/_base.py:1244: ConvergenceWarning: Liblinear failed to converge, increase the number of iterations.\n",
            "  warnings.warn(\n"
          ]
        },
        {
          "output_type": "execute_result",
          "data": {
            "text/plain": [
              "0.3770491803278688"
            ]
          },
          "metadata": {},
          "execution_count": 66
        }
      ]
    },
    {
      "cell_type": "code",
      "source": [
        "# Now, try an Ensemble Learning Method (RandomForestClassifier)\n",
        "\n",
        "from sklearn.ensemble import RandomForestClassifier\n",
        "\n",
        "np.random.seed(45)\n",
        "\n",
        "X= heart_disease.drop(\"target\", axis =1)\n",
        "y = heart_disease[\"target\"]\n",
        "\n",
        "X_train, X_test,  y_train, y_test = train_test_split(X, y, test_size = 0.2)\n",
        "\n",
        "clf = RandomForestClassifier()\n",
        "clf.fit(X_train, y_train)\n",
        "\n",
        "clf.score(X_test, y_test)"
      ],
      "metadata": {
        "colab": {
          "base_uri": "https://localhost:8080/"
        },
        "id": "LIL9IafJKORe",
        "outputId": "406416fe-06d7-46d9-d264-93f1cd055715"
      },
      "execution_count": null,
      "outputs": [
        {
          "output_type": "execute_result",
          "data": {
            "text/plain": [
              "0.8360655737704918"
            ]
          },
          "metadata": {},
          "execution_count": 67
        }
      ]
    },
    {
      "cell_type": "markdown",
      "source": [
        "* **So, a huge improvement in terms of the prediction accuracy in the Ensemble learning Methods**"
      ],
      "metadata": {
        "id": "G7jdcq4dKzo9"
      }
    },
    {
      "cell_type": "markdown",
      "source": [
        "# Making predictions using a machine learning model:\n",
        "* Now we've got a trained model, one which has hoepfully learned patterns in the data, we will want to use it to make predictions.\n",
        "\n",
        "* Scikit-Learn enables this in several ways. Two of the most common and useful are ***predict()*** and ***predict_proba()***\n",
        "\n"
      ],
      "metadata": {
        "id": "_e98vJRTuZDq"
      }
    },
    {
      "cell_type": "code",
      "source": [
        "# Use a trained model to make predictions\n",
        "clf.predict(X_test)"
      ],
      "metadata": {
        "colab": {
          "base_uri": "https://localhost:8080/"
        },
        "id": "YBaV-436uLT0",
        "outputId": "8632b69a-c74e-4f58-afda-b7cf53b1d1cb"
      },
      "execution_count": null,
      "outputs": [
        {
          "output_type": "execute_result",
          "data": {
            "text/plain": [
              "array([1, 1, 1, 1, 1, 1, 0, 0, 1, 0, 1, 1, 1, 0, 0, 0, 1, 0, 0, 1, 1, 1,\n",
              "       1, 1, 0, 1, 1, 1, 1, 0, 1, 0, 0, 0, 0, 1, 0, 1, 0, 1, 1, 0, 0, 1,\n",
              "       0, 0, 1, 0, 0, 0, 1, 1, 1, 1, 0, 0, 1, 0, 1, 1, 0])"
            ]
          },
          "metadata": {},
          "execution_count": 68
        }
      ]
    },
    {
      "cell_type": "code",
      "source": [
        "y_test.tail()"
      ],
      "metadata": {
        "colab": {
          "base_uri": "https://localhost:8080/"
        },
        "id": "lw8026kXLiDV",
        "outputId": "b188adfa-5cb8-4dc5-e1b0-4b79510e2621"
      },
      "execution_count": null,
      "outputs": [
        {
          "output_type": "execute_result",
          "data": {
            "text/plain": [
              "162    1\n",
              "205    0\n",
              "122    1\n",
              "99     1\n",
              "139    1\n",
              "Name: target, dtype: int64"
            ]
          },
          "metadata": {},
          "execution_count": 71
        }
      ]
    },
    {
      "cell_type": "markdown",
      "source": [
        "* Given data in the form of X, the predict() function returns labels in the form of y.\n",
        "\n",
        "* It's standard practice to save these predictions to a variable named something like y_preds for later comparison to y_test or y_true (usually same as y_test just another name)."
      ],
      "metadata": {
        "id": "fD0BFz7EuseT"
      }
    },
    {
      "cell_type": "code",
      "source": [
        "# Compare predictions to truth\n",
        "y_preds = clf.predict(X_test)\n",
        "np.mean(y_preds == y_test)"
      ],
      "metadata": {
        "colab": {
          "base_uri": "https://localhost:8080/"
        },
        "id": "eRyobu-Lu4xD",
        "outputId": "d263e26b-c300-49b3-cc4b-d27f8da72a17"
      },
      "execution_count": null,
      "outputs": [
        {
          "output_type": "execute_result",
          "data": {
            "text/plain": [
              "0.8360655737704918"
            ]
          },
          "metadata": {},
          "execution_count": 72
        }
      ]
    },
    {
      "cell_type": "markdown",
      "source": [
        "Another way of doing this is with Scikit-Learn's **accuracy_score()** function."
      ],
      "metadata": {
        "id": "Cjmg0qK0u30r"
      }
    },
    {
      "cell_type": "code",
      "source": [
        "from sklearn.metrics import accuracy_score\n",
        "accuracy_score(y_test, y_preds)"
      ],
      "metadata": {
        "colab": {
          "base_uri": "https://localhost:8080/"
        },
        "id": "XDoV7tOHvCeu",
        "outputId": "bac0b8f0-48b2-44aa-9d74-75f6783f604c"
      },
      "execution_count": null,
      "outputs": [
        {
          "output_type": "execute_result",
          "data": {
            "text/plain": [
              "0.8360655737704918"
            ]
          },
          "metadata": {},
          "execution_count": 73
        }
      ]
    },
    {
      "cell_type": "markdown",
      "source": [
        "***Note:*** For the predict() function to work, it must be passed X (data) in the same format the model was trained on. Anything different and it will return an error.\n",
        "\n",
        "* **predict_proba()** returns the probabilities of a classification label."
      ],
      "metadata": {
        "id": "M0q08GIzvI9b"
      }
    },
    {
      "cell_type": "code",
      "source": [
        "# Return probabilities rather than labels\n",
        "clf.predict_proba(X_test[:10])"
      ],
      "metadata": {
        "colab": {
          "base_uri": "https://localhost:8080/"
        },
        "id": "mLGe0BxyvUZ0",
        "outputId": "d7624d15-2bb6-4687-b61e-d14353f5a2b6"
      },
      "execution_count": null,
      "outputs": [
        {
          "output_type": "execute_result",
          "data": {
            "text/plain": [
              "array([[0.02, 0.98],\n",
              "       [0.34, 0.66],\n",
              "       [0.04, 0.96],\n",
              "       [0.29, 0.71],\n",
              "       [0.45, 0.55],\n",
              "       [0.35, 0.65],\n",
              "       [0.66, 0.34],\n",
              "       [0.93, 0.07],\n",
              "       [0.12, 0.88],\n",
              "       [0.6 , 0.4 ]])"
            ]
          },
          "metadata": {},
          "execution_count": 74
        }
      ]
    },
    {
      "cell_type": "code",
      "source": [
        "# Return labels\n",
        "clf.predict(X_test[:10])\n",
        "\n",
        "#Let's see the difference"
      ],
      "metadata": {
        "colab": {
          "base_uri": "https://localhost:8080/"
        },
        "id": "0DnaSYPQvcwI",
        "outputId": "f5855997-9c54-4ace-9812-fde7dd77c5b7"
      },
      "execution_count": null,
      "outputs": [
        {
          "output_type": "execute_result",
          "data": {
            "text/plain": [
              "array([1, 1, 1, 1, 1, 1, 0, 0, 1, 0])"
            ]
          },
          "metadata": {},
          "execution_count": 75
        }
      ]
    },
    {
      "cell_type": "markdown",
      "source": [
        "* ***predict_proba()*** returns an array of ten arrays each containing two values.\n",
        "\n",
        "* Each number is the probability of a label given a sample."
      ],
      "metadata": {
        "id": "ZaX62-U9vmcT"
      }
    },
    {
      "cell_type": "code",
      "source": [
        "# Find prediction probabilities for 1 sample\n",
        "clf.predict_proba(X_test[:1])"
      ],
      "metadata": {
        "colab": {
          "base_uri": "https://localhost:8080/"
        },
        "id": "26mmdxT9v6jB",
        "outputId": "a197baf5-8f57-4865-ed99-a1e673f729c4"
      },
      "execution_count": null,
      "outputs": [
        {
          "output_type": "execute_result",
          "data": {
            "text/plain": [
              "array([[0.02, 0.98]])"
            ]
          },
          "metadata": {},
          "execution_count": 19
        }
      ]
    },
    {
      "cell_type": "markdown",
      "source": [
        "* This output means the sample **X_test[:1]**, the model is predicting label 1 (index 0) with a probability score of 0.98.\n",
        "\n",
        "* Because the score is over 0.5, when using **predict()**, a label of 1 is assigned."
      ],
      "metadata": {
        "id": "LbNzp2NRv2qW"
      }
    },
    {
      "cell_type": "code",
      "source": [
        "# Return the label for 1 sample\n",
        "clf.predict(X_test[:1])"
      ],
      "metadata": {
        "colab": {
          "base_uri": "https://localhost:8080/"
        },
        "id": "z8LIo5ZxwDRV",
        "outputId": "547b8db3-7d56-48b1-b98b-1cbb309aa7c0"
      },
      "execution_count": null,
      "outputs": [
        {
          "output_type": "execute_result",
          "data": {
            "text/plain": [
              "array([1])"
            ]
          },
          "metadata": {},
          "execution_count": 20
        }
      ]
    },
    {
      "cell_type": "markdown",
      "source": [
        "## **Where does 0.5 come from?**\n",
        "\n",
        "Because our problem is a binary classification task (heart disease or not heart disease), predicting a label with 0.5 probability every time would be the same as a coin toss (guessing). Therefore, once the prediction probability of a sample passes 0.5, for a certain label, it's assigned that label."
      ],
      "metadata": {
        "id": "tCW5wQk9vOp0"
      }
    },
    {
      "cell_type": "markdown",
      "metadata": {
        "id": "D9WNvxlLV8R0"
      },
      "source": [
        "## **Evaluating a model**\n",
        "\n",
        "Once you've trained a model, you'll want a way to measure how trustworthy its predictions are.\n",
        "\n",
        "Scikit-Learn implements 3 different methods of evaluating models.\n",
        "\n",
        "1. The `score()` method. Calling `score()` on a model instance will return a metric assosciated with the type of model you're using. The metric depends on which model you're using.\n",
        "2. The `scoring` parameter. This parameter can be passed to methods such as [`cross_val_score()`](https://scikit-learn.org/stable/modules/generated/sklearn.model_selection.cross_val_score.html#sklearn.model_selection.cross_val_score) or [`GridSearchCV()`](https://scikit-learn.org/stable/modules/generated/sklearn.model_selection.GridSearchCV.html) to tell Scikit-Learn to use a specific type of scoring metric.\n",
        "3. Problem-specific metric functions. Similar to how the `scoring` parameter can be passed different scoring functions, Scikit-Learn implements these as stand alone functions.\n",
        "\n",
        "The scoring function you use will also depend on the problem you're working on.\n",
        "\n",
        "Classification problems have different evaluation metrics and scoring functions to regression problems."
      ]
    },
    {
      "cell_type": "markdown",
      "source": [
        "**Another method of validating/evaluating model performance**\n"
      ],
      "metadata": {
        "id": "OAla516kOn-e"
      }
    },
    {
      "cell_type": "code",
      "source": [
        "# cross_val_score\n",
        "\n",
        "from sklearn.model_selection import cross_val_score\n",
        "\n",
        "np.random.seed(45)\n",
        "\n",
        "X= heart_disease.drop(\"target\", axis =1)\n",
        "y = heart_disease[\"target\"]\n",
        "\n",
        "#X_train, X_test,  y_train, y_test = train_test_split(X, y, test_size = 0.2)\n",
        "\n",
        "clf = RandomForestClassifier()\n",
        "\n",
        "clf_cross_val_score = cross_val_score(clf, X, y, cv = 6)\n",
        "print(clf_cross_val_score)\n",
        "\n",
        "print(f\"Average Cross Validation Score: {np.mean(clf_cross_val_score)*100:.2f} %\")"
      ],
      "metadata": {
        "colab": {
          "base_uri": "https://localhost:8080/"
        },
        "id": "LVq3cNmGLA8G",
        "outputId": "e0ac1a10-5391-4ded-abdd-9226245806a6"
      },
      "execution_count": null,
      "outputs": [
        {
          "output_type": "stream",
          "name": "stdout",
          "text": [
            "[0.82352941 0.84313725 0.8627451  0.8        0.84       0.76      ]\n",
            "Average Cross Validation Score: 82.16 %\n"
          ]
        }
      ]
    },
    {
      "cell_type": "markdown",
      "source": [
        "* `cross_val_score()` returns an array where as `score()` only returns a single number.\n",
        "\n",
        "* `cross_val_score()` returns an array because of a parameter called cv, which stands for cross-validation.\n",
        "\n",
        "* When cv isn't set, `cross_val_score()` will return an array of 5 numbers by default"
      ],
      "metadata": {
        "id": "uqNlQ0zCx60j"
      }
    },
    {
      "cell_type": "markdown",
      "source": [
        "![sklearn-cross-validation.png](data:image/png;base64,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)"
      ],
      "metadata": {
        "id": "l9SWdWN-yZ7h"
      }
    },
    {
      "cell_type": "markdown",
      "source": [
        "We've dealt with Figure on the left hand side before using score(X_test, y_test). But looking deeper into this, if a model is trained using the training data or 80% of samples, this means 20% of samples aren't used for the model to learn anything.\n",
        "\n",
        "This also means depending on what 80% is used to train on and what 20% is used to evaluate the model, it may achieve a score which doesn't reflect the entire dataset. For example, if a lot of easy examples are in the 80% training data, when it comes to test on the 20%, your model may perform poorly. The same goes for the reverse.\n",
        "\n",
        "Figure on the right hand side shows 5-fold cross-validation, a method which tries to provide a solution to:\n",
        "\n",
        "Not training on all the data\n",
        "Avoiding getting lucky scores on single splits of the data\n",
        "Instead of training only on 1 training split and evaluating on 1 testing split, 5-fold cross-validation does it 5 times. On a different split each time, returning a score for each."
      ],
      "metadata": {
        "id": "4aipH3NRyRb-"
      }
    },
    {
      "cell_type": "markdown",
      "source": [
        "## **Why 5-fold?**\n",
        "\n",
        "The actual name of this setup K-fold cross-validation. Where K is an abitrary number. We've used 5 because it looks nice visually, and is default in Scikit-Learn from version 0.22 onwards."
      ],
      "metadata": {
        "id": "q2hueep4yxsN"
      }
    },
    {
      "cell_type": "markdown",
      "source": [
        "***Area Under Receiver Operating Characteristic (ROC) Curve:***\n",
        "\n",
        "It refers to as *AUC* for **Area Under Curve** and the curve we're talking about is the **Receiver Operating Characteristic** or *ROC* for short.\n",
        "\n",
        "***ROC curves are a comparison of true postive rate (tpr) versus false positive rate (fpr).***\n",
        "\n",
        "For clarity:\n",
        "\n",
        "True positive = model predicts 1 when truth is 1\n",
        "\n",
        "False positive = model predicts 1 when truth is 0\n",
        "\n",
        "True negative = model predicts 0 when truth is 0\n",
        "\n",
        "False negative = model predicts 0 when truth is 1"
      ],
      "metadata": {
        "id": "y6tjL1EczIXx"
      }
    },
    {
      "cell_type": "code",
      "source": [
        "from sklearn.metrics import roc_curve\n",
        "\n",
        "from sklearn.ensemble import RandomForestClassifier\n",
        "\n",
        "np.random.seed(45)\n",
        "\n",
        "X= heart_disease.drop(\"target\", axis =1)\n",
        "y = heart_disease[\"target\"]\n",
        "\n",
        "X_train, X_test,  y_train, y_test = train_test_split(X, y, test_size = 0.2)\n",
        "\n",
        "clf = RandomForestClassifier()\n",
        "clf.fit(X_train, y_train)\n",
        "\n",
        "# Make predictions with probabilities\n",
        "y_probs = clf.predict_proba(X_test)\n",
        "\n",
        "# Keeping the probabilites of the positive class only\n",
        "y_probs = y_probs[:, 1]\n",
        "\n",
        "# Calculate fpr, tpr and thresholds\n",
        "fpr, tpr, thresholds = roc_curve(y_test, y_probs)\n",
        "\n",
        "# Check the false positive rate\n",
        "print(fpr)\n",
        "# Check the true positive rate\n",
        "print(tpr)\n",
        "\n",
        "#check the threshold value\n",
        "print(thresholds)"
      ],
      "metadata": {
        "colab": {
          "base_uri": "https://localhost:8080/"
        },
        "id": "0uZQ8E4Jzp95",
        "outputId": "2e2b7828-fb9a-4bd5-e322-ccde0cccf535"
      },
      "execution_count": null,
      "outputs": [
        {
          "output_type": "stream",
          "name": "stdout",
          "text": [
            "[0.         0.         0.         0.         0.         0.\n",
            " 0.         0.         0.         0.         0.04347826 0.04347826\n",
            " 0.08695652 0.08695652 0.08695652 0.08695652 0.13043478 0.13043478\n",
            " 0.13043478 0.13043478 0.13043478 0.39130435 0.39130435 0.47826087\n",
            " 0.47826087 0.52173913 0.60869565 0.73913043 0.86956522 0.86956522\n",
            " 0.91304348 1.        ]\n",
            "[0.         0.02631579 0.07894737 0.13157895 0.15789474 0.21052632\n",
            " 0.31578947 0.34210526 0.39473684 0.44736842 0.44736842 0.55263158\n",
            " 0.57894737 0.60526316 0.71052632 0.76315789 0.76315789 0.81578947\n",
            " 0.84210526 0.89473684 0.92105263 0.92105263 0.94736842 0.94736842\n",
            " 0.97368421 0.97368421 0.97368421 0.97368421 0.97368421 1.\n",
            " 1.         1.        ]\n",
            "[2.   1.   0.98 0.96 0.94 0.93 0.9  0.89 0.88 0.83 0.82 0.68 0.66 0.65\n",
            " 0.58 0.54 0.52 0.51 0.5  0.49 0.48 0.25 0.24 0.18 0.17 0.16 0.12 0.1\n",
            " 0.07 0.06 0.04 0.  ]\n"
          ]
        }
      ]
    },
    {
      "cell_type": "markdown",
      "source": [
        "***roc_curve*** Documentation:\n",
        "\n",
        "https://scikit-learn.org/stable/modules/generated/sklearn.metrics.roc_curve.html#sklearn.metrics.roc_curve"
      ],
      "metadata": {
        "id": "y3f_5lTj02Eg"
      }
    },
    {
      "cell_type": "code",
      "source": [
        "roc_curve(y_test, y_probs)"
      ],
      "metadata": {
        "colab": {
          "base_uri": "https://localhost:8080/"
        },
        "id": "e66ZB2ex0lUc",
        "outputId": "1691a23a-55be-406d-aebf-d64ef5de248a"
      },
      "execution_count": null,
      "outputs": [
        {
          "output_type": "execute_result",
          "data": {
            "text/plain": [
              "(array([0.        , 0.        , 0.        , 0.        , 0.        ,\n",
              "        0.        , 0.        , 0.        , 0.        , 0.        ,\n",
              "        0.04347826, 0.04347826, 0.08695652, 0.08695652, 0.08695652,\n",
              "        0.08695652, 0.13043478, 0.13043478, 0.13043478, 0.13043478,\n",
              "        0.13043478, 0.39130435, 0.39130435, 0.47826087, 0.47826087,\n",
              "        0.52173913, 0.60869565, 0.73913043, 0.86956522, 0.86956522,\n",
              "        0.91304348, 1.        ]),\n",
              " array([0.        , 0.02631579, 0.07894737, 0.13157895, 0.15789474,\n",
              "        0.21052632, 0.31578947, 0.34210526, 0.39473684, 0.44736842,\n",
              "        0.44736842, 0.55263158, 0.57894737, 0.60526316, 0.71052632,\n",
              "        0.76315789, 0.76315789, 0.81578947, 0.84210526, 0.89473684,\n",
              "        0.92105263, 0.92105263, 0.94736842, 0.94736842, 0.97368421,\n",
              "        0.97368421, 0.97368421, 0.97368421, 0.97368421, 1.        ,\n",
              "        1.        , 1.        ]),\n",
              " array([2.  , 1.  , 0.98, 0.96, 0.94, 0.93, 0.9 , 0.89, 0.88, 0.83, 0.82,\n",
              "        0.68, 0.66, 0.65, 0.58, 0.54, 0.52, 0.51, 0.5 , 0.49, 0.48, 0.25,\n",
              "        0.24, 0.18, 0.17, 0.16, 0.12, 0.1 , 0.07, 0.06, 0.04, 0.  ]))"
            ]
          },
          "metadata": {},
          "execution_count": 34
        }
      ]
    },
    {
      "cell_type": "markdown",
      "source": [
        "* Looking at these on their own doesn't make much sense.\n",
        "* It's much easier to see their value visually.\n",
        "\n",
        "* Since Scikit-Learn doesn't have a built-in function to plot a ROC curve, quite often, you'll find a function (or write your own) like the one below."
      ],
      "metadata": {
        "id": "eKE9nT211Fz1"
      }
    },
    {
      "cell_type": "code",
      "source": [
        "import matplotlib.pyplot as plt\n",
        "\n",
        "def plot_roc_curve(fpr, tpr):\n",
        "    \"\"\"\n",
        "    Plots a ROC curve given the false positve rate (fpr) and\n",
        "    true postive rate (tpr) of a classifier.\n",
        "    \"\"\"\n",
        "    # Plot ROC curve\n",
        "    plt.plot(fpr, tpr, color='orange', label='ROC')\n",
        "    # Plot line with no predictive power (baseline)\n",
        "    plt.plot([0, 1], [0, 1], color='darkblue', linestyle='--', label='Guessing')\n",
        "    # Customize the plot\n",
        "    plt.xlabel('False Positive Rate')\n",
        "    plt.ylabel('True Positive Rate')\n",
        "    plt.title('Receiver Operating Characteristic (ROC) Curve')\n",
        "    plt.legend()\n",
        "    plt.show()\n",
        "\n",
        "plot_roc_curve(fpr, tpr)"
      ],
      "metadata": {
        "colab": {
          "base_uri": "https://localhost:8080/",
          "height": 472
        },
        "id": "fQLzihFh0DLn",
        "outputId": "f3bd62ba-b38c-45cc-fe82-ee576466eee0"
      },
      "execution_count": null,
      "outputs": [
        {
          "output_type": "display_data",
          "data": {
            "text/plain": [
              "<Figure size 640x480 with 1 Axes>"
            ],
            "image/png": "[encoded data removed]"
          },
          "metadata": {}
        }
      ]
    },
    {
      "cell_type": "markdown",
      "source": [
        "* The main thing to take away here is our model is doing far better than guessing.\n",
        "\n",
        "* A metric you can use to quantify the ROC curve in a single number is AUC (Area Under Curve). Scikit-Learn implements a function to caculate this called `roc_auc_score()`\n",
        "* The maximum `ROC` `AUC` score you can achieve is 1.0 and generally, the closer to 1.0, the better the model."
      ],
      "metadata": {
        "id": "ESTbaXIv1Wl2"
      }
    },
    {
      "cell_type": "code",
      "source": [
        "from sklearn.metrics import roc_auc_score\n",
        "\n",
        "roc_auc_score(y_test, y_probs)"
      ],
      "metadata": {
        "colab": {
          "base_uri": "https://localhost:8080/"
        },
        "id": "4gHqcd5g1XIF",
        "outputId": "9b173c70-4ebe-457e-a20d-c5c67d58a993"
      },
      "execution_count": null,
      "outputs": [
        {
          "output_type": "execute_result",
          "data": {
            "text/plain": [
              "0.9113272311212816"
            ]
          },
          "metadata": {},
          "execution_count": 78
        }
      ]
    },
    {
      "cell_type": "markdown",
      "source": [
        "* The most ideal position for a ROC curve to run along the top left corner of the plot.\n",
        "\n",
        "* This would mean the model predicts only true positives and no false positives. And would result in a ROC AUC score of 1.0."
      ],
      "metadata": {
        "id": "8UEeKls91mj8"
      }
    },
    {
      "cell_type": "markdown",
      "source": [
        "## ***Confusion Matrix:***\n",
        "\n",
        "* The next way to evaluate a classification model is by using a confusion matrix.\n",
        "\n",
        "* A confusion matrix is a quick way to compare the labels a model predicts and the actual labels it was supposed to predict. In essence, giving you an idea of where the model is getting confused."
      ],
      "metadata": {
        "id": "PLdI4R6P1vzm"
      }
    },
    {
      "cell_type": "code",
      "source": [
        "from sklearn.metrics import confusion_matrix\n",
        "\n",
        "y_preds = clf.predict(X_test)\n",
        "\n",
        "confusion_matrix(y_test, y_preds)"
      ],
      "metadata": {
        "colab": {
          "base_uri": "https://localhost:8080/"
        },
        "id": "HNUu6Bgn1da-",
        "outputId": "4fbd79eb-698d-4a49-9c3e-c09fe955ad84"
      },
      "execution_count": null,
      "outputs": [
        {
          "output_type": "execute_result",
          "data": {
            "text/plain": [
              "array([[20,  3],\n",
              "       [ 7, 31]])"
            ]
          },
          "metadata": {},
          "execution_count": 37
        }
      ]
    },
    {
      "cell_type": "code",
      "source": [
        "#Again, this is probably easier visualized.\n",
        "#One way to do it is with pd.crosstab()\n",
        "\n",
        "pd.crosstab(y_test, y_preds, rownames=[\"Actual Label\"], colnames=[\"Predicted Label\"])"
      ],
      "metadata": {
        "colab": {
          "base_uri": "https://localhost:8080/",
          "height": 143
        },
        "id": "KnX6NAh-128X",
        "outputId": "8b72d419-8873-4f7e-8402-a0a28ad8482a"
      },
      "execution_count": null,
      "outputs": [
        {
          "output_type": "execute_result",
          "data": {
            "text/plain": [
              "Predicted Label   0   1\n",
              "Actual Label           \n",
              "0                20   3\n",
              "1                 7  31"
            ],
            "text/html": [
              "\n",
              "  <div id=\"df-54764d53-b9ba-470e-b4c5-4f05335eb731\" class=\"colab-df-container\">\n",
              "    <div>\n",
              "<style scoped>\n",
              "    .dataframe tbody tr th:only-of-type {\n",
              "        vertical-align: middle;\n",
              "    }\n",
              "\n",
              "    .dataframe tbody tr th {\n",
              "        vertical-align: top;\n",
              "    }\n",
              "\n",
              "    .dataframe thead th {\n",
              "        text-align: right;\n",
              "    }\n",
              "</style>\n",
              "<table border=\"1\" class=\"dataframe\">\n",
              "  <thead>\n",
              "    <tr style=\"text-align: right;\">\n",
              "      <th>Predicted Label</th>\n",
              "      <th>0</th>\n",
              "      <th>1</th>\n",
              "    </tr>\n",
              "    <tr>\n",
              "      <th>Actual Label</th>\n",
              "      <th></th>\n",
              "      <th></th>\n",
              "    </tr>\n",
              "  </thead>\n",
              "  <tbody>\n",
              "    <tr>\n",
              "      <th>0</th>\n",
              "      <td>20</td>\n",
              "      <td>3</td>\n",
              "    </tr>\n",
              "    <tr>\n",
              "      <th>1</th>\n",
              "      <td>7</td>\n",
              "      <td>31</td>\n",
              "    </tr>\n",
              "  </tbody>\n",
              "</table>\n",
              "</div>\n",
              "    <div class=\"colab-df-buttons\">\n",
              "\n",
              "  <div class=\"colab-df-container\">\n",
              "    <button class=\"colab-df-convert\" onclick=\"convertToInteractive('df-54764d53-b9ba-470e-b4c5-4f05335eb731')\"\n",
              "            title=\"Convert this dataframe to an interactive table.\"\n",
              "            style=\"display:none;\">\n",
              "\n",
              "  <svg xmlns=\"http://www.w3.org/2000/svg\" height=\"24px\" viewBox=\"0 -960 960 960\">\n",
              "    <path d=\"M120-120v-720h720v720H120Zm60-500h600v-160H180v160Zm220 220h160v-160H400v160Zm0 220h160v-160H400v160ZM180-400h160v-160H180v160Zm440 0h160v-160H620v160ZM180-180h160v-160H180v160Zm440 0h160v-160H620v160Z\"/>\n",
              "  </svg>\n",
              "    </button>\n",
              "\n",
              "  <style>\n",
              "    .colab-df-container {\n",
              "      display:flex;\n",
              "      gap: 12px;\n",
              "    }\n",
              "\n",
              "    .colab-df-convert {\n",
              "      background-color: #E8F0FE;\n",
              "      border: none;\n",
              "      border-radius: 50%;\n",
              "      cursor: pointer;\n",
              "      display: none;\n",
              "      fill: #1967D2;\n",
              "      height: 32px;\n",
              "      padding: 0 0 0 0;\n",
              "      width: 32px;\n",
              "    }\n",
              "\n",
              "    .colab-df-convert:hover {\n",
              "      background-color: #E2EBFA;\n",
              "      box-shadow: 0px 1px 2px rgba(60, 64, 67, 0.3), 0px 1px 3px 1px rgba(60, 64, 67, 0.15);\n",
              "      fill: #174EA6;\n",
              "    }\n",
              "\n",
              "    .colab-df-buttons div {\n",
              "      margin-bottom: 4px;\n",
              "    }\n",
              "\n",
              "    [theme=dark] .colab-df-convert {\n",
              "      background-color: #3B4455;\n",
              "      fill: #D2E3FC;\n",
              "    }\n",
              "\n",
              "    [theme=dark] .colab-df-convert:hover {\n",
              "      background-color: #434B5C;\n",
              "      box-shadow: 0px 1px 3px 1px rgba(0, 0, 0, 0.15);\n",
              "      filter: drop-shadow(0px 1px 2px rgba(0, 0, 0, 0.3));\n",
              "      fill: #FFFFFF;\n",
              "    }\n",
              "  </style>\n",
              "\n",
              "    <script>\n",
              "      const buttonEl =\n",
              "        document.querySelector('#df-54764d53-b9ba-470e-b4c5-4f05335eb731 button.colab-df-convert');\n",
              "      buttonEl.style.display =\n",
              "        google.colab.kernel.accessAllowed ? 'block' : 'none';\n",
              "\n",
              "      async function convertToInteractive(key) {\n",
              "        const element = document.querySelector('#df-54764d53-b9ba-470e-b4c5-4f05335eb731');\n",
              "        const dataTable =\n",
              "          await google.colab.kernel.invokeFunction('convertToInteractive',\n",
              "                                                    [key], {});\n",
              "        if (!dataTable) return;\n",
              "\n",
              "        const docLinkHtml = 'Like what you see? Visit the ' +\n",
              "          '<a target=\"_blank\" href=https://colab.research.google.com/notebooks/data_table.ipynb>data table notebook</a>'\n",
              "          + ' to learn more about interactive tables.';\n",
              "        element.innerHTML = '';\n",
              "        dataTable['output_type'] = 'display_data';\n",
              "        await google.colab.output.renderOutput(dataTable, element);\n",
              "        const docLink = document.createElement('div');\n",
              "        docLink.innerHTML = docLinkHtml;\n",
              "        element.appendChild(docLink);\n",
              "      }\n",
              "    </script>\n",
              "  </div>\n",
              "\n",
              "    </div>\n",
              "  </div>\n"
            ]
          },
          "metadata": {},
          "execution_count": 38
        }
      ]
    },
    {
      "cell_type": "code",
      "source": [
        "#Creating a confusion matrix using Scikit-Learn\n",
        "\n",
        "from sklearn.metrics import ConfusionMatrixDisplay\n",
        "\n",
        "ConfusionMatrixDisplay.from_estimator(estimator=clf, X=X, y=y);"
      ],
      "metadata": {
        "colab": {
          "base_uri": "https://localhost:8080/",
          "height": 449
        },
        "id": "IUJFbZj-2HMi",
        "outputId": "a047e271-5ab1-4e60-d487-90b099985c84"
      },
      "execution_count": null,
      "outputs": [
        {
          "output_type": "display_data",
          "data": {
            "text/plain": [
              "<Figure size 640x480 with 2 Axes>"
            ],
            "image/png": "[encoded data removed]"
          },
          "metadata": {}
        }
      ]
    },
    {
      "cell_type": "code",
      "source": [
        "# Plot confusion matrix from predictions\n",
        "ConfusionMatrixDisplay.from_predictions(y_true=y_test, y_pred=y_preds);"
      ],
      "metadata": {
        "colab": {
          "base_uri": "https://localhost:8080/",
          "height": 449
        },
        "id": "mZA3gj6N2Ugb",
        "outputId": "e6cf3c1a-7522-4f2b-a1a7-55feeb26abe6"
      },
      "execution_count": null,
      "outputs": [
        {
          "output_type": "display_data",
          "data": {
            "text/plain": [
              "<Figure size 640x480 with 2 Axes>"
            ],
            "image/png": "[encoded data removed]"
          },
          "metadata": {}
        }
      ]
    },
    {
      "cell_type": "markdown",
      "source": [
        "## ***Classification report***\n",
        "\n",
        "* The final major metric you should consider when evaluating a classification model is a classification report.\n",
        "\n",
        "* A classification report is more so a collection of metrics rather than a single one.\n",
        "\n",
        "* You can create a classification report using Scikit-Learn's `classification_report()` function."
      ],
      "metadata": {
        "id": "4xuWz5V-2myj"
      }
    },
    {
      "cell_type": "code",
      "source": [
        "from sklearn.metrics import classification_report\n",
        "\n",
        "print(classification_report(y_test, y_preds))"
      ],
      "metadata": {
        "colab": {
          "base_uri": "https://localhost:8080/"
        },
        "id": "v1i9TOhL2eCk",
        "outputId": "910f1ee9-3ea3-4022-fdf7-cb6bc3f78f4a"
      },
      "execution_count": null,
      "outputs": [
        {
          "output_type": "stream",
          "name": "stdout",
          "text": [
            "              precision    recall  f1-score   support\n",
            "\n",
            "           0       0.74      0.87      0.80        23\n",
            "           1       0.91      0.82      0.86        38\n",
            "\n",
            "    accuracy                           0.84        61\n",
            "   macro avg       0.83      0.84      0.83        61\n",
            "weighted avg       0.85      0.84      0.84        61\n",
            "\n"
          ]
        }
      ]
    },
    {
      "cell_type": "markdown",
      "source": [
        "**It returns four columns:**\n",
        "   * precision\n",
        "   * recall\n",
        "   * f1-score and\n",
        "   * support.\n",
        "\n",
        "The number of rows will depend on how many different classes there are. But there will always be three rows labell **accuracy, macro avg and weighted avg**.\n",
        "\n",
        "Each term measures something slightly different.\n",
        "\n",
        "**Precision** - Indicates the proportion of positive identifications (model predicted class 1) which were actually correct. A model which produces no false positives has a precision of 1.0.\n",
        "\n",
        "**Recall** - Indicates the proportion of actual positives which were correctly classified. A model which produces no false negatives has a recall of 1.0.\n",
        "\n",
        "**F1 score** - A combination of precision and recall. A perfect model achieves an F1 score of 1.0.\n",
        "\n",
        "**Support***- The number of samples each metric was calculated on.\n",
        "\n",
        "**Accuracy** - The accuracy of the model in decimal form. Perfect accuracy is equal to 1.0, in other words, getting the prediction right 100% of the time.\n",
        "\n",
        "**Macro avg** - Short for macro average, the average precision, recall and F1 score between classes. **Macro avg doesn't take class imbalance into effect. So if you do have class imbalances (more examples of one class than another), you should pay attention to this.**\n",
        "\n",
        "**Weighted avg ** - Short for weighted average, the weighted average precision, recall and F1 score between classes. **Weighted means each metric is calculated with respect to how many samples there are in each class. This metric will favour the majority class** (e.g. it will give a high value when one class out performs another due to having more samples)."
      ],
      "metadata": {
        "id": "XTIVjIph28Ee"
      }
    },
    {
      "cell_type": "markdown",
      "source": [
        "## ***When should you use each?***\n",
        "\n",
        "* It can be tempting to base your classification models perfomance only on accuracy. And accuracy is a good metric to report, except when you have very imbalanced classes.\n",
        "\n",
        "* For example, let's say there were 10,000 people. And 1 of them had a disease. You're asked to build a model to predict who has it.\n",
        "\n",
        "* You build the model and find your model to be 99.99% accurate. Which sounds great! ...until you realise, all its doing is predicting no one has the disease, in other words all 10,000 predictions are false.\n",
        "\n",
        "* In this case, you'd want to turn to metrics such as precision, recall and F1 score."
      ],
      "metadata": {
        "id": "954oPQba3zMh"
      }
    },
    {
      "cell_type": "code",
      "source": [
        "# Where precision and recall become valuable\n",
        "disease_true = np.zeros(10000)\n",
        "disease_true[0] = 1 # only one case\n",
        "\n",
        "disease_preds = np.zeros(10000) # every prediction is 0\n",
        "\n",
        "pd.DataFrame(classification_report(disease_true,\n",
        "                                   disease_preds,\n",
        "                                   output_dict=True,\n",
        "                                   zero_division=0))"
      ],
      "metadata": {
        "colab": {
          "base_uri": "https://localhost:8080/",
          "height": 175
        },
        "id": "3IY1wXAc2tJY",
        "outputId": "531be60e-970d-45fa-f1b0-d6175d3c7af0"
      },
      "execution_count": null,
      "outputs": [
        {
          "output_type": "execute_result",
          "data": {
            "text/plain": [
              "                  0.0  1.0  accuracy     macro avg  weighted avg\n",
              "precision     0.99990  0.0    0.9999      0.499950       0.99980\n",
              "recall        1.00000  0.0    0.9999      0.500000       0.99990\n",
              "f1-score      0.99995  0.0    0.9999      0.499975       0.99985\n",
              "support    9999.00000  1.0    0.9999  10000.000000   10000.00000"
            ],
            "text/html": [
              "\n",
              "  <div id=\"df-a77247d1-5e6e-4a27-9108-2f1a5189b5db\" class=\"colab-df-container\">\n",
              "    <div>\n",
              "<style scoped>\n",
              "    .dataframe tbody tr th:only-of-type {\n",
              "        vertical-align: middle;\n",
              "    }\n",
              "\n",
              "    .dataframe tbody tr th {\n",
              "        vertical-align: top;\n",
              "    }\n",
              "\n",
              "    .dataframe thead th {\n",
              "        text-align: right;\n",
              "    }\n",
              "</style>\n",
              "<table border=\"1\" class=\"dataframe\">\n",
              "  <thead>\n",
              "    <tr style=\"text-align: right;\">\n",
              "      <th></th>\n",
              "      <th>0.0</th>\n",
              "      <th>1.0</th>\n",
              "      <th>accuracy</th>\n",
              "      <th>macro avg</th>\n",
              "      <th>weighted avg</th>\n",
              "    </tr>\n",
              "  </thead>\n",
              "  <tbody>\n",
              "    <tr>\n",
              "      <th>precision</th>\n",
              "      <td>0.99990</td>\n",
              "      <td>0.0</td>\n",
              "      <td>0.9999</td>\n",
              "      <td>0.499950</td>\n",
              "      <td>0.99980</td>\n",
              "    </tr>\n",
              "    <tr>\n",
              "      <th>recall</th>\n",
              "      <td>1.00000</td>\n",
              "      <td>0.0</td>\n",
              "      <td>0.9999</td>\n",
              "      <td>0.500000</td>\n",
              "      <td>0.99990</td>\n",
              "    </tr>\n",
              "    <tr>\n",
              "      <th>f1-score</th>\n",
              "      <td>0.99995</td>\n",
              "      <td>0.0</td>\n",
              "      <td>0.9999</td>\n",
              "      <td>0.499975</td>\n",
              "      <td>0.99985</td>\n",
              "    </tr>\n",
              "    <tr>\n",
              "      <th>support</th>\n",
              "      <td>9999.00000</td>\n",
              "      <td>1.0</td>\n",
              "      <td>0.9999</td>\n",
              "      <td>10000.000000</td>\n",
              "      <td>10000.00000</td>\n",
              "    </tr>\n",
              "  </tbody>\n",
              "</table>\n",
              "</div>\n",
              "    <div class=\"colab-df-buttons\">\n",
              "\n",
              "  <div class=\"colab-df-container\">\n",
              "    <button class=\"colab-df-convert\" onclick=\"convertToInteractive('df-a77247d1-5e6e-4a27-9108-2f1a5189b5db')\"\n",
              "            title=\"Convert this dataframe to an interactive table.\"\n",
              "            style=\"display:none;\">\n",
              "\n",
              "  <svg xmlns=\"http://www.w3.org/2000/svg\" height=\"24px\" viewBox=\"0 -960 960 960\">\n",
              "    <path d=\"M120-120v-720h720v720H120Zm60-500h600v-160H180v160Zm220 220h160v-160H400v160Zm0 220h160v-160H400v160ZM180-400h160v-160H180v160Zm440 0h160v-160H620v160ZM180-180h160v-160H180v160Zm440 0h160v-160H620v160Z\"/>\n",
              "  </svg>\n",
              "    </button>\n",
              "\n",
              "  <style>\n",
              "    .colab-df-container {\n",
              "      display:flex;\n",
              "      gap: 12px;\n",
              "    }\n",
              "\n",
              "    .colab-df-convert {\n",
              "      background-color: #E8F0FE;\n",
              "      border: none;\n",
              "      border-radius: 50%;\n",
              "      cursor: pointer;\n",
              "      display: none;\n",
              "      fill: #1967D2;\n",
              "      height: 32px;\n",
              "      padding: 0 0 0 0;\n",
              "      width: 32px;\n",
              "    }\n",
              "\n",
              "    .colab-df-convert:hover {\n",
              "      background-color: #E2EBFA;\n",
              "      box-shadow: 0px 1px 2px rgba(60, 64, 67, 0.3), 0px 1px 3px 1px rgba(60, 64, 67, 0.15);\n",
              "      fill: #174EA6;\n",
              "    }\n",
              "\n",
              "    .colab-df-buttons div {\n",
              "      margin-bottom: 4px;\n",
              "    }\n",
              "\n",
              "    [theme=dark] .colab-df-convert {\n",
              "      background-color: #3B4455;\n",
              "      fill: #D2E3FC;\n",
              "    }\n",
              "\n",
              "    [theme=dark] .colab-df-convert:hover {\n",
              "      background-color: #434B5C;\n",
              "      box-shadow: 0px 1px 3px 1px rgba(0, 0, 0, 0.15);\n",
              "      filter: drop-shadow(0px 1px 2px rgba(0, 0, 0, 0.3));\n",
              "      fill: #FFFFFF;\n",
              "    }\n",
              "  </style>\n",
              "\n",
              "    <script>\n",
              "      const buttonEl =\n",
              "        document.querySelector('#df-a77247d1-5e6e-4a27-9108-2f1a5189b5db button.colab-df-convert');\n",
              "      buttonEl.style.display =\n",
              "        google.colab.kernel.accessAllowed ? 'block' : 'none';\n",
              "\n",
              "      async function convertToInteractive(key) {\n",
              "        const element = document.querySelector('#df-a77247d1-5e6e-4a27-9108-2f1a5189b5db');\n",
              "        const dataTable =\n",
              "          await google.colab.kernel.invokeFunction('convertToInteractive',\n",
              "                                                    [key], {});\n",
              "        if (!dataTable) return;\n",
              "\n",
              "        const docLinkHtml = 'Like what you see? Visit the ' +\n",
              "          '<a target=\"_blank\" href=https://colab.research.google.com/notebooks/data_table.ipynb>data table notebook</a>'\n",
              "          + ' to learn more about interactive tables.';\n",
              "        element.innerHTML = '';\n",
              "        dataTable['output_type'] = 'display_data';\n",
              "        await google.colab.output.renderOutput(dataTable, element);\n",
              "        const docLink = document.createElement('div');\n",
              "        docLink.innerHTML = docLinkHtml;\n",
              "        element.appendChild(docLink);\n",
              "      }\n",
              "    </script>\n",
              "  </div>\n",
              "\n",
              "    </div>\n",
              "  </div>\n"
            ]
          },
          "metadata": {},
          "execution_count": 42
        }
      ]
    },
    {
      "cell_type": "markdown",
      "source": [
        "* You can see here, we've got an accuracy of 0.9999 (99.99%), great precision and recall on class 0.0 but nothing for class 1.0.\n",
        "\n",
        "* Ask yourself, although the model achieves 99.99% accuracy, is it useful?\n",
        "\n",
        "***To summarize:***\n",
        "\n",
        "* Accuracy is a good measure to start with if all classes are balanced (e.g. same amount of samples which are labelled with 0 or 1)\n",
        "\n",
        "* Precision and recall become more important when classes are imbalanced.\n",
        "\n",
        "* If false positive predictions are worse than false negatives, aim for higher precision.\n",
        "\n",
        "* If false negative predictions are worse than false positives, aim for higher recall."
      ],
      "metadata": {
        "id": "gBqGi14f4R-l"
      }
    },
    {
      "cell_type": "markdown",
      "source": [
        "## ***Regression model evaluation metrics:***\n",
        "\n",
        "* **R^2 (pronounced r-squared) or coefficient of determination** - Compares your models predictions to the mean of the targets. Values can range from negative infinity (a very poor model) to 1. For example, if all your model does is predict the mean of the targets, its R^2 value would be 0. And if your model perfectly predicts a range of numbers it's R^2 value would be 1.\n",
        "\n",
        "\n",
        "* **Mean absolute error (MAE)** - The average of the absolute differences between predictions and actual values. It gives you an idea of how wrong your predictions were.\n",
        "\n",
        "\n",
        "* **Mean squared error (MSE)** - The average squared differences between predictions and actual values. Squaring the errors removes negative errors. It also amplifies outliers (samples which have larger errors)."
      ],
      "metadata": {
        "id": "qum_N_lf4f3-"
      }
    },
    {
      "cell_type": "code",
      "source": [
        "# Import the RandomForestRegressor model class from the ensemble module\n",
        "from sklearn.ensemble import RandomForestRegressor\n",
        "\n",
        "# Setup random seed\n",
        "np.random.seed(42)\n",
        "\n",
        "# Create the data\n",
        "X = housing_df.drop(\"target\", axis=1)\n",
        "y = housing_df[\"target\"]\n",
        "\n",
        "# Split into train and test sets\n",
        "X_train, X_test, y_train, y_test = train_test_split(X, y, test_size=0.2)\n",
        "\n",
        "# Institate and fit the model (on the training set)\n",
        "model = RandomForestRegressor()\n",
        "model.fit(X_train, y_train);"
      ],
      "metadata": {
        "id": "szz_dpPz4Vi4"
      },
      "execution_count": null,
      "outputs": []
    },
    {
      "cell_type": "code",
      "source": [
        "# Calculate the models R^2 score\n",
        "#Once you've got a trained regression model, the default evaluation metric in the score() function is R^2.\n",
        "\n",
        "model.score(X_test, y_test)"
      ],
      "metadata": {
        "colab": {
          "base_uri": "https://localhost:8080/"
        },
        "id": "JByTYLdr5C87",
        "outputId": "c19dc7ad-2a5a-4f6d-862d-3928ba34c03b"
      },
      "execution_count": null,
      "outputs": [
        {
          "output_type": "execute_result",
          "data": {
            "text/plain": [
              "0.8066196804802649"
            ]
          },
          "metadata": {},
          "execution_count": 45
        }
      ]
    },
    {
      "cell_type": "code",
      "source": [
        "#Outside of the score() function, R^2 can be calculated using Scikit-Learn's r2_score() function.\n",
        "from sklearn.metrics import r2_score\n",
        "\n",
        "y_preds = model.predict(X_test)\n",
        "\n",
        "r2_score(y_test, y_preds)"
      ],
      "metadata": {
        "colab": {
          "base_uri": "https://localhost:8080/"
        },
        "id": "dTjM7auE5Pmc",
        "outputId": "51183684-81b6-4d5e-93c6-149a038ce071"
      },
      "execution_count": null,
      "outputs": [
        {
          "output_type": "execute_result",
          "data": {
            "text/plain": [
              "0.8066196804802649"
            ]
          },
          "metadata": {},
          "execution_count": 49
        }
      ]
    },
    {
      "cell_type": "markdown",
      "source": [
        "***For your regression models, you'll want to maximise R^2, whilst minimising MAE and MSE.***"
      ],
      "metadata": {
        "id": "hER_DO4lSEbh"
      }
    },
    {
      "cell_type": "markdown",
      "source": [
        "## **Mean Absolute Error (MAE):**\n",
        "\n",
        "* A model's mean absolute error can be calculated with Scikit-Learn's mean_absolute_error() function."
      ],
      "metadata": {
        "id": "vtArhbkP5xtE"
      }
    },
    {
      "cell_type": "code",
      "source": [
        "# Mean absolute error\n",
        "from sklearn.metrics import mean_absolute_error\n",
        "\n",
        "mae = mean_absolute_error(y_test, y_preds)\n",
        "mae"
      ],
      "metadata": {
        "colab": {
          "base_uri": "https://localhost:8080/"
        },
        "id": "ckw7mRsn5Ube",
        "outputId": "ec00f1dc-ef38-4d22-b89e-6d51ebddd86e"
      },
      "execution_count": null,
      "outputs": [
        {
          "output_type": "execute_result",
          "data": {
            "text/plain": [
              "0.3265721842781009"
            ]
          },
          "metadata": {},
          "execution_count": 50
        }
      ]
    },
    {
      "cell_type": "markdown",
      "source": [
        "* Our model achieves an MAE of 0.3265.\n",
        "* This means, on average our models predictions are 0.3265 units away from the actual value."
      ],
      "metadata": {
        "id": "YNihHm_l6EjE"
      }
    },
    {
      "cell_type": "code",
      "source": [
        "df = pd.DataFrame(data={\"actual values\": y_test,\n",
        "                        \"predictions\": y_preds})\n",
        "\n",
        "df"
      ],
      "metadata": {
        "colab": {
          "base_uri": "https://localhost:8080/",
          "height": 423
        },
        "id": "BhEvB7ID6AAo",
        "outputId": "57efbced-f635-47b7-c98c-970f9c837cfc"
      },
      "execution_count": null,
      "outputs": [
        {
          "output_type": "execute_result",
          "data": {
            "text/plain": [
              "       actual values  predictions\n",
              "20046        0.47700     0.493840\n",
              "3024         0.45800     0.754940\n",
              "15663        5.00001     4.928596\n",
              "20484        2.18600     2.540290\n",
              "9814         2.78000     2.331760\n",
              "...              ...          ...\n",
              "15362        2.63300     2.220380\n",
              "16623        2.66800     1.947760\n",
              "18086        5.00001     4.836378\n",
              "2144         0.72300     0.717820\n",
              "3665         1.51500     1.679010\n",
              "\n",
              "[4128 rows x 2 columns]"
            ],
            "text/html": [
              "\n",
              "  <div id=\"df-2f71fd77-ab47-4bac-92d8-46af9c272dc7\" class=\"colab-df-container\">\n",
              "    <div>\n",
              "<style scoped>\n",
              "    .dataframe tbody tr th:only-of-type {\n",
              "        vertical-align: middle;\n",
              "    }\n",
              "\n",
              "    .dataframe tbody tr th {\n",
              "        vertical-align: top;\n",
              "    }\n",
              "\n",
              "    .dataframe thead th {\n",
              "        text-align: right;\n",
              "    }\n",
              "</style>\n",
              "<table border=\"1\" class=\"dataframe\">\n",
              "  <thead>\n",
              "    <tr style=\"text-align: right;\">\n",
              "      <th></th>\n",
              "      <th>actual values</th>\n",
              "      <th>predictions</th>\n",
              "    </tr>\n",
              "  </thead>\n",
              "  <tbody>\n",
              "    <tr>\n",
              "      <th>20046</th>\n",
              "      <td>0.47700</td>\n",
              "      <td>0.493840</td>\n",
              "    </tr>\n",
              "    <tr>\n",
              "      <th>3024</th>\n",
              "      <td>0.45800</td>\n",
              "      <td>0.754940</td>\n",
              "    </tr>\n",
              "    <tr>\n",
              "      <th>15663</th>\n",
              "      <td>5.00001</td>\n",
              "      <td>4.928596</td>\n",
              "    </tr>\n",
              "    <tr>\n",
              "      <th>20484</th>\n",
              "      <td>2.18600</td>\n",
              "      <td>2.540290</td>\n",
              "    </tr>\n",
              "    <tr>\n",
              "      <th>9814</th>\n",
              "      <td>2.78000</td>\n",
              "      <td>2.331760</td>\n",
              "    </tr>\n",
              "    <tr>\n",
              "      <th>...</th>\n",
              "      <td>...</td>\n",
              "      <td>...</td>\n",
              "    </tr>\n",
              "    <tr>\n",
              "      <th>15362</th>\n",
              "      <td>2.63300</td>\n",
              "      <td>2.220380</td>\n",
              "    </tr>\n",
              "    <tr>\n",
              "      <th>16623</th>\n",
              "      <td>2.66800</td>\n",
              "      <td>1.947760</td>\n",
              "    </tr>\n",
              "    <tr>\n",
              "      <th>18086</th>\n",
              "      <td>5.00001</td>\n",
              "      <td>4.836378</td>\n",
              "    </tr>\n",
              "    <tr>\n",
              "      <th>2144</th>\n",
              "      <td>0.72300</td>\n",
              "      <td>0.717820</td>\n",
              "    </tr>\n",
              "    <tr>\n",
              "      <th>3665</th>\n",
              "      <td>1.51500</td>\n",
              "      <td>1.679010</td>\n",
              "    </tr>\n",
              "  </tbody>\n",
              "</table>\n",
              "<p>4128 rows × 2 columns</p>\n",
              "</div>\n",
              "    <div class=\"colab-df-buttons\">\n",
              "\n",
              "  <div class=\"colab-df-container\">\n",
              "    <button class=\"colab-df-convert\" onclick=\"convertToInteractive('df-2f71fd77-ab47-4bac-92d8-46af9c272dc7')\"\n",
              "            title=\"Convert this dataframe to an interactive table.\"\n",
              "            style=\"display:none;\">\n",
              "\n",
              "  <svg xmlns=\"http://www.w3.org/2000/svg\" height=\"24px\" viewBox=\"0 -960 960 960\">\n",
              "    <path d=\"M120-120v-720h720v720H120Zm60-500h600v-160H180v160Zm220 220h160v-160H400v160Zm0 220h160v-160H400v160ZM180-400h160v-160H180v160Zm440 0h160v-160H620v160ZM180-180h160v-160H180v160Zm440 0h160v-160H620v160Z\"/>\n",
              "  </svg>\n",
              "    </button>\n",
              "\n",
              "  <style>\n",
              "    .colab-df-container {\n",
              "      display:flex;\n",
              "      gap: 12px;\n",
              "    }\n",
              "\n",
              "    .colab-df-convert {\n",
              "      background-color: #E8F0FE;\n",
              "      border: none;\n",
              "      border-radius: 50%;\n",
              "      cursor: pointer;\n",
              "      display: none;\n",
              "      fill: #1967D2;\n",
              "      height: 32px;\n",
              "      padding: 0 0 0 0;\n",
              "      width: 32px;\n",
              "    }\n",
              "\n",
              "    .colab-df-convert:hover {\n",
              "      background-color: #E2EBFA;\n",
              "      box-shadow: 0px 1px 2px rgba(60, 64, 67, 0.3), 0px 1px 3px 1px rgba(60, 64, 67, 0.15);\n",
              "      fill: #174EA6;\n",
              "    }\n",
              "\n",
              "    .colab-df-buttons div {\n",
              "      margin-bottom: 4px;\n",
              "    }\n",
              "\n",
              "    [theme=dark] .colab-df-convert {\n",
              "      background-color: #3B4455;\n",
              "      fill: #D2E3FC;\n",
              "    }\n",
              "\n",
              "    [theme=dark] .colab-df-convert:hover {\n",
              "      background-color: #434B5C;\n",
              "      box-shadow: 0px 1px 3px 1px rgba(0, 0, 0, 0.15);\n",
              "      filter: drop-shadow(0px 1px 2px rgba(0, 0, 0, 0.3));\n",
              "      fill: #FFFFFF;\n",
              "    }\n",
              "  </style>\n",
              "\n",
              "    <script>\n",
              "      const buttonEl =\n",
              "        document.querySelector('#df-2f71fd77-ab47-4bac-92d8-46af9c272dc7 button.colab-df-convert');\n",
              "      buttonEl.style.display =\n",
              "        google.colab.kernel.accessAllowed ? 'block' : 'none';\n",
              "\n",
              "      async function convertToInteractive(key) {\n",
              "        const element = document.querySelector('#df-2f71fd77-ab47-4bac-92d8-46af9c272dc7');\n",
              "        const dataTable =\n",
              "          await google.colab.kernel.invokeFunction('convertToInteractive',\n",
              "                                                    [key], {});\n",
              "        if (!dataTable) return;\n",
              "\n",
              "        const docLinkHtml = 'Like what you see? Visit the ' +\n",
              "          '<a target=\"_blank\" href=https://colab.research.google.com/notebooks/data_table.ipynb>data table notebook</a>'\n",
              "          + ' to learn more about interactive tables.';\n",
              "        element.innerHTML = '';\n",
              "        dataTable['output_type'] = 'display_data';\n",
              "        await google.colab.output.renderOutput(dataTable, element);\n",
              "        const docLink = document.createElement('div');\n",
              "        docLink.innerHTML = docLinkHtml;\n",
              "        element.appendChild(docLink);\n",
              "      }\n",
              "    </script>\n",
              "  </div>\n",
              "\n",
              "\n",
              "<div id=\"df-5032898c-389d-4c68-b2d3-a94dc8d055c7\">\n",
              "  <button class=\"colab-df-quickchart\" onclick=\"quickchart('df-5032898c-389d-4c68-b2d3-a94dc8d055c7')\"\n",
              "            title=\"Suggest charts.\"\n",
              "            style=\"display:none;\">\n",
              "\n",
              "<svg xmlns=\"http://www.w3.org/2000/svg\" height=\"24px\"viewBox=\"0 0 24 24\"\n",
              "     width=\"24px\">\n",
              "    <g>\n",
              "        <path d=\"M19 3H5c-1.1 0-2 .9-2 2v14c0 1.1.9 2 2 2h14c1.1 0 2-.9 2-2V5c0-1.1-.9-2-2-2zM9 17H7v-7h2v7zm4 0h-2V7h2v10zm4 0h-2v-4h2v4z\"/>\n",
              "    </g>\n",
              "</svg>\n",
              "  </button>\n",
              "\n",
              "<style>\n",
              "  .colab-df-quickchart {\n",
              "    background-color: #E8F0FE;\n",
              "    border: none;\n",
              "    border-radius: 50%;\n",
              "    cursor: pointer;\n",
              "    display: none;\n",
              "    fill: #1967D2;\n",
              "    height: 32px;\n",
              "    padding: 0 0 0 0;\n",
              "    width: 32px;\n",
              "  }\n",
              "\n",
              "  .colab-df-quickchart:hover {\n",
              "    background-color: #E2EBFA;\n",
              "    box-shadow: 0px 1px 2px rgba(60, 64, 67, 0.3), 0px 1px 3px 1px rgba(60, 64, 67, 0.15);\n",
              "    fill: #174EA6;\n",
              "  }\n",
              "\n",
              "  [theme=dark] .colab-df-quickchart {\n",
              "    background-color: #3B4455;\n",
              "    fill: #D2E3FC;\n",
              "  }\n",
              "\n",
              "  [theme=dark] .colab-df-quickchart:hover {\n",
              "    background-color: #434B5C;\n",
              "    box-shadow: 0px 1px 3px 1px rgba(0, 0, 0, 0.15);\n",
              "    filter: drop-shadow(0px 1px 2px rgba(0, 0, 0, 0.3));\n",
              "    fill: #FFFFFF;\n",
              "  }\n",
              "</style>\n",
              "\n",
              "  <script>\n",
              "    async function quickchart(key) {\n",
              "      const charts = await google.colab.kernel.invokeFunction(\n",
              "          'suggestCharts', [key], {});\n",
              "    }\n",
              "    (() => {\n",
              "      let quickchartButtonEl =\n",
              "        document.querySelector('#df-5032898c-389d-4c68-b2d3-a94dc8d055c7 button');\n",
              "      quickchartButtonEl.style.display =\n",
              "        google.colab.kernel.accessAllowed ? 'block' : 'none';\n",
              "    })();\n",
              "  </script>\n",
              "</div>\n",
              "    </div>\n",
              "  </div>\n"
            ]
          },
          "metadata": {},
          "execution_count": 51
        }
      ]
    },
    {
      "cell_type": "markdown",
      "source": [
        "* You can see the predictions are slightly different to the actual values.\n",
        "\n",
        "* Depending what problem you're working on, having a difference like we do now, might be okay.\n",
        "* On the flip side, it may also not be okay, meaning the predictions would have to be closer."
      ],
      "metadata": {
        "id": "phazvkrL6Rj1"
      }
    },
    {
      "cell_type": "code",
      "source": [
        "fig, ax = plt.subplots()\n",
        "x = np.arange(0, len(df), 1)\n",
        "ax.scatter(x, df[\"actual values\"], c='b', label=\"Acutual Values\")\n",
        "ax.scatter(x, df[\"predictions\"], c='r', label=\"Predictions\")\n",
        "ax.legend(loc=(1, 0.5));"
      ],
      "metadata": {
        "colab": {
          "base_uri": "https://localhost:8080/",
          "height": 430
        },
        "id": "44-LQpdY6Ken",
        "outputId": "503652f6-6778-49c5-b945-8eae740e17b7"
      },
      "execution_count": null,
      "outputs": [
        {
          "output_type": "display_data",
          "data": {
            "text/plain": [
              "<Figure size 640x480 with 1 Axes>"
            ],
            "image/png": "[encoded data removed]"
          },
          "metadata": {}
        }
      ]
    },
    {
      "cell_type": "markdown",
      "source": [
        "## **Mean Squared Error (MSE):**\n",
        "\n",
        "How about MSE? We can calculate it with Scikit-Learn's mean_squared_error()."
      ],
      "metadata": {
        "id": "i0rUlHY66bLe"
      }
    },
    {
      "cell_type": "code",
      "source": [
        "# Mean squared error\n",
        "from sklearn.metrics import mean_squared_error\n",
        "\n",
        "mse = mean_squared_error(y_test, y_preds)\n",
        "mse"
      ],
      "metadata": {
        "colab": {
          "base_uri": "https://localhost:8080/"
        },
        "id": "q8W1eakn6YQY",
        "outputId": "136c4654-cc04-4fde-ccc4-f2a7b29d9e52"
      },
      "execution_count": null,
      "outputs": [
        {
          "output_type": "execute_result",
          "data": {
            "text/plain": [
              "0.2534073069137548"
            ]
          },
          "metadata": {},
          "execution_count": 53
        }
      ]
    },
    {
      "cell_type": "markdown",
      "source": [
        "* MSE will be usually higher than MAE because is squares the errors rather than only taking the absolute difference into account;\n",
        "\n",
        "* But, it would be smaller when the differences are less than 1.\n",
        "\n",
        "* It's more sensitive to outliers."
      ],
      "metadata": {
        "id": "bUTjt53w6ktU"
      }
    },
    {
      "cell_type": "markdown",
      "source": [
        "**Now you might be thinking, which regression evaluation metric should you use?**\n",
        "\n",
        "* R^2 is similar to accuracy. It gives you a quick indication of how well your model might be doing. Generally, the closer your R^2 value is to 1.0, the better the model. But it doesn't really tell exactly how wrong your model is in terms of how far off each prediction is.\n",
        "\n",
        "\n",
        "* MAE gives a better indication of how far off each of your model's predictions are on average.\n",
        "\n",
        "\n",
        "* As for MAE or MSE, in the presence of outlier MSE would be significantly higher."
      ],
      "metadata": {
        "id": "oCkDyd_X65D0"
      }
    },
    {
      "cell_type": "markdown",
      "source": [
        "# **Using different evaluation metrics together with Scikit-Learn:**"
      ],
      "metadata": {
        "id": "xt5i9RSC7h--"
      }
    },
    {
      "cell_type": "markdown",
      "source": [
        "## ***For Classification Problems:***"
      ],
      "metadata": {
        "id": "bG05779y73H5"
      }
    },
    {
      "cell_type": "code",
      "source": [
        "from sklearn.metrics import accuracy_score, precision_score, recall_score, f1_score\n",
        "from sklearn.ensemble import RandomForestClassifier\n",
        "from sklearn.model_selection import train_test_split\n",
        "\n",
        "np.random.seed(42)\n",
        "\n",
        "X = heart_disease.drop(\"target\", axis=1)\n",
        "y = heart_disease[\"target\"]\n",
        "\n",
        "X_train, X_test, y_train, y_test = train_test_split(X, y, test_size=0.2)\n",
        "\n",
        "clf = RandomForestClassifier(n_estimators=100)\n",
        "clf.fit(X_train, y_train)\n",
        "\n",
        "# Make predictions\n",
        "y_preds = clf.predict(X_test)\n",
        "\n",
        "# Evaluate the classifier\n",
        "print(\"Classifier metrics on the test set:\")\n",
        "print(f\"Accuracy: {accuracy_score(y_test, y_preds) * 100:.2f}%\")\n",
        "print(f\"Precision: {precision_score(y_test, y_preds):.2f}\")\n",
        "print(f\"Recall: {recall_score(y_test, y_preds):.2f}\")\n",
        "print(f\"F1: {f1_score(y_test, y_preds):.2f}\")"
      ],
      "metadata": {
        "colab": {
          "base_uri": "https://localhost:8080/"
        },
        "id": "k5Lm2enO7q6c",
        "outputId": "1143971b-517f-43fb-fe77-3e787977aeee"
      },
      "execution_count": null,
      "outputs": [
        {
          "output_type": "stream",
          "name": "stdout",
          "text": [
            "Classifier metrics on the test set:\n",
            "Accuracy: 85.25%\n",
            "Precision: 0.85\n",
            "Recall: 0.88\n",
            "F1: 0.86\n"
          ]
        }
      ]
    },
    {
      "cell_type": "markdown",
      "source": [
        "## ***For Regression Problems:***"
      ],
      "metadata": {
        "id": "k66Kb4vB78PX"
      }
    },
    {
      "cell_type": "code",
      "source": [
        "from sklearn.metrics import r2_score, mean_absolute_error, mean_squared_error\n",
        "from sklearn.ensemble import RandomForestRegressor\n",
        "from sklearn.model_selection import train_test_split\n",
        "\n",
        "np.random.seed(42)\n",
        "\n",
        "X = housing_df.drop(\"target\", axis=1)\n",
        "y = housing_df[\"target\"]\n",
        "\n",
        "X_train, X_test, y_train, y_test = train_test_split(X,\n",
        "                                                    y,\n",
        "                                                    test_size=0.2)\n",
        "\n",
        "model = RandomForestRegressor(n_estimators=100)\n",
        "model.fit(X_train, y_train)\n",
        "\n",
        "# Make predictions\n",
        "y_preds = model.predict(X_test)\n",
        "\n",
        "# Evaluate the model\n",
        "print(\"Regression model metrics on the test set:\")\n",
        "print(f\"R^2: {r2_score(y_test, y_preds):.2f}\")\n",
        "print(f\"MAE: {mean_absolute_error(y_test, y_preds):.2f}\")\n",
        "print(f\"MSE: {mean_squared_error(y_test, y_preds):.2f}\")"
      ],
      "metadata": {
        "colab": {
          "base_uri": "https://localhost:8080/"
        },
        "id": "7jPRoUoU7_eT",
        "outputId": "5beb67ef-8ec7-470d-e108-4c30313ab2c9"
      },
      "execution_count": null,
      "outputs": [
        {
          "output_type": "stream",
          "name": "stdout",
          "text": [
            "Regression model metrics on the test set:\n",
            "R^2: 0.81\n",
            "MAE: 0.33\n",
            "MSE: 0.25\n"
          ]
        }
      ]
    }
  ]
}