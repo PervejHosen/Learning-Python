{
  "cells": [
    {
      "cell_type": "markdown",
      "metadata": {
        "id": "view-in-github",
        "colab_type": "text"
      },
      "source": [
        "<a href=\"https://colab.research.google.com/github/PervejHosen/Learning-Python-for-DataScience/blob/main/Class_15_(arima_model_for_time_series_forecasting).ipynb\" target=\"_parent\"><img src=\"https://colab.research.google.com/assets/colab-badge.svg\" alt=\"Open In Colab\"/></a>"
      ]
    },
    {
      "metadata": {
        "id": "GxdWFAQYmJOl"
      },
      "cell_type": "markdown",
      "source": [
        "<a class=\"anchor\" id=\"0\"></a>\n",
        "\n",
        "# **ARIMA Model for Time Series Forecasting**\n",
        "\n",
        "\n",
        "\n",
        "Hello friends,\n",
        "\n",
        "\n",
        "\n",
        "In the previous notebook, I have discussed [Time Series Analysis in Python](https://www.kaggle.com/prashant111/complete-guide-on-time-series-analysis-in-python).\n",
        "In this notebook, I will discuss **ARIMA Model for time series forecasting**. ARIMA model is used to forecast a time series using the series past values. In this notebokk, we build an **optimal ARIMA model** and extend it to **Seasonal ARIMA (SARIMA)** and **SARIMAX models**. We will also see how to build autoarima models in python.\n",
        "\n",
        "\n",
        "So, let's get started."
      ]
    },
    {
      "metadata": {
        "id": "t6UZKwAMmJOn"
      },
      "cell_type": "markdown",
      "source": [
        "<a class=\"anchor\" id=\"0.1\"></a>\n",
        "# **Table of Contents**\n",
        "\n",
        "\n",
        "1.\t[Introduction to Time Series Forecasting](#1)\n",
        "2.\t[Introduction to ARIMA Models](#2)\n",
        "3.\t[The meaning of p, d and q in ARIMA model](#3)\n",
        "4.\t[AR and MA models](#4)\n",
        "5.\t[How to find the order of differencing (d) in ARIMA model](#5)\n",
        "6.\t[How to find the order of the AR term (p)](#6)\n",
        "7.\t[How to find the order of the MA term (q)](#7)\n",
        "8.\t[How to handle if a time series is slightly under or over differenced](#8)\n",
        "9.\t[How to build the ARIMA Model](#9)\n",
        "10.\t[Find the optimal ARIMA model using Out-of-Time Cross validation](#10)\n",
        "11.\t[Accuracy Metrics for Time Series Forecast](#11)\n",
        "12.\t[Auto Arima Forecasting in Python](#12)\n",
        "13.\t[How to interpret the residual plots in ARIMA model](#13)\n",
        "14.\t[SARIMA model in python](#14)\n",
        "15.\t[SARIMAX model with exogeneous variables](#15)\n",
        "16.\t[References](#16)\n",
        "\n"
      ]
    },
    {
      "metadata": {
        "id": "d0voJvAbmJOn"
      },
      "cell_type": "markdown",
      "source": [
        "# **1. Introduction to Time Series Forecasting** <a class=\"anchor\" id=\"1\"></a>\n",
        "\n",
        "[Table of Contents](#0.1)\n",
        "\n",
        "\n",
        "- A **Time Series** is defined as a series of data points recorded at different time intervals. The time order can be daily, monthly, or even yearly.\n",
        "\n",
        "- Time Series forecasting is the process of using a statistical model to predict future values of a time series based on past results.\n",
        "\n",
        "- We have discussed various aspects of **Time Series Forecasting** in the previous notebook - [Complete Guide to Time Series Analysis in Python](https://www.kaggle.com/prashant111/complete-guide-on-time-series-analysis-in-python).\n",
        "\n",
        "- Forecasting is the step where we want to predict the future values the series is going to take. Forecasting a time series is often of tremendous commercial value.\n",
        "\n",
        "#### **Forecasting a time series can be broadly divided into two types.**\n",
        "\n",
        "- If we use only the previous values of the time series to predict its future values, it is called **Univariate Time Series Forecasting.**\n",
        "\n",
        "- If we use predictors other than the series (like exogenous variables) to forecast it is called **Multi Variate Time Series Forecasting.**\n",
        "\n",
        "- This notebook focuses on a particular type of forecasting method called **ARIMA modeling.**\n",
        "\n"
      ]
    },
    {
      "metadata": {
        "id": "wk7fQFAqmJOo"
      },
      "cell_type": "markdown",
      "source": [
        "# **2. Introduction to ARIMA Models** <a class=\"anchor\" id=\"2\"></a>\n",
        "\n",
        "[Table of Contents](#0.1)\n",
        "\n",
        "\n",
        "- **ARIMA** stands for **Autoregressive Integrated Moving Average Model**. It belongs to a class of models that explains a given time series based on its own past values -i.e.- its own lags and the lagged forecast errors. The equation can be used to forecast future values. Any ‘non-seasonal’ time series that exhibits patterns and is not a random white noise can be modeled with ARIMA models.\n",
        "\n",
        "\n",
        "- So, **ARIMA**, short for **AutoRegressive Integrated Moving Average**, is a forecasting algorithm based on the idea that the information in the past values of the time series can alone be used to predict the future values.\n",
        "\n",
        "\n",
        "- **ARIMA Models** are specified by three order parameters: (p, d, q),\n",
        "\n",
        "   where,\n",
        "\n",
        "   - p is the order of the AR term\n",
        "\n",
        "   - q is the order of the MA term\n",
        "\n",
        "   - d is the number of differencing required to make the time series stationary\n",
        "\n",
        "\n",
        "- **AR(p) Autoregression** – a regression model that utilizes the dependent relationship between a current observation and observations over a previous period. An auto regressive (AR(p)) component refers to the use of past values in the regression equation for the time series.\n",
        "\n",
        "\n",
        "- **I(d) Integration** – uses differencing of observations (subtracting an observation from observation at the previous time step) in order to make the time series stationary. Differencing involves the subtraction of the current values of a series with its previous values d number of times.\n",
        "\n",
        "\n",
        "- **MA(q) Moving Average** – a model that uses the dependency between an observation and a residual error from a moving average model applied to lagged observations. A moving average component depicts the error of the model as a combination of previous error terms. The order q represents the number of terms to be included in the model.\n",
        "\n",
        "\n"
      ]
    },
    {
      "metadata": {
        "id": "wEsv4-UNmJOx"
      },
      "cell_type": "markdown",
      "source": [
        "## **Types of ARIMA Model**\n",
        "\n",
        "\n",
        "- **ARIMA** : Non-seasonal Autoregressive Integrated Moving Averages\n",
        "- **SARIMA** : Seasonal ARIMA\n",
        "- **SARIMAX** : Seasonal ARIMA with exogenous variables\n",
        "\n",
        "\n",
        "\n",
        "If a time series, has seasonal patterns, then we need to add seasonal terms and it becomes SARIMA, short for **Seasonal ARIMA**."
      ]
    },
    {
      "metadata": {
        "id": "0tVXcFjamJOx"
      },
      "cell_type": "markdown",
      "source": [
        "# **3. The meaning of p, d and q in ARIMA model** <a class=\"anchor\" id=\"3\"></a>\n",
        "\n",
        "[Table of Contents](#0.1)\n",
        "\n",
        "\n",
        "## **3.1 The meaning of p**\n",
        "\n",
        "\n",
        "- `p` is the order of the **Auto Regressive (AR)** term. It refers to the number of lags of Y to be used as predictors.\n",
        "\n",
        "\n",
        "\n",
        "## **3.2 The meaning of d**\n",
        "\n",
        "\n",
        "- The term **Auto Regressive**’ in ARIMA means it is a linear regression model that uses its own lags as predictors. Linear regression models, as we know, work best when the predictors are not correlated and are independent of each other. So we need to make the time series stationary.\n",
        "\n",
        "\n",
        "- The most common approach to make the series stationary is to difference it. That is, subtract the previous value from the current value. Sometimes, depending on the complexity of the series, more than one differencing may be needed.\n",
        "\n",
        "\n",
        "- The value of d, therefore, is the minimum number of differencing needed to make the series stationary. If the time series is already stationary, then d = 0.\n",
        "\n",
        "\n",
        "\n",
        "## **3.3 The meaning of q**\n",
        "\n",
        "\n",
        "- **q** is the order of the **Moving Average (MA)** term. It refers to the number of lagged forecast errors that should go into the ARIMA Model."
      ]
    },
    {
      "metadata": {
        "id": "_3C5Z5CcmJOx"
      },
      "cell_type": "markdown",
      "source": [
        "# **4. AR and MA models** <a class=\"anchor\" id=\"4\"></a>\n",
        "\n",
        "[Table of Contents](#0.1)\n",
        "\n",
        "\n",
        "\n",
        "## **4.1 AR model**\n",
        "\n",
        "\n",
        "- An **Auto Regressive (AR) model** is one where Yt depends only on its own lags.\n",
        "\n",
        "- That is, Yt is a function of the `lags of Yt`. It is depicted by the following equation -\n",
        "\n",
        "\n",
        "![AR Model](https://www.machinelearningplus.com/wp-content/uploads/2019/02/Equation-1-min.png?ezimgfmt=ng:webp/ngcb1)\n",
        "\n",
        "\n",
        "image source : https://www.machinelearningplus.com/wp-content/uploads/2019/02/Equation-1-min.png?ezimgfmt=ng:webp/ngcb1\n",
        "\n",
        "\n",
        "where,\n",
        "\n",
        "- $Y{t-1}$ is the lag1 of the series,\n",
        "\n",
        "- $\\beta1$ is the coefficient of lag1 that the model estimates, and\n",
        "\n",
        "- $\\alpha$ is the intercept term, also estimated by the model.\n",
        "\n",
        "\n"
      ]
    },
    {
      "metadata": {
        "id": "SJzzE6UNmJOy"
      },
      "cell_type": "markdown",
      "source": [
        "\n",
        "## **4.2 MA model**\n",
        "\n",
        "\n",
        "- Likewise a **Moving Average (MA) model** is one where Yt depends only on the lagged forecast errors. It is depicted by the following equation -\n",
        "\n",
        "\n",
        "![MA Model](https://www.machinelearningplus.com/wp-content/uploads/2019/02/Equation-2-min.png?ezimgfmt=ng:webp/ngcb1)\n",
        "\n",
        "\n",
        "image source : https://www.machinelearningplus.com/wp-content/uploads/2019/02/Equation-2-min.png?ezimgfmt=ng:webp/ngcb1\n",
        "\n",
        "\n",
        "\n",
        "where the error terms are the errors of the autoregressive models of the respective lags.\n",
        "\n",
        "\n",
        "The errors Et and E(t-1) are the errors from the following equations :\n",
        "\n",
        "\n",
        "![Error Terms of the AR Model](https://www.machinelearningplus.com/wp-content/uploads/2019/02/Equation-3-min.png?ezimgfmt=ng:webp/ngcb1)\n",
        "\n",
        "\n",
        "image source : https://www.machinelearningplus.com/wp-content/uploads/2019/02/Equation-3-min.png?ezimgfmt=ng:webp/ngcb1\n",
        "\n",
        "\n",
        "\n",
        "Thus, we have discussed AR and MA Models respectively."
      ]
    },
    {
      "metadata": {
        "id": "m2f--SaNmJOy"
      },
      "cell_type": "markdown",
      "source": [
        "## **4.3 ARIMA model**\n",
        "\n",
        "\n",
        "- An ARIMA model is one where the time series was differenced at least once to make it stationary and we combine the AR and the MA terms. So the equation of an ARIMA model becomes :\n",
        "\n",
        "\n",
        "![ARIMA Model](https://www.machinelearningplus.com/wp-content/uploads/2019/02/Equation-4-min-865x77.png?ezimgfmt=ng:webp/ngcb1)\n",
        "\n",
        "\n",
        "image source : https://www.machinelearningplus.com/wp-content/uploads/2019/02/Equation-4-min-865x77.png?ezimgfmt=ng:webp/ngcb1\n",
        "\n",
        "\n",
        "\n",
        "### **ARIMA model in words**:\n",
        "\n",
        "\n",
        "Predicted Yt = Constant + Linear combination Lags of Y (upto p lags) + Linear Combination of Lagged forecast errors (upto q lags)\n",
        "\n"
      ]
    },
    {
      "metadata": {
        "id": "nrRmcSLomJOy"
      },
      "cell_type": "markdown",
      "source": [
        "# **5. How to find the order of differencing (d) in ARIMA model**  <a class=\"anchor\" id=\"5\"></a>\n",
        "\n",
        "[Table of Contents](#0.1)\n",
        "\n",
        "\n",
        "- As stated earlier, the purpose of differencing is to make the time series stationary. But we should be careful to not over-difference the series. An over differenced series may still be stationary, which in turn will affect the model parameters.\n",
        "\n",
        "\n",
        "- So we should determine the right order of differencing. The right order of differencing is the minimum differencing required to get a near-stationary series which roams around a defined mean and the ACF plot reaches to zero fairly quick.\n",
        "\n",
        "\n",
        "- If the autocorrelations are positive for many number of lags (10 or more), then the series needs further differencing. On the other hand, if the lag 1 autocorrelation itself is too negative, then the series is probably over-differenced.\n",
        "\n",
        "\n",
        "- If we can’t really decide between two orders of differencing, then we go with the order that gives the least standard deviation in the differenced series.\n",
        "\n",
        "\n",
        "- Now, we will explain these concepts with the help of an example as follows:-\n",
        "\n"
      ]
    },
    {
      "metadata": {
        "id": "KgatOpOAmJOz"
      },
      "cell_type": "markdown",
      "source": [
        "- First, I will check if the series is stationary using the **Augmented Dickey Fuller test (ADF Test)**, from the statsmodels package. The reason being is that we need differencing only if the series is non-stationary. Else, no differencing is needed, that is, d=0.\n",
        "\n",
        "\n",
        "- The null hypothesis (Ho) of the ADF test is that the time series is non-stationary. So, if the p-value of the test is less than the significance level (0.05) then we reject the null hypothesis and infer that the time series is indeed stationary.\n",
        "\n",
        "\n",
        "- So, in our case, if P Value > 0.05 we go ahead with finding the order of differencing."
      ]
    },
    {
      "metadata": {
        "id": "jXziEIahmJOz"
      },
      "cell_type": "markdown",
      "source": [
        "## **Routine set up**"
      ]
    },
    {
      "metadata": {
        "trusted": true,
        "id": "N9I62FqdmJOz"
      },
      "cell_type": "code",
      "source": [
        "import numpy as np # linear algebra\n",
        "import pandas as pd # data processing, CSV file I/O (e.g. pd.read_csv)"
      ],
      "execution_count": 3,
      "outputs": []
    },
    {
      "metadata": {
        "id": "9R1AMNQ3mJO0"
      },
      "cell_type": "markdown",
      "source": [
        "## **Import data**"
      ]
    },
    {
      "cell_type": "code",
      "source": [
        "from google.colab import drive\n",
        "drive.mount('/content/drive')"
      ],
      "metadata": {
        "colab": {
          "base_uri": "https://localhost:8080/"
        },
        "id": "Zj9GIae0mT2X",
        "outputId": "31c14eed-d965-4652-a4a2-1389082022e4"
      },
      "execution_count": 1,
      "outputs": [
        {
          "output_type": "stream",
          "name": "stdout",
          "text": [
            "Mounted at /content/drive\n"
          ]
        }
      ]
    },
    {
      "metadata": {
        "trusted": true,
        "colab": {
          "base_uri": "https://localhost:8080/",
          "height": 206
        },
        "id": "UvHFGYBVmJO0",
        "outputId": "5c8ce916-911d-4752-a78c-29acf28a09ba"
      },
      "cell_type": "code",
      "source": [
        "path = '/content/drive/MyDrive/Python/Datasets/dataset.txt'\n",
        "\n",
        "df = pd.read_csv(path)\n",
        "\n",
        "df.head()"
      ],
      "execution_count": 4,
      "outputs": [
        {
          "output_type": "execute_result",
          "data": {
            "text/plain": [
              "         date     value\n",
              "0  1991-07-01  3.526591\n",
              "1  1991-08-01  3.180891\n",
              "2  1991-09-01  3.252221\n",
              "3  1991-10-01  3.611003\n",
              "4  1991-11-01  3.565869"
            ],
            "text/html": [
              "\n",
              "  <div id=\"df-30733ca9-c695-44bd-8997-9843d5824e77\" class=\"colab-df-container\">\n",
              "    <div>\n",
              "<style scoped>\n",
              "    .dataframe tbody tr th:only-of-type {\n",
              "        vertical-align: middle;\n",
              "    }\n",
              "\n",
              "    .dataframe tbody tr th {\n",
              "        vertical-align: top;\n",
              "    }\n",
              "\n",
              "    .dataframe thead th {\n",
              "        text-align: right;\n",
              "    }\n",
              "</style>\n",
              "<table border=\"1\" class=\"dataframe\">\n",
              "  <thead>\n",
              "    <tr style=\"text-align: right;\">\n",
              "      <th></th>\n",
              "      <th>date</th>\n",
              "      <th>value</th>\n",
              "    </tr>\n",
              "  </thead>\n",
              "  <tbody>\n",
              "    <tr>\n",
              "      <th>0</th>\n",
              "      <td>1991-07-01</td>\n",
              "      <td>3.526591</td>\n",
              "    </tr>\n",
              "    <tr>\n",
              "      <th>1</th>\n",
              "      <td>1991-08-01</td>\n",
              "      <td>3.180891</td>\n",
              "    </tr>\n",
              "    <tr>\n",
              "      <th>2</th>\n",
              "      <td>1991-09-01</td>\n",
              "      <td>3.252221</td>\n",
              "    </tr>\n",
              "    <tr>\n",
              "      <th>3</th>\n",
              "      <td>1991-10-01</td>\n",
              "      <td>3.611003</td>\n",
              "    </tr>\n",
              "    <tr>\n",
              "      <th>4</th>\n",
              "      <td>1991-11-01</td>\n",
              "      <td>3.565869</td>\n",
              "    </tr>\n",
              "  </tbody>\n",
              "</table>\n",
              "</div>\n",
              "    <div class=\"colab-df-buttons\">\n",
              "\n",
              "  <div class=\"colab-df-container\">\n",
              "    <button class=\"colab-df-convert\" onclick=\"convertToInteractive('df-30733ca9-c695-44bd-8997-9843d5824e77')\"\n",
              "            title=\"Convert this dataframe to an interactive table.\"\n",
              "            style=\"display:none;\">\n",
              "\n",
              "  <svg xmlns=\"http://www.w3.org/2000/svg\" height=\"24px\" viewBox=\"0 -960 960 960\">\n",
              "    <path d=\"M120-120v-720h720v720H120Zm60-500h600v-160H180v160Zm220 220h160v-160H400v160Zm0 220h160v-160H400v160ZM180-400h160v-160H180v160Zm440 0h160v-160H620v160ZM180-180h160v-160H180v160Zm440 0h160v-160H620v160Z\"/>\n",
              "  </svg>\n",
              "    </button>\n",
              "\n",
              "  <style>\n",
              "    .colab-df-container {\n",
              "      display:flex;\n",
              "      gap: 12px;\n",
              "    }\n",
              "\n",
              "    .colab-df-convert {\n",
              "      background-color: #E8F0FE;\n",
              "      border: none;\n",
              "      border-radius: 50%;\n",
              "      cursor: pointer;\n",
              "      display: none;\n",
              "      fill: #1967D2;\n",
              "      height: 32px;\n",
              "      padding: 0 0 0 0;\n",
              "      width: 32px;\n",
              "    }\n",
              "\n",
              "    .colab-df-convert:hover {\n",
              "      background-color: #E2EBFA;\n",
              "      box-shadow: 0px 1px 2px rgba(60, 64, 67, 0.3), 0px 1px 3px 1px rgba(60, 64, 67, 0.15);\n",
              "      fill: #174EA6;\n",
              "    }\n",
              "\n",
              "    .colab-df-buttons div {\n",
              "      margin-bottom: 4px;\n",
              "    }\n",
              "\n",
              "    [theme=dark] .colab-df-convert {\n",
              "      background-color: #3B4455;\n",
              "      fill: #D2E3FC;\n",
              "    }\n",
              "\n",
              "    [theme=dark] .colab-df-convert:hover {\n",
              "      background-color: #434B5C;\n",
              "      box-shadow: 0px 1px 3px 1px rgba(0, 0, 0, 0.15);\n",
              "      filter: drop-shadow(0px 1px 2px rgba(0, 0, 0, 0.3));\n",
              "      fill: #FFFFFF;\n",
              "    }\n",
              "  </style>\n",
              "\n",
              "    <script>\n",
              "      const buttonEl =\n",
              "        document.querySelector('#df-30733ca9-c695-44bd-8997-9843d5824e77 button.colab-df-convert');\n",
              "      buttonEl.style.display =\n",
              "        google.colab.kernel.accessAllowed ? 'block' : 'none';\n",
              "\n",
              "      async function convertToInteractive(key) {\n",
              "        const element = document.querySelector('#df-30733ca9-c695-44bd-8997-9843d5824e77');\n",
              "        const dataTable =\n",
              "          await google.colab.kernel.invokeFunction('convertToInteractive',\n",
              "                                                    [key], {});\n",
              "        if (!dataTable) return;\n",
              "\n",
              "        const docLinkHtml = 'Like what you see? Visit the ' +\n",
              "          '<a target=\"_blank\" href=https://colab.research.google.com/notebooks/data_table.ipynb>data table notebook</a>'\n",
              "          + ' to learn more about interactive tables.';\n",
              "        element.innerHTML = '';\n",
              "        dataTable['output_type'] = 'display_data';\n",
              "        await google.colab.output.renderOutput(dataTable, element);\n",
              "        const docLink = document.createElement('div');\n",
              "        docLink.innerHTML = docLinkHtml;\n",
              "        element.appendChild(docLink);\n",
              "      }\n",
              "    </script>\n",
              "  </div>\n",
              "\n",
              "\n",
              "<div id=\"df-7cde02e9-904f-4a6b-b689-5d4716d57368\">\n",
              "  <button class=\"colab-df-quickchart\" onclick=\"quickchart('df-7cde02e9-904f-4a6b-b689-5d4716d57368')\"\n",
              "            title=\"Suggest charts.\"\n",
              "            style=\"display:none;\">\n",
              "\n",
              "<svg xmlns=\"http://www.w3.org/2000/svg\" height=\"24px\"viewBox=\"0 0 24 24\"\n",
              "     width=\"24px\">\n",
              "    <g>\n",
              "        <path d=\"M19 3H5c-1.1 0-2 .9-2 2v14c0 1.1.9 2 2 2h14c1.1 0 2-.9 2-2V5c0-1.1-.9-2-2-2zM9 17H7v-7h2v7zm4 0h-2V7h2v10zm4 0h-2v-4h2v4z\"/>\n",
              "    </g>\n",
              "</svg>\n",
              "  </button>\n",
              "\n",
              "<style>\n",
              "  .colab-df-quickchart {\n",
              "      --bg-color: #E8F0FE;\n",
              "      --fill-color: #1967D2;\n",
              "      --hover-bg-color: #E2EBFA;\n",
              "      --hover-fill-color: #174EA6;\n",
              "      --disabled-fill-color: #AAA;\n",
              "      --disabled-bg-color: #DDD;\n",
              "  }\n",
              "\n",
              "  [theme=dark] .colab-df-quickchart {\n",
              "      --bg-color: #3B4455;\n",
              "      --fill-color: #D2E3FC;\n",
              "      --hover-bg-color: #434B5C;\n",
              "      --hover-fill-color: #FFFFFF;\n",
              "      --disabled-bg-color: #3B4455;\n",
              "      --disabled-fill-color: #666;\n",
              "  }\n",
              "\n",
              "  .colab-df-quickchart {\n",
              "    background-color: var(--bg-color);\n",
              "    border: none;\n",
              "    border-radius: 50%;\n",
              "    cursor: pointer;\n",
              "    display: none;\n",
              "    fill: var(--fill-color);\n",
              "    height: 32px;\n",
              "    padding: 0;\n",
              "    width: 32px;\n",
              "  }\n",
              "\n",
              "  .colab-df-quickchart:hover {\n",
              "    background-color: var(--hover-bg-color);\n",
              "    box-shadow: 0 1px 2px rgba(60, 64, 67, 0.3), 0 1px 3px 1px rgba(60, 64, 67, 0.15);\n",
              "    fill: var(--button-hover-fill-color);\n",
              "  }\n",
              "\n",
              "  .colab-df-quickchart-complete:disabled,\n",
              "  .colab-df-quickchart-complete:disabled:hover {\n",
              "    background-color: var(--disabled-bg-color);\n",
              "    fill: var(--disabled-fill-color);\n",
              "    box-shadow: none;\n",
              "  }\n",
              "\n",
              "  .colab-df-spinner {\n",
              "    border: 2px solid var(--fill-color);\n",
              "    border-color: transparent;\n",
              "    border-bottom-color: var(--fill-color);\n",
              "    animation:\n",
              "      spin 1s steps(1) infinite;\n",
              "  }\n",
              "\n",
              "  @keyframes spin {\n",
              "    0% {\n",
              "      border-color: transparent;\n",
              "      border-bottom-color: var(--fill-color);\n",
              "      border-left-color: var(--fill-color);\n",
              "    }\n",
              "    20% {\n",
              "      border-color: transparent;\n",
              "      border-left-color: var(--fill-color);\n",
              "      border-top-color: var(--fill-color);\n",
              "    }\n",
              "    30% {\n",
              "      border-color: transparent;\n",
              "      border-left-color: var(--fill-color);\n",
              "      border-top-color: var(--fill-color);\n",
              "      border-right-color: var(--fill-color);\n",
              "    }\n",
              "    40% {\n",
              "      border-color: transparent;\n",
              "      border-right-color: var(--fill-color);\n",
              "      border-top-color: var(--fill-color);\n",
              "    }\n",
              "    60% {\n",
              "      border-color: transparent;\n",
              "      border-right-color: var(--fill-color);\n",
              "    }\n",
              "    80% {\n",
              "      border-color: transparent;\n",
              "      border-right-color: var(--fill-color);\n",
              "      border-bottom-color: var(--fill-color);\n",
              "    }\n",
              "    90% {\n",
              "      border-color: transparent;\n",
              "      border-bottom-color: var(--fill-color);\n",
              "    }\n",
              "  }\n",
              "</style>\n",
              "\n",
              "  <script>\n",
              "    async function quickchart(key) {\n",
              "      const quickchartButtonEl =\n",
              "        document.querySelector('#' + key + ' button');\n",
              "      quickchartButtonEl.disabled = true;  // To prevent multiple clicks.\n",
              "      quickchartButtonEl.classList.add('colab-df-spinner');\n",
              "      try {\n",
              "        const charts = await google.colab.kernel.invokeFunction(\n",
              "            'suggestCharts', [key], {});\n",
              "      } catch (error) {\n",
              "        console.error('Error during call to suggestCharts:', error);\n",
              "      }\n",
              "      quickchartButtonEl.classList.remove('colab-df-spinner');\n",
              "      quickchartButtonEl.classList.add('colab-df-quickchart-complete');\n",
              "    }\n",
              "    (() => {\n",
              "      let quickchartButtonEl =\n",
              "        document.querySelector('#df-7cde02e9-904f-4a6b-b689-5d4716d57368 button');\n",
              "      quickchartButtonEl.style.display =\n",
              "        google.colab.kernel.accessAllowed ? 'block' : 'none';\n",
              "    })();\n",
              "  </script>\n",
              "</div>\n",
              "    </div>\n",
              "  </div>\n"
            ]
          },
          "metadata": {},
          "execution_count": 4
        }
      ]
    },
    {
      "metadata": {
        "id": "lhMN5ApPmJO0"
      },
      "cell_type": "markdown",
      "source": [
        "- Now, we will continue with our example."
      ]
    },
    {
      "metadata": {
        "trusted": true,
        "id": "vtkqxG_6mJO0"
      },
      "cell_type": "code",
      "source": [
        "from statsmodels.tsa.stattools import adfuller\n",
        "from numpy import log\n",
        "result = adfuller(df.value.dropna())\n",
        "print('ADF Statistic: %f' % result[0])\n",
        "print('p-value: %f' % result[1])"
      ],
      "execution_count": null,
      "outputs": []
    },
    {
      "metadata": {
        "id": "l9Z135xmmJO0"
      },
      "cell_type": "markdown",
      "source": [
        "- Since p-value(1.00) is greater than the significance level(0.05), let’s difference the series and see how the autocorrelation plot looks like."
      ]
    },
    {
      "metadata": {
        "trusted": true,
        "id": "3HD7FmoPmJO1"
      },
      "cell_type": "code",
      "source": [
        "from statsmodels.graphics.tsaplots import plot_acf, plot_pacf\n",
        "import matplotlib.pyplot as plt\n",
        "plt.rcParams.update({'figure.figsize':(9,7), 'figure.dpi':120})\n",
        "\n",
        "\n",
        "# Original Series\n",
        "fig, axes = plt.subplots(3, 2, sharex=True)\n",
        "axes[0, 0].plot(df.value); axes[0, 0].set_title('Original Series')\n",
        "plot_acf(df.value, ax=axes[0, 1])\n",
        "\n",
        "# 1st Differencing\n",
        "axes[1, 0].plot(df.value.diff()); axes[1, 0].set_title('1st Order Differencing')\n",
        "plot_acf(df.value.diff().dropna(), ax=axes[1, 1])\n",
        "\n",
        "# 2nd Differencing\n",
        "axes[2, 0].plot(df.value.diff().diff()); axes[2, 0].set_title('2nd Order Differencing')\n",
        "plot_acf(df.value.diff().diff().dropna(), ax=axes[2, 1])\n",
        "\n",
        "plt.show()"
      ],
      "execution_count": null,
      "outputs": []
    },
    {
      "metadata": {
        "id": "i_U6JNRcmJO1"
      },
      "cell_type": "markdown",
      "source": [
        "- For the above data, we can see that the time series reaches stationarity with two orders of differencing.\n",
        "\n"
      ]
    },
    {
      "metadata": {
        "trusted": true,
        "id": "2Tm_Nd0_mJO1"
      },
      "cell_type": "markdown",
      "source": [
        "# **6. How to find the order of the AR term (p)** <a class=\"anchor\" id=\"6\"></a>\n",
        "\n",
        "[Table of Contents](#0.1)\n",
        "\n",
        "\n",
        "- The next step is to identify if the model needs any AR terms. We will find out the required number of AR terms by inspecting the **Partial Autocorrelation (PACF) plot**.\n",
        "\n",
        "\n",
        "- **Partial autocorrelation** can be imagined as the correlation between the series and its lag, after excluding the contributions from the intermediate lags. So, PACF sort of conveys the pure correlation between a lag and the series. This way, we will know if that lag is needed in the AR term or not.\n",
        "\n",
        "\n",
        "- Partial autocorrelation of lag (k) of a series is the coefficient of that lag in the autoregression equation of Y.\n",
        "\n",
        "\n",
        "$$Yt = \\alpha0 + \\alpha1 Y{t-1} + \\alpha2 Y{t-2} + \\alpha3 Y{t-3}$$\n",
        "\n",
        "\n",
        "- That is, suppose, if Y_t is the current series and Y_t-1 is the lag 1 of Y, then the partial autocorrelation of lag 3 (Y_t-3) is the coefficient $\\alpha_3$ of Y_t-3 in the above equation.\n",
        "\n",
        "\n",
        "- Now, we should find the number of AR terms. Any autocorrelation in a stationarized series can be rectified by adding enough AR terms. So, we initially take the order of AR term to be equal to as many lags that crosses the significance limit in the PACF plot.\n",
        "\n"
      ]
    },
    {
      "metadata": {
        "trusted": true,
        "id": "Xda_TD0xmJO1"
      },
      "cell_type": "code",
      "source": [
        "# PACF plot of 1st differenced series\n",
        "plt.rcParams.update({'figure.figsize':(9,3), 'figure.dpi':120})\n",
        "\n",
        "fig, axes = plt.subplots(1, 2, sharex=True)\n",
        "axes[0].plot(df.value.diff()); axes[0].set_title('1st Differencing')\n",
        "axes[1].set(ylim=(0,5))\n",
        "plot_pacf(df.value.diff().dropna(), ax=axes[1])\n",
        "\n",
        "plt.show()"
      ],
      "execution_count": null,
      "outputs": []
    },
    {
      "metadata": {
        "id": "nBT5Jrc7mJO1"
      },
      "cell_type": "markdown",
      "source": [
        "- We can see that the PACF lag 1 is quite significant since it is well above the significance line. So, we will fix the value of p as 1."
      ]
    },
    {
      "metadata": {
        "id": "mCpArf_2mJO1"
      },
      "cell_type": "markdown",
      "source": [
        "# **7. How to find the order of the MA term (q)** <a class=\"anchor\" id=\"7\"></a>\n",
        "\n",
        "[Table of Contents](#0.1)\n",
        "\n",
        "\n",
        "- Just like how we looked at the PACF plot for the number of AR terms, we will look at the ACF plot for the number of MA terms. An MA term is technically, the error of the lagged forecast.\n",
        "\n",
        "\n",
        "- The ACF tells how many MA terms are required to remove any autocorrelation in the stationarized series.\n",
        "\n",
        "\n",
        "- Let’s see the autocorrelation plot of the differenced series."
      ]
    },
    {
      "metadata": {
        "trusted": true,
        "id": "FMge8a6PmJO1"
      },
      "cell_type": "code",
      "source": [
        "from statsmodels.graphics.tsaplots import plot_acf, plot_pacf\n",
        "plt.rcParams.update({'figure.figsize':(9,3), 'figure.dpi':120})\n",
        "\n",
        "fig, axes = plt.subplots(1, 2, sharex=True)\n",
        "axes[0].plot(df.value.diff()); axes[0].set_title('1st Differencing')\n",
        "axes[1].set(ylim=(0,1.2))\n",
        "plot_acf(df.value.diff().dropna(), ax=axes[1])\n",
        "\n",
        "plt.show()"
      ],
      "execution_count": null,
      "outputs": []
    },
    {
      "metadata": {
        "id": "I3k4Y3RGmJO1"
      },
      "cell_type": "markdown",
      "source": [
        "- We can see that couple of lags are well above the significance line. So, we will fix q as 2. If there is any doubt, we will go with the simpler model that sufficiently explains the Y."
      ]
    },
    {
      "metadata": {
        "id": "56uSlYtVmJO1"
      },
      "cell_type": "markdown",
      "source": [
        "# **8. How to handle if a time series is slightly under or over differenced** <a class=\"anchor\" id=\"8\"></a>\n",
        "\n",
        "[Table of Contents](#0.1)\n",
        "\n",
        "\n",
        "- It may happen that the time series is slightly under differenced. Differencing it one more time makes it slightly over-differenced.\n",
        "\n",
        "\n",
        "- If the series is slightly under differenced, adding one or more additional AR terms usually makes it up. Likewise, if it is slightly over-differenced, we will try adding an additional MA term."
      ]
    },
    {
      "metadata": {
        "id": "JDfxHkqsmJO1"
      },
      "cell_type": "markdown",
      "source": [
        "# **9. How to build the ARIMA Model** <a class=\"anchor\" id=\"9\"></a>\n",
        "\n",
        "\n",
        "[Table of Contents](#0.1)\n",
        "\n",
        "\n",
        "Now, we have determined the values of p, d and q. We have everything needed to fit the ARIMA model. We will use the ARIMA() implementation in the statsmodels package."
      ]
    },
    {
      "metadata": {
        "trusted": true,
        "id": "EON4K25zmJO1"
      },
      "cell_type": "code",
      "source": [
        "from statsmodels.tsa.arima_model import ARIMA\n",
        "\n",
        "# 1,1,2 ARIMA Model\n",
        "model = ARIMA(df.value, order=(1,1,2))\n",
        "model_fit = model.fit(disp=0)\n",
        "print(model_fit.summary())"
      ],
      "execution_count": null,
      "outputs": []
    },
    {
      "metadata": {
        "id": "d7rSiV63mJO1"
      },
      "cell_type": "markdown",
      "source": [
        "- The model summary provides lot of information. The table in the middle is the coefficients table where the values under ‘coef’ are the weights of the respective terms.\n",
        "\n",
        "- The coefficient of the MA2 term is close to zero and the P-Value in ‘P>|z|’ column is highly insignificant. It should ideally be less than 0.05 for the respective X to be significant.\n",
        "\n",
        "- So, we will rebuild the model without the MA2 term."
      ]
    },
    {
      "metadata": {
        "trusted": true,
        "id": "ZU2MmAEhmJO2"
      },
      "cell_type": "code",
      "source": [
        "# 1,1,1 ARIMA Model\n",
        "model = ARIMA(df.value, order=(1,1,1))\n",
        "model_fit = model.fit(disp=0)\n",
        "print(model_fit.summary())"
      ],
      "execution_count": null,
      "outputs": []
    },
    {
      "metadata": {
        "id": "zeD7hXsTmJO2"
      },
      "cell_type": "markdown",
      "source": [
        "- The model AIC has slightly reduced, which is good. The p-values of the AR1 and MA1 terms have improved and are highly significant (<< 0.05).\n",
        "\n",
        "- Let’s plot the residuals to ensure there are no patterns (that is, look for constant mean and variance)."
      ]
    },
    {
      "metadata": {
        "trusted": true,
        "id": "Nt6ezJvOmJO2"
      },
      "cell_type": "code",
      "source": [
        "# Plot residual errors\n",
        "residuals = pd.DataFrame(model_fit.resid)\n",
        "fig, ax = plt.subplots(1,2)\n",
        "residuals.plot(title=\"Residuals\", ax=ax[0])\n",
        "residuals.plot(kind='kde', title='Density', ax=ax[1])\n",
        "plt.show()"
      ],
      "execution_count": null,
      "outputs": []
    },
    {
      "metadata": {
        "id": "gSYstZGImJO2"
      },
      "cell_type": "markdown",
      "source": [
        "- The residual errors seem fine with near zero mean and uniform variance. Let’s plot the actuals against the fitted values using **plot_predict()**."
      ]
    },
    {
      "metadata": {
        "trusted": true,
        "id": "JAhtvmBrmJO2"
      },
      "cell_type": "code",
      "source": [
        "# Actual vs Fitted\n",
        "model_fit.plot_predict(dynamic=False)\n",
        "plt.show()"
      ],
      "execution_count": null,
      "outputs": []
    },
    {
      "metadata": {
        "id": "rcXy-M6_mJO2"
      },
      "cell_type": "markdown",
      "source": [
        "- When we set dynamic=False the in-sample lagged values are used for prediction. That is, the model gets trained up until the previous value to make the next prediction. This can make the fitted forecast and actuals look artificially good.\n",
        "\n",
        "- So, we seem to have a decent ARIMA model. But, we can’t say that this is the best ARIMA model because we haven’t actually forecasted into the future and compared the forecast with the actual performance.\n",
        "\n",
        "- So, the real validation we need now is the Out-of-Time cross-validation, discussed next."
      ]
    },
    {
      "metadata": {
        "id": "eNhIeqc2mJO2"
      },
      "cell_type": "markdown",
      "source": [
        "# **10. Find the optimal ARIMA model using Out-of-Time Cross validation** <a class=\"anchor\" id=\"10\"></a>\n",
        "\n",
        "\n",
        "[Table of Contents](#0.1)\n",
        "\n",
        "\n",
        "- In Out-of-Time cross-validation, we move backwards in time and forecast into the future to as many steps we took back. Then we compare the forecast against the actuals.\n",
        "\n",
        "- To do so, we will create the training and testing dataset by splitting the time series into 2 contiguous parts in a reasonable proportion based on time frequency of series."
      ]
    },
    {
      "metadata": {
        "trusted": true,
        "id": "iSuzH45pmJO2"
      },
      "cell_type": "code",
      "source": [
        "from statsmodels.tsa.stattools import acf\n",
        "\n",
        "# Create Training and Test\n",
        "train = df.value[:85]\n",
        "test = df.value[85:]"
      ],
      "execution_count": null,
      "outputs": []
    },
    {
      "metadata": {
        "id": "KlXGkexbmJO3"
      },
      "cell_type": "markdown",
      "source": [
        "- Now, we will build the ARIMA model on training dataset, forecast and plot it."
      ]
    },
    {
      "metadata": {
        "trusted": true,
        "id": "wYWduj8gmJO4"
      },
      "cell_type": "code",
      "source": [
        "# Build Model\n",
        "# model = ARIMA(train, order=(3,2,1))\n",
        "model = ARIMA(train, order=(1, 1, 1))\n",
        "fitted = model.fit(disp=-1)\n",
        "\n",
        "# Forecast\n",
        "fc, se, conf = fitted.forecast(119, alpha=0.05)  # 95% conf\n",
        "\n",
        "# Make as pandas series\n",
        "fc_series = pd.Series(fc, index=test.index)\n",
        "lower_series = pd.Series(conf[:, 0], index=test.index)\n",
        "upper_series = pd.Series(conf[:, 1], index=test.index)\n",
        "\n",
        "# Plot\n",
        "plt.figure(figsize=(12,5), dpi=100)\n",
        "plt.plot(train, label='training')\n",
        "plt.plot(test, label='actual')\n",
        "plt.plot(fc_series, label='forecast')\n",
        "plt.fill_between(lower_series.index, lower_series, upper_series,\n",
        "                 color='k', alpha=.15)\n",
        "plt.title('Forecast vs Actuals')\n",
        "plt.legend(loc='upper left', fontsize=8)\n",
        "plt.show()"
      ],
      "execution_count": null,
      "outputs": []
    },
    {
      "metadata": {
        "id": "jtmiF8VOmJO4"
      },
      "cell_type": "markdown",
      "source": [
        "- From the above chart, the ARIMA(1,1,1) model seems to predict a correct forecast. The actual observed values lie within the 95% confidence band.\n",
        "\n",
        "- But, we can see that the predicted forecasts is consistently below the actuals. That means, by adding a small constant to our forecast, the accuracy will certainly improve.\n",
        "\n",
        "- So, in this case, we should increase the order of differencing to two (d=2) and iteratively increase p and q up to 5 to see which model gives least AIC and also look for a chart that gives closer actuals and forecasts.\n",
        "\n",
        "- While doing this, I keep an eye on the P values of the AR and MA terms in the model summary. They should be as close to zero, ideally, less than 0.05."
      ]
    },
    {
      "metadata": {
        "trusted": true,
        "id": "ajoceGQhmJO4"
      },
      "cell_type": "code",
      "source": [
        "# Build Model\n",
        "model = ARIMA(train, order=(3, 2, 1))\n",
        "fitted = model.fit(disp=-1)\n",
        "print(fitted.summary())\n",
        "\n",
        "# Forecast\n",
        "fc, se, conf = fitted.forecast(119, alpha=0.05)  # 95% conf\n",
        "\n",
        "# Make as pandas series\n",
        "fc_series = pd.Series(fc, index=test.index)\n",
        "lower_series = pd.Series(conf[:, 0], index=test.index)\n",
        "upper_series = pd.Series(conf[:, 1], index=test.index)\n",
        "\n",
        "# Plot\n",
        "plt.figure(figsize=(12,5), dpi=100)\n",
        "plt.plot(train, label='training')\n",
        "plt.plot(test, label='actual')\n",
        "plt.plot(fc_series, label='forecast')\n",
        "plt.fill_between(lower_series.index, lower_series, upper_series,\n",
        "                 color='k', alpha=.15)\n",
        "plt.title('Forecast vs Actuals')\n",
        "plt.legend(loc='upper left', fontsize=8)\n",
        "plt.show()"
      ],
      "execution_count": null,
      "outputs": []
    },
    {
      "metadata": {
        "id": "T5YCBrTumJO4"
      },
      "cell_type": "markdown",
      "source": [
        "- The AIC has reduced to 245 from 843 which is good. Mostly, the p-values of the X terms are less than < 0.05, which is great. So overall this model is much better."
      ]
    },
    {
      "metadata": {
        "id": "XeScDGHImJO4"
      },
      "cell_type": "markdown",
      "source": [
        "# **11. Accuracy Metrics for Time Series Forecast** <a class=\"anchor\" id=\"11\"></a>\n",
        "\n",
        "\n",
        "[Table of Contents](#0.1)\n",
        "\n",
        "\n",
        "The commonly used accuracy metrics to judge forecasts are:\n",
        "\n",
        "1. Mean Absolute Percentage Error (MAPE)\n",
        "2. Mean Error (ME)\n",
        "3. Mean Absolute Error (MAE)\n",
        "4. Mean Percentage Error (MPE)\n",
        "5. Root Mean Squared Error (RMSE)\n",
        "6. Lag 1 Autocorrelation of Error (ACF1)\n",
        "7. Correlation between the Actual and the Forecast (corr)\n",
        "8. Min-Max Error (minmax)\n",
        "\n",
        "\n",
        "Typically, we will use three accuracy metrices:-\n",
        "\n",
        "1. MAPE\n",
        "2. Correlation and\n",
        "3. Min-Max Error\n",
        "\n",
        "\n",
        "can be used. The above three are percentage errors that vary between 0 and 1. That way, we can judge how good is the forecast irrespective of the scale of the series.\n"
      ]
    },
    {
      "metadata": {
        "trusted": true,
        "id": "Vn80QmPDmJO4"
      },
      "cell_type": "code",
      "source": [
        "# Accuracy metrics\n",
        "def forecast_accuracy(forecast, actual):\n",
        "    mape = np.mean(np.abs(forecast - actual)/np.abs(actual))  # MAPE\n",
        "    me = np.mean(forecast - actual)             # ME\n",
        "    mae = np.mean(np.abs(forecast - actual))    # MAE\n",
        "    mpe = np.mean((forecast - actual)/actual)   # MPE\n",
        "    rmse = np.mean((forecast - actual)**2)**.5  # RMSE\n",
        "    corr = np.corrcoef(forecast, actual)[0,1]   # corr\n",
        "    mins = np.amin(np.hstack([forecast[:,None],\n",
        "                              actual[:,None]]), axis=1)\n",
        "    maxs = np.amax(np.hstack([forecast[:,None],\n",
        "                              actual[:,None]]), axis=1)\n",
        "    minmax = 1 - np.mean(mins/maxs)             # minmax\n",
        "    acf1 = acf(fc-test)[1]                      # ACF1\n",
        "    return({'mape':mape, 'me':me, 'mae': mae,\n",
        "            'mpe': mpe, 'rmse':rmse, 'acf1':acf1,\n",
        "            'corr':corr, 'minmax':minmax})\n",
        "\n",
        "forecast_accuracy(fc, test.values)"
      ],
      "execution_count": null,
      "outputs": []
    },
    {
      "metadata": {
        "id": "gK2sHZBZmJO4"
      },
      "cell_type": "markdown",
      "source": [
        "- Around 23.22% MAPE implies the model is about 76.78% accurate in predicting the next 15 observations. Now we know how to build an ARIMA model manually.\n",
        "\n",
        "- But, we should also know how to automate the best model selection process. So, we will discuss it next.\n",
        "\n"
      ]
    },
    {
      "metadata": {
        "id": "FzAIoyw1mJO5"
      },
      "cell_type": "markdown",
      "source": [
        "# **12. Auto Arima Forecasting in Python** <a class=\"anchor\" id=\"12\"></a>\n",
        "\n",
        "\n",
        "[Table of Contents](#0.1)\n",
        "\n",
        "\n",
        "- In Python, the `pmdarima` package provides `auto_arima()` function which can be used to automate the process of ARIMA Forecasting in Python.\n",
        "\n",
        "- `auto_arima()` uses a stepwise approach to search multiple combinations of p,d,q parameters and chooses the best model that has the least AIC.\n",
        "\n",
        "- We need to install the `pmdarima` package first."
      ]
    },
    {
      "metadata": {
        "trusted": true,
        "id": "s9zvTLj1mJO5"
      },
      "cell_type": "code",
      "source": [
        "!pip install pmdarima"
      ],
      "execution_count": null,
      "outputs": []
    },
    {
      "metadata": {
        "trusted": true,
        "id": "cpeLu0tYmJO5"
      },
      "cell_type": "code",
      "source": [
        "from statsmodels.tsa.arima_model import ARIMA\n",
        "\n",
        "import pmdarima as pm\n",
        "\n",
        "model = pm.auto_arima(df.value, start_p=1, start_q=1,\n",
        "                      test='adf',       # use adftest to find optimal 'd'\n",
        "                      max_p=3, max_q=3, # maximum p and q\n",
        "                      m=1,              # frequency of series\n",
        "                      d=None,           # let model determine 'd'\n",
        "                      seasonal=False,   # No Seasonality\n",
        "                      start_P=0,\n",
        "                      D=0,\n",
        "                      trace=True,\n",
        "                      error_action='ignore',\n",
        "                      suppress_warnings=True,\n",
        "                      stepwise=True)\n",
        "\n",
        "print(model.summary())"
      ],
      "execution_count": null,
      "outputs": []
    },
    {
      "metadata": {
        "id": "-PbrDtMsmJO5"
      },
      "cell_type": "markdown",
      "source": [
        "# **13. How to interpret the residual plots in ARIMA model** <a class=\"anchor\" id=\"13\"></a>\n",
        "\n",
        "\n",
        "[Table of Contents](#0.1)\n",
        "\n",
        "Let’s review the residual plots using stepwise_fit."
      ]
    },
    {
      "metadata": {
        "trusted": true,
        "id": "kuLveaf3mJO5"
      },
      "cell_type": "code",
      "source": [
        "model.plot_diagnostics(figsize=(10,8))\n",
        "plt.show()"
      ],
      "execution_count": null,
      "outputs": []
    },
    {
      "metadata": {
        "id": "I4XLX1iEmJO5"
      },
      "cell_type": "markdown",
      "source": [
        "## **Interpretation of plots in plot diagnostics**\n",
        "\n",
        "\n",
        "**Standardized residual**: The residual errors seem to fluctuate around a mean of zero and have a uniform variance.\n",
        "\n",
        "\n",
        "**Histogram**: The density plot suggest normal distribution with mean slighlty shifted towards right.\n",
        "\n",
        "\n",
        "**Theoretical Quantiles**: Mostly the dots fall perfectly in line with the red line. Any significant deviations would imply the distribution is skewed.\n",
        "\n",
        "\n",
        "**Correlogram**: The Correlogram, (or ACF plot) shows the residual errors are not autocorrelated. The ACF plot would imply that there is some pattern in the residual errors which are not explained in the model. So we will need to look for more X’s (predictors) to the model.\n",
        "\n",
        "\n",
        "Overall, the model seems to be a good fit. So, let's use it to forecast."
      ]
    },
    {
      "metadata": {
        "trusted": true,
        "id": "UHzDeVcamJO5"
      },
      "cell_type": "code",
      "source": [
        "# Forecast\n",
        "n_periods = 24\n",
        "fc, confint = model.predict(n_periods=n_periods, return_conf_int=True)\n",
        "index_of_fc = np.arange(len(df.value), len(df.value)+n_periods)\n",
        "\n",
        "# make series for plotting purpose\n",
        "fc_series = pd.Series(fc, index=index_of_fc)\n",
        "lower_series = pd.Series(confint[:, 0], index=index_of_fc)\n",
        "upper_series = pd.Series(confint[:, 1], index=index_of_fc)\n",
        "\n",
        "# Plot\n",
        "plt.plot(df.value)\n",
        "plt.plot(fc_series, color='darkgreen')\n",
        "plt.fill_between(lower_series.index,\n",
        "                 lower_series,\n",
        "                 upper_series,\n",
        "                 color='k', alpha=.15)\n",
        "\n",
        "plt.title(\"Final Forecast of Usage\")\n",
        "plt.show()"
      ],
      "execution_count": null,
      "outputs": []
    },
    {
      "metadata": {
        "id": "HShWScbMmJO5"
      },
      "cell_type": "markdown",
      "source": [
        "# **14. SARIMA model in python** <a class=\"anchor\" id=\"14\"></a>\n",
        "\n",
        "\n",
        "[Table of Contents](#0.1)\n",
        "\n",
        "\n",
        "- The plain ARIMA model has a problem. It does not support seasonality.\n",
        "\n",
        "\n",
        "- If the time series has defined seasonality, then we should go for **Seasonal ARIMA** model (in short **SARIMA**) which uses seasonal differencing.\n",
        "\n",
        "\n",
        "- Seasonal differencing is similar to regular differencing, but, instead of subtracting consecutive terms, we subtract the value from previous season.\n",
        "\n",
        "\n",
        "- So, the model will be represented as **SARIMA(p,d,q)x(P,D,Q)**, where, P, D and Q are SAR, order of seasonal differencing and SMA terms respectively and 'x' is the frequency of the time series. If the model has well defined seasonal patterns, then enforce D=1 for a given frequency ‘x’.\n",
        "\n",
        "\n",
        "- We should set the model parameters such that D never exceeds one. And the total differencing ‘d + D’ never exceeds 2. We should try to keep only either SAR or SMA terms if the model has seasonal components.\n",
        "\n",
        "\n",
        "- Now, we will build a SARIMA model on the time series dataset.\n",
        "\n",
        "- But, first import the dataset"
      ]
    },
    {
      "metadata": {
        "trusted": true,
        "id": "cdTTqSt0mJO6"
      },
      "cell_type": "code",
      "source": [
        "data = pd.read_csv('/kaggle/input/dataset/dataset.txt', parse_dates=['date'], index_col='date')"
      ],
      "execution_count": null,
      "outputs": []
    },
    {
      "metadata": {
        "trusted": true,
        "id": "oBj51qBAmJO6"
      },
      "cell_type": "code",
      "source": [
        "# Plot\n",
        "fig, axes = plt.subplots(2, 1, figsize=(10,5), dpi=100, sharex=True)\n",
        "\n",
        "# Usual Differencing\n",
        "axes[0].plot(data[:], label='Original Series')\n",
        "axes[0].plot(data[:].diff(1), label='Usual Differencing')\n",
        "axes[0].set_title('Usual Differencing')\n",
        "axes[0].legend(loc='upper left', fontsize=10)\n",
        "\n",
        "\n",
        "# Seasonal Differencing\n",
        "axes[1].plot(data[:], label='Original Series')\n",
        "axes[1].plot(data[:].diff(12), label='Seasonal Differencing', color='green')\n",
        "axes[1].set_title('Seasonal Differencing')\n",
        "plt.legend(loc='upper left', fontsize=10)\n",
        "plt.suptitle('Drug Sales - Time Series Dataset', fontsize=16)\n",
        "plt.show()"
      ],
      "execution_count": null,
      "outputs": []
    },
    {
      "metadata": {
        "id": "s1RuRL_WmJO6"
      },
      "cell_type": "markdown",
      "source": [
        "- We can see that, the seasonal spikes are intact after applying usual differencing (lag 1). Whereas, it is rectified after seasonal differencing.\n",
        "\n",
        "- Now, let’s build the SARIMA model using pmdarima‘s `auto_arima()`. To do so, we need to set seasonal=True, set the frequency m=12 for month wise series and enforce D=1."
      ]
    },
    {
      "metadata": {
        "trusted": true,
        "id": "fDUGD33OmJO6"
      },
      "cell_type": "code",
      "source": [
        "# !pip3 install pyramid-arima (already done)\n",
        "import pmdarima as pm\n",
        "\n"
      ],
      "execution_count": null,
      "outputs": []
    },
    {
      "metadata": {
        "trusted": true,
        "id": "WgM00aiMmJO6"
      },
      "cell_type": "code",
      "source": [
        "# Seasonal - fit stepwise auto-ARIMA\n",
        "smodel = pm.auto_arima(data, start_p=1, start_q=1,\n",
        "                         test='adf',\n",
        "                         max_p=3, max_q=3, m=12,\n",
        "                         start_P=0, seasonal=True,\n",
        "                         d=None, D=1, trace=True,\n",
        "                         error_action='ignore',\n",
        "                         suppress_warnings=True,\n",
        "                         stepwise=True)\n",
        "\n",
        "smodel.summary()"
      ],
      "execution_count": null,
      "outputs": []
    },
    {
      "metadata": {
        "id": "5_8hNzN-mJO6"
      },
      "cell_type": "markdown",
      "source": [
        "The model has estimated the AIC and the P values of the coefficients look significant. Let’s look at the residual diagnostics plot.\n",
        "\n",
        "The best model SARIMAX(3, 0, 0)x(0, 1, 1, 12) has an AIC of 528.6 and the P Values are significant.\n",
        "\n",
        "Let’s forecast for the next 24 months."
      ]
    },
    {
      "metadata": {
        "trusted": true,
        "id": "9T-L3dllmJO7"
      },
      "cell_type": "code",
      "source": [
        "# Forecast\n",
        "n_periods = 24\n",
        "fitted, confint = smodel.predict(n_periods=n_periods, return_conf_int=True)\n",
        "index_of_fc = pd.date_range(data.index[-1], periods = n_periods, freq='MS')\n",
        "\n",
        "# make series for plotting purpose\n",
        "fitted_series = pd.Series(fitted, index=index_of_fc)\n",
        "lower_series = pd.Series(confint[:, 0], index=index_of_fc)\n",
        "upper_series = pd.Series(confint[:, 1], index=index_of_fc)\n",
        "\n",
        "# Plot\n",
        "plt.plot(data)\n",
        "plt.plot(fitted_series, color='darkgreen')\n",
        "plt.fill_between(lower_series.index,\n",
        "                 lower_series,\n",
        "                 upper_series,\n",
        "                 color='k', alpha=.15)\n",
        "\n",
        "plt.title(\"SARIMA - Final Forecast of Drug Sales - Time Series Dataset\")\n",
        "plt.show()"
      ],
      "execution_count": null,
      "outputs": []
    },
    {
      "metadata": {
        "id": "8okFj3xtmJO7"
      },
      "cell_type": "markdown",
      "source": [
        "There you have a nice forecast that captures the expected seasonal demand pattern."
      ]
    },
    {
      "metadata": {
        "id": "-vw8vJGWmJO7"
      },
      "cell_type": "markdown",
      "source": [
        "# **15. SARIMAX model with exogeneous variables** <a class=\"anchor\" id=\"15\"></a>\n",
        "\n",
        "\n",
        "[Table of Contents](#0.1)\n",
        "\n",
        "\n",
        "- Now, we will force an external predictor, also called, `exogenous variable` into the model. This model is called the `SARIMAX model`. The only requirement to use an exogenous variable is we should know the value of the variable during the forecast period as well.\n",
        "\n",
        "- I want to see how the model looks if we force the recent seasonality pattern into the training and forecast. The seasonal index is a good exogenous variable because it repeats every frequency cycle, 12 months in this case.\n",
        "\n",
        "- So, we will always know what values the seasonal index will hold for the future forecasts.\n",
        "\n",
        "- Let’s compute the seasonal index so that it can be forced as a (exogenous) predictor to the SARIMAX model."
      ]
    },
    {
      "metadata": {
        "trusted": true,
        "id": "n4rj0IDemJO7"
      },
      "cell_type": "code",
      "source": [
        "# Compute Seasonal Index\n",
        "from statsmodels.tsa.seasonal import seasonal_decompose\n",
        "from dateutil.parser import parse\n",
        "\n",
        "# multiplicative seasonal component\n",
        "result_mul = seasonal_decompose(data['value'][-36:],   # 3 years\n",
        "                                model='multiplicative',\n",
        "                                extrapolate_trend='freq')\n",
        "\n",
        "seasonal_index = result_mul.seasonal[-12:].to_frame()\n",
        "seasonal_index['month'] = pd.to_datetime(seasonal_index.index).month\n",
        "\n",
        "# merge with the base data\n",
        "data['month'] = data.index.month\n",
        "df = pd.merge(data, seasonal_index, how='left', on='month')\n",
        "df.columns = ['value', 'month', 'seasonal_index']\n",
        "df.index = data.index  # reassign the index"
      ],
      "execution_count": null,
      "outputs": []
    },
    {
      "metadata": {
        "id": "EQdEsOphmJO7"
      },
      "cell_type": "markdown",
      "source": [
        "The exogenous variable (seasonal index) is ready. Let’s build the SARIMAX model."
      ]
    },
    {
      "metadata": {
        "trusted": true,
        "id": "ndxYw1rhmJO7"
      },
      "cell_type": "code",
      "source": [
        "import pmdarima as pm\n",
        "\n",
        "# SARIMAX Model\n",
        "sxmodel = pm.auto_arima(df[['value']], exogenous=df[['seasonal_index']],\n",
        "                           start_p=1, start_q=1,\n",
        "                           test='adf',\n",
        "                           max_p=3, max_q=3, m=12,\n",
        "                           start_P=0, seasonal=True,\n",
        "                           d=None, D=1, trace=True,\n",
        "                           error_action='ignore',\n",
        "                           suppress_warnings=True,\n",
        "                           stepwise=True)\n",
        "\n",
        "sxmodel.summary()"
      ],
      "execution_count": null,
      "outputs": []
    },
    {
      "metadata": {
        "id": "mohprJfdmJO7"
      },
      "cell_type": "markdown",
      "source": [
        "# **16. References** <a class=\"anchor\" id=\"16\"></a>\n",
        "\n",
        "\n",
        "[Table of Contents](#0.1)\n",
        "\n",
        "\n",
        "The ideas and codes in this notebook are taken from the following websites.\n",
        "\n",
        "\n",
        "1. https://www.machinelearningplus.com/time-series/arima-model-time-series-forecasting-python/\n",
        "\n",
        "2. https://www.geeksforgeeks.org/python-arima-model-for-time-series-forecasting/\n"
      ]
    },
    {
      "metadata": {
        "id": "1M2d7_FbmJO7"
      },
      "cell_type": "markdown",
      "source": [
        "So, now we will come to the end of this kernel.\n",
        "\n",
        "I hope you find this kernel useful and enjoyable.\n",
        "\n",
        "Your comments and feedback are most welcome.\n",
        "\n",
        "Thank you\n"
      ]
    },
    {
      "metadata": {
        "id": "IWssvOoAmJO7"
      },
      "cell_type": "markdown",
      "source": [
        "[Go to Top](#0)"
      ]
    }
  ],
  "metadata": {
    "kernelspec": {
      "language": "python",
      "display_name": "Python 3",
      "name": "python3"
    },
    "language_info": {
      "pygments_lexer": "ipython3",
      "nbconvert_exporter": "python",
      "version": "3.6.4",
      "file_extension": ".py",
      "codemirror_mode": {
        "name": "ipython",
        "version": 3
      },
      "name": "python",
      "mimetype": "text/x-python"
    },
    "colab": {
      "provenance": [],
      "include_colab_link": true
    }
  },
  "nbformat": 4,
  "nbformat_minor": 0
}